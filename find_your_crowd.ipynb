{
 "cells": [
  {
   "cell_type": "code",
   "execution_count": 183,
   "metadata": {},
   "outputs": [],
   "source": [
    "#Data manipulation and visualization\n",
    "#from datamata import *\n",
    "import numpy as np\n",
    "import pandas as pd\n",
    "\n",
    "import matplotlib.pyplot as plt\n",
    "import seaborn as sns\n",
    "\n",
    "from bokeh.plotting import figure, output_file, show\n",
    "\n",
    "from glob import glob\n",
    "#ML models\n",
    "from sklearn.metrics import *\n",
    "from sklearn.preprocessing import MinMaxScaler, StandardScaler, Normalizer\n",
    "from sklearn.linear_model import LinearRegression\n",
    "from sklearn.linear_model import LogisticRegression\n",
    "from sklearn.tree import DecisionTreeClassifier\n",
    "from sklearn.ensemble import RandomForestClassifier\n",
    "from sklearn.ensemble import GradientBoostingClassifier\n",
    "from sklearn.model_selection import GridSearchCV\n",
    "from sklearn.model_selection import ParameterGrid\n",
    "from sklearn.model_selection import train_test_split\n",
    "from sklearn.model_selection import cross_val_score\n",
    "\n",
    "#import parfit.parfit as pf\n",
    "#Logit and OLS\n",
    "from statsmodels.discrete.discrete_model import Logit\n",
    "from statsmodels.formula.api import ols\n",
    "from statsmodels.api import qqplot\n",
    "import statsmodels.stats as sms\n",
    "from statsmodels.stats.diagnostic import linear_rainbow\n",
    "from statsmodels.stats.diagnostic import het_breuschpagan\n",
    "#Statistics\n",
    "from scipy import stats\n",
    "from scipy.stats import shapiro\n",
    "#Neural Net\n",
    "from keras.models import Sequential\n",
    "from keras.layers import Dense, Activation\n",
    "from keras.utils import to_categorical\n",
    "from keras.callbacks import EarlyStopping"
   ]
  },
  {
   "cell_type": "markdown",
   "metadata": {},
   "source": [
    "## Data importing"
   ]
  },
  {
   "cell_type": "code",
   "execution_count": 4,
   "metadata": {},
   "outputs": [
    {
     "data": {
      "text/plain": [
       "'files = glob(\"*.csv\")\\ndata = pd.Dataframe()\\nfor file in files:\\n    next_data = pd.read_csv(file)\\n    data = pd.concat([data, next_data], axis=0)\\nprint(data.shape)\\ndata.head()'"
      ]
     },
     "execution_count": 4,
     "metadata": {},
     "output_type": "execute_result"
    }
   ],
   "source": [
    "\"\"\"files = glob(\"*.csv\")\n",
    "data = pd.Dataframe()\n",
    "for file in files:\n",
    "    next_data = pd.read_csv(file)\n",
    "    data = pd.concat([data, next_data], axis=0)\n",
    "print(data.shape)\n",
    "data.head()\"\"\""
   ]
  },
  {
   "cell_type": "code",
   "execution_count": 93,
   "metadata": {},
   "outputs": [],
   "source": [
    "#base_data = pd.read_csv(\"kaggle datasets download -d kemical/kickstarter-projects\")\n",
    "base_data = pd.read_csv(\"ks-projects-201801.csv\")"
   ]
  },
  {
   "cell_type": "code",
   "execution_count": 94,
   "metadata": {},
   "outputs": [
    {
     "data": {
      "text/html": [
       "<div>\n",
       "<style scoped>\n",
       "    .dataframe tbody tr th:only-of-type {\n",
       "        vertical-align: middle;\n",
       "    }\n",
       "\n",
       "    .dataframe tbody tr th {\n",
       "        vertical-align: top;\n",
       "    }\n",
       "\n",
       "    .dataframe thead th {\n",
       "        text-align: right;\n",
       "    }\n",
       "</style>\n",
       "<table border=\"1\" class=\"dataframe\">\n",
       "  <thead>\n",
       "    <tr style=\"text-align: right;\">\n",
       "      <th></th>\n",
       "      <th>ID</th>\n",
       "      <th>name</th>\n",
       "      <th>category</th>\n",
       "      <th>main_category</th>\n",
       "      <th>currency</th>\n",
       "      <th>deadline</th>\n",
       "      <th>goal</th>\n",
       "      <th>launched</th>\n",
       "      <th>pledged</th>\n",
       "      <th>state</th>\n",
       "      <th>backers</th>\n",
       "      <th>country</th>\n",
       "      <th>usd pledged</th>\n",
       "      <th>usd_pledged_real</th>\n",
       "      <th>usd_goal_real</th>\n",
       "    </tr>\n",
       "  </thead>\n",
       "  <tbody>\n",
       "    <tr>\n",
       "      <th>0</th>\n",
       "      <td>1000002330</td>\n",
       "      <td>The Songs of Adelaide &amp; Abullah</td>\n",
       "      <td>Poetry</td>\n",
       "      <td>Publishing</td>\n",
       "      <td>GBP</td>\n",
       "      <td>2015-10-09</td>\n",
       "      <td>1000.0</td>\n",
       "      <td>2015-08-11 12:12:28</td>\n",
       "      <td>0.0</td>\n",
       "      <td>failed</td>\n",
       "      <td>0</td>\n",
       "      <td>GB</td>\n",
       "      <td>0.0</td>\n",
       "      <td>0.0</td>\n",
       "      <td>1533.95</td>\n",
       "    </tr>\n",
       "    <tr>\n",
       "      <th>1</th>\n",
       "      <td>1000003930</td>\n",
       "      <td>Greeting From Earth: ZGAC Arts Capsule For ET</td>\n",
       "      <td>Narrative Film</td>\n",
       "      <td>Film &amp; Video</td>\n",
       "      <td>USD</td>\n",
       "      <td>2017-11-01</td>\n",
       "      <td>30000.0</td>\n",
       "      <td>2017-09-02 04:43:57</td>\n",
       "      <td>2421.0</td>\n",
       "      <td>failed</td>\n",
       "      <td>15</td>\n",
       "      <td>US</td>\n",
       "      <td>100.0</td>\n",
       "      <td>2421.0</td>\n",
       "      <td>30000.00</td>\n",
       "    </tr>\n",
       "    <tr>\n",
       "      <th>2</th>\n",
       "      <td>1000004038</td>\n",
       "      <td>Where is Hank?</td>\n",
       "      <td>Narrative Film</td>\n",
       "      <td>Film &amp; Video</td>\n",
       "      <td>USD</td>\n",
       "      <td>2013-02-26</td>\n",
       "      <td>45000.0</td>\n",
       "      <td>2013-01-12 00:20:50</td>\n",
       "      <td>220.0</td>\n",
       "      <td>failed</td>\n",
       "      <td>3</td>\n",
       "      <td>US</td>\n",
       "      <td>220.0</td>\n",
       "      <td>220.0</td>\n",
       "      <td>45000.00</td>\n",
       "    </tr>\n",
       "    <tr>\n",
       "      <th>3</th>\n",
       "      <td>1000007540</td>\n",
       "      <td>ToshiCapital Rekordz Needs Help to Complete Album</td>\n",
       "      <td>Music</td>\n",
       "      <td>Music</td>\n",
       "      <td>USD</td>\n",
       "      <td>2012-04-16</td>\n",
       "      <td>5000.0</td>\n",
       "      <td>2012-03-17 03:24:11</td>\n",
       "      <td>1.0</td>\n",
       "      <td>failed</td>\n",
       "      <td>1</td>\n",
       "      <td>US</td>\n",
       "      <td>1.0</td>\n",
       "      <td>1.0</td>\n",
       "      <td>5000.00</td>\n",
       "    </tr>\n",
       "    <tr>\n",
       "      <th>4</th>\n",
       "      <td>1000011046</td>\n",
       "      <td>Community Film Project: The Art of Neighborhoo...</td>\n",
       "      <td>Film &amp; Video</td>\n",
       "      <td>Film &amp; Video</td>\n",
       "      <td>USD</td>\n",
       "      <td>2015-08-29</td>\n",
       "      <td>19500.0</td>\n",
       "      <td>2015-07-04 08:35:03</td>\n",
       "      <td>1283.0</td>\n",
       "      <td>canceled</td>\n",
       "      <td>14</td>\n",
       "      <td>US</td>\n",
       "      <td>1283.0</td>\n",
       "      <td>1283.0</td>\n",
       "      <td>19500.00</td>\n",
       "    </tr>\n",
       "  </tbody>\n",
       "</table>\n",
       "</div>"
      ],
      "text/plain": [
       "           ID                                               name  \\\n",
       "0  1000002330                    The Songs of Adelaide & Abullah   \n",
       "1  1000003930      Greeting From Earth: ZGAC Arts Capsule For ET   \n",
       "2  1000004038                                     Where is Hank?   \n",
       "3  1000007540  ToshiCapital Rekordz Needs Help to Complete Album   \n",
       "4  1000011046  Community Film Project: The Art of Neighborhoo...   \n",
       "\n",
       "         category main_category currency    deadline     goal  \\\n",
       "0          Poetry    Publishing      GBP  2015-10-09   1000.0   \n",
       "1  Narrative Film  Film & Video      USD  2017-11-01  30000.0   \n",
       "2  Narrative Film  Film & Video      USD  2013-02-26  45000.0   \n",
       "3           Music         Music      USD  2012-04-16   5000.0   \n",
       "4    Film & Video  Film & Video      USD  2015-08-29  19500.0   \n",
       "\n",
       "              launched  pledged     state  backers country  usd pledged  \\\n",
       "0  2015-08-11 12:12:28      0.0    failed        0      GB          0.0   \n",
       "1  2017-09-02 04:43:57   2421.0    failed       15      US        100.0   \n",
       "2  2013-01-12 00:20:50    220.0    failed        3      US        220.0   \n",
       "3  2012-03-17 03:24:11      1.0    failed        1      US          1.0   \n",
       "4  2015-07-04 08:35:03   1283.0  canceled       14      US       1283.0   \n",
       "\n",
       "   usd_pledged_real  usd_goal_real  \n",
       "0               0.0        1533.95  \n",
       "1            2421.0       30000.00  \n",
       "2             220.0       45000.00  \n",
       "3               1.0        5000.00  \n",
       "4            1283.0       19500.00  "
      ]
     },
     "execution_count": 94,
     "metadata": {},
     "output_type": "execute_result"
    }
   ],
   "source": [
    "base_data.head()"
   ]
  },
  {
   "cell_type": "markdown",
   "metadata": {},
   "source": [
    "## Data Cleaning and EDA"
   ]
  },
  {
   "cell_type": "code",
   "execution_count": 7,
   "metadata": {},
   "outputs": [
    {
     "name": "stdout",
     "output_type": "stream",
     "text": [
      "<class 'pandas.core.frame.DataFrame'>\n",
      "RangeIndex: 378661 entries, 0 to 378660\n",
      "Data columns (total 15 columns):\n",
      "ID                  378661 non-null int64\n",
      "name                378657 non-null object\n",
      "category            378661 non-null object\n",
      "main_category       378661 non-null object\n",
      "currency            378661 non-null object\n",
      "deadline            378661 non-null object\n",
      "goal                378661 non-null float64\n",
      "launched            378661 non-null object\n",
      "pledged             378661 non-null float64\n",
      "state               378661 non-null object\n",
      "backers             378661 non-null int64\n",
      "country             378661 non-null object\n",
      "usd pledged         374864 non-null float64\n",
      "usd_pledged_real    378661 non-null float64\n",
      "usd_goal_real       378661 non-null float64\n",
      "dtypes: float64(5), int64(2), object(8)\n",
      "memory usage: 43.3+ MB\n"
     ]
    }
   ],
   "source": [
    "base_data.info()"
   ]
  },
  {
   "cell_type": "code",
   "execution_count": 95,
   "metadata": {},
   "outputs": [
    {
     "name": "stdout",
     "output_type": "stream",
     "text": [
      "Percent of missing values in variables.\n"
     ]
    },
    {
     "data": {
      "text/html": [
       "<div>\n",
       "<style scoped>\n",
       "    .dataframe tbody tr th:only-of-type {\n",
       "        vertical-align: middle;\n",
       "    }\n",
       "\n",
       "    .dataframe tbody tr th {\n",
       "        vertical-align: top;\n",
       "    }\n",
       "\n",
       "    .dataframe thead th {\n",
       "        text-align: right;\n",
       "    }\n",
       "</style>\n",
       "<table border=\"1\" class=\"dataframe\">\n",
       "  <thead>\n",
       "    <tr style=\"text-align: right;\">\n",
       "      <th></th>\n",
       "      <th>Amount</th>\n",
       "      <th>Percent</th>\n",
       "    </tr>\n",
       "  </thead>\n",
       "  <tbody>\n",
       "    <tr>\n",
       "      <th>usd pledged</th>\n",
       "      <td>3797</td>\n",
       "      <td>1.0</td>\n",
       "    </tr>\n",
       "    <tr>\n",
       "      <th>name</th>\n",
       "      <td>4</td>\n",
       "      <td>0.0</td>\n",
       "    </tr>\n",
       "  </tbody>\n",
       "</table>\n",
       "</div>"
      ],
      "text/plain": [
       "             Amount  Percent\n",
       "usd pledged    3797      1.0\n",
       "name              4      0.0"
      ]
     },
     "execution_count": 95,
     "metadata": {},
     "output_type": "execute_result"
    }
   ],
   "source": [
    "#missing values\n",
    "print(\"Percent of missing values in variables.\")\n",
    "miss_perc = pd.DataFrame({\n",
    "    \"Amount\": base_data.isnull().sum(), \n",
    "    \"Percent\": (base_data.isnull().sum() / len(base_data)).round(2) * 100},\n",
    "    index=base_data.columns).sort_values(\"Percent\", ascending=False)\n",
    "miss_perc[miss_perc['Amount'] > 0]"
   ]
  },
  {
   "cell_type": "code",
   "execution_count": 96,
   "metadata": {},
   "outputs": [
    {
     "name": "stdout",
     "output_type": "stream",
     "text": [
      "Percent of duplicate values in 'usd pledged' and 'usd_pledged_real' variables:\n",
      " 61.0\n"
     ]
    }
   ],
   "source": [
    "#amount of duplicate values in variables\n",
    "duplicate_perc = (base_data.duplicated([\"usd pledged\", \n",
    "                                        \"usd_pledged_real\"]).sum() / len(base_data)).round(2) * 100\n",
    "print(\"Percent of duplicate values in 'usd pledged' and 'usd_pledged_real' variables:\\n\", duplicate_perc)"
   ]
  },
  {
   "cell_type": "markdown",
   "metadata": {},
   "source": [
    "There are 15 columns and 378661 observations in original data.<br>\n",
    "Let's look through columns and see if they contain missing values and if we can drop them\n",
    "- ID: we don't need this column, it is unique for each campaign\n",
    "- name: like ID case it is unique for each row and does not contain information\n",
    "    - It also has null values\n",
    "- goal: this column has values that are from different currencies and real value is in usd_goal_real\n",
    "- pledged: same situation as in goal column\n",
    "- usd pledged: this one contains many missing values and in some cases the values are wrong calculated\n",
    "    - The real correctly calculated information is in usd_pledged_real\n",
    "    \n",
    "So we need drop these predictors.<br>\n",
    "For others we need more information"
   ]
  },
  {
   "cell_type": "code",
   "execution_count": 10,
   "metadata": {},
   "outputs": [
    {
     "data": {
      "text/html": [
       "<div>\n",
       "<style scoped>\n",
       "    .dataframe tbody tr th:only-of-type {\n",
       "        vertical-align: middle;\n",
       "    }\n",
       "\n",
       "    .dataframe tbody tr th {\n",
       "        vertical-align: top;\n",
       "    }\n",
       "\n",
       "    .dataframe thead th {\n",
       "        text-align: right;\n",
       "    }\n",
       "</style>\n",
       "<table border=\"1\" class=\"dataframe\">\n",
       "  <thead>\n",
       "    <tr style=\"text-align: right;\">\n",
       "      <th></th>\n",
       "      <th>ID</th>\n",
       "      <th>goal</th>\n",
       "      <th>pledged</th>\n",
       "      <th>backers</th>\n",
       "      <th>usd pledged</th>\n",
       "      <th>usd_pledged_real</th>\n",
       "      <th>usd_goal_real</th>\n",
       "    </tr>\n",
       "  </thead>\n",
       "  <tbody>\n",
       "    <tr>\n",
       "      <th>count</th>\n",
       "      <td>3.786610e+05</td>\n",
       "      <td>3.786610e+05</td>\n",
       "      <td>3.786610e+05</td>\n",
       "      <td>378661.000000</td>\n",
       "      <td>3.748640e+05</td>\n",
       "      <td>3.786610e+05</td>\n",
       "      <td>3.786610e+05</td>\n",
       "    </tr>\n",
       "    <tr>\n",
       "      <th>mean</th>\n",
       "      <td>1.074731e+09</td>\n",
       "      <td>4.908079e+04</td>\n",
       "      <td>9.682979e+03</td>\n",
       "      <td>105.617476</td>\n",
       "      <td>7.036729e+03</td>\n",
       "      <td>9.058924e+03</td>\n",
       "      <td>4.545440e+04</td>\n",
       "    </tr>\n",
       "    <tr>\n",
       "      <th>std</th>\n",
       "      <td>6.190862e+08</td>\n",
       "      <td>1.183391e+06</td>\n",
       "      <td>9.563601e+04</td>\n",
       "      <td>907.185035</td>\n",
       "      <td>7.863975e+04</td>\n",
       "      <td>9.097334e+04</td>\n",
       "      <td>1.152950e+06</td>\n",
       "    </tr>\n",
       "    <tr>\n",
       "      <th>min</th>\n",
       "      <td>5.971000e+03</td>\n",
       "      <td>1.000000e-02</td>\n",
       "      <td>0.000000e+00</td>\n",
       "      <td>0.000000</td>\n",
       "      <td>0.000000e+00</td>\n",
       "      <td>0.000000e+00</td>\n",
       "      <td>1.000000e-02</td>\n",
       "    </tr>\n",
       "    <tr>\n",
       "      <th>25%</th>\n",
       "      <td>5.382635e+08</td>\n",
       "      <td>2.000000e+03</td>\n",
       "      <td>3.000000e+01</td>\n",
       "      <td>2.000000</td>\n",
       "      <td>1.698000e+01</td>\n",
       "      <td>3.100000e+01</td>\n",
       "      <td>2.000000e+03</td>\n",
       "    </tr>\n",
       "    <tr>\n",
       "      <th>50%</th>\n",
       "      <td>1.075276e+09</td>\n",
       "      <td>5.200000e+03</td>\n",
       "      <td>6.200000e+02</td>\n",
       "      <td>12.000000</td>\n",
       "      <td>3.947200e+02</td>\n",
       "      <td>6.243300e+02</td>\n",
       "      <td>5.500000e+03</td>\n",
       "    </tr>\n",
       "    <tr>\n",
       "      <th>75%</th>\n",
       "      <td>1.610149e+09</td>\n",
       "      <td>1.600000e+04</td>\n",
       "      <td>4.076000e+03</td>\n",
       "      <td>56.000000</td>\n",
       "      <td>3.034090e+03</td>\n",
       "      <td>4.050000e+03</td>\n",
       "      <td>1.550000e+04</td>\n",
       "    </tr>\n",
       "    <tr>\n",
       "      <th>max</th>\n",
       "      <td>2.147476e+09</td>\n",
       "      <td>1.000000e+08</td>\n",
       "      <td>2.033899e+07</td>\n",
       "      <td>219382.000000</td>\n",
       "      <td>2.033899e+07</td>\n",
       "      <td>2.033899e+07</td>\n",
       "      <td>1.663614e+08</td>\n",
       "    </tr>\n",
       "  </tbody>\n",
       "</table>\n",
       "</div>"
      ],
      "text/plain": [
       "                 ID          goal       pledged        backers   usd pledged  \\\n",
       "count  3.786610e+05  3.786610e+05  3.786610e+05  378661.000000  3.748640e+05   \n",
       "mean   1.074731e+09  4.908079e+04  9.682979e+03     105.617476  7.036729e+03   \n",
       "std    6.190862e+08  1.183391e+06  9.563601e+04     907.185035  7.863975e+04   \n",
       "min    5.971000e+03  1.000000e-02  0.000000e+00       0.000000  0.000000e+00   \n",
       "25%    5.382635e+08  2.000000e+03  3.000000e+01       2.000000  1.698000e+01   \n",
       "50%    1.075276e+09  5.200000e+03  6.200000e+02      12.000000  3.947200e+02   \n",
       "75%    1.610149e+09  1.600000e+04  4.076000e+03      56.000000  3.034090e+03   \n",
       "max    2.147476e+09  1.000000e+08  2.033899e+07  219382.000000  2.033899e+07   \n",
       "\n",
       "       usd_pledged_real  usd_goal_real  \n",
       "count      3.786610e+05   3.786610e+05  \n",
       "mean       9.058924e+03   4.545440e+04  \n",
       "std        9.097334e+04   1.152950e+06  \n",
       "min        0.000000e+00   1.000000e-02  \n",
       "25%        3.100000e+01   2.000000e+03  \n",
       "50%        6.243300e+02   5.500000e+03  \n",
       "75%        4.050000e+03   1.550000e+04  \n",
       "max        2.033899e+07   1.663614e+08  "
      ]
     },
     "execution_count": 10,
     "metadata": {},
     "output_type": "execute_result"
    }
   ],
   "source": [
    "base_data.describe()"
   ]
  },
  {
   "cell_type": "code",
   "execution_count": 11,
   "metadata": {},
   "outputs": [
    {
     "name": "stdout",
     "output_type": "stream",
     "text": [
      "Number of unique values: 159\n"
     ]
    },
    {
     "data": {
      "image/png": "[encoded data removed]",
      "text/plain": [
       "<Figure size 864x360 with 1 Axes>"
      ]
     },
     "metadata": {},
     "output_type": "display_data"
    },
    {
     "name": "stdout",
     "output_type": "stream",
     "text": [
      "Number of unique values: 15\n"
     ]
    },
    {
     "data": {
      "image/png": "[encoded data removed]",
      "text/plain": [
       "<Figure size 864x360 with 1 Axes>"
      ]
     },
     "metadata": {},
     "output_type": "display_data"
    }
   ],
   "source": [
    "for i in base_data[[\"category\", \"main_category\"]]:\n",
    "    number = base_data[i].nunique()\n",
    "    print(\"Number of unique values: {}\".format(number))\n",
    "    base_data[i].value_counts().sort_values(ascending=False)[:15].plot(kind=\"barh\",\n",
    "                                                                       title=\"Top 15 categories for {}\".format(i),\n",
    "                                                                       figsize=(12,5))\n",
    "    plt.show()"
   ]
  },
  {
   "cell_type": "code",
   "execution_count": 12,
   "metadata": {},
   "outputs": [
    {
     "data": {
      "text/plain": [
       "378491"
      ]
     },
     "execution_count": 12,
     "metadata": {},
     "output_type": "execute_result"
    }
   ],
   "source": [
    "#checking duplicates in main_category and category variables\n",
    "base_data.duplicated([\"main_category\", \"category\"]).sum()"
   ]
  },
  {
   "cell_type": "code",
   "execution_count": 13,
   "metadata": {},
   "outputs": [
    {
     "name": "stdout",
     "output_type": "stream",
     "text": [
      "Number of unique countries: 23\n"
     ]
    },
    {
     "data": {
      "text/plain": [
       "<matplotlib.axes._subplots.AxesSubplot at 0x29fcc272128>"
      ]
     },
     "execution_count": 13,
     "metadata": {},
     "output_type": "execute_result"
    },
    {
     "data": {
      "image/png": "[encoded data removed]",
      "text/plain": [
       "<Figure size 864x360 with 1 Axes>"
      ]
     },
     "metadata": {},
     "output_type": "display_data"
    }
   ],
   "source": [
    "print(\"Number of unique countries:\", base_data.country.nunique())\n",
    "base_data[\"country\"].value_counts().sort_values(ascending=False)[:5].plot(kind=\"barh\", \n",
    "                                                                          title=\"Top 5 Countries.\",\n",
    "                                                                          figsize=(12, 5))"
   ]
  },
  {
   "cell_type": "code",
   "execution_count": 14,
   "metadata": {},
   "outputs": [
    {
     "name": "stdout",
     "output_type": "stream",
     "text": [
      "Number of unique currencies: 14\n"
     ]
    },
    {
     "data": {
      "text/plain": [
       "<matplotlib.axes._subplots.AxesSubplot at 0x29fc42f93c8>"
      ]
     },
     "execution_count": 14,
     "metadata": {},
     "output_type": "execute_result"
    },
    {
     "data": {
      "image/png": "[encoded data removed]",
      "text/plain": [
       "<Figure size 864x360 with 1 Axes>"
      ]
     },
     "metadata": {},
     "output_type": "display_data"
    }
   ],
   "source": [
    "print(\"Number of unique currencies:\", base_data.currency.nunique())\n",
    "base_data[\"currency\"].value_counts().sort_values(ascending=False)[:5].plot(kind=\"barh\", \n",
    "                                                                           title=\"Top 5 Currencies.\",\n",
    "                                                                           figsize=(12, 5))"
   ]
  },
  {
   "cell_type": "code",
   "execution_count": 15,
   "metadata": {},
   "outputs": [
    {
     "data": {
      "text/html": [
       "<div>\n",
       "<style scoped>\n",
       "    .dataframe tbody tr th:only-of-type {\n",
       "        vertical-align: middle;\n",
       "    }\n",
       "\n",
       "    .dataframe tbody tr th {\n",
       "        vertical-align: top;\n",
       "    }\n",
       "\n",
       "    .dataframe thead th {\n",
       "        text-align: right;\n",
       "    }\n",
       "</style>\n",
       "<table border=\"1\" class=\"dataframe\">\n",
       "  <thead>\n",
       "    <tr style=\"text-align: right;\">\n",
       "      <th>currency</th>\n",
       "      <th>AUD</th>\n",
       "      <th>CAD</th>\n",
       "      <th>CHF</th>\n",
       "      <th>DKK</th>\n",
       "      <th>EUR</th>\n",
       "      <th>GBP</th>\n",
       "      <th>HKD</th>\n",
       "      <th>JPY</th>\n",
       "      <th>MXN</th>\n",
       "      <th>NOK</th>\n",
       "      <th>NZD</th>\n",
       "      <th>SEK</th>\n",
       "      <th>SGD</th>\n",
       "      <th>USD</th>\n",
       "    </tr>\n",
       "    <tr>\n",
       "      <th>country</th>\n",
       "      <th></th>\n",
       "      <th></th>\n",
       "      <th></th>\n",
       "      <th></th>\n",
       "      <th></th>\n",
       "      <th></th>\n",
       "      <th></th>\n",
       "      <th></th>\n",
       "      <th></th>\n",
       "      <th></th>\n",
       "      <th></th>\n",
       "      <th></th>\n",
       "      <th></th>\n",
       "      <th></th>\n",
       "    </tr>\n",
       "  </thead>\n",
       "  <tbody>\n",
       "    <tr>\n",
       "      <th>AT</th>\n",
       "      <td>0</td>\n",
       "      <td>0</td>\n",
       "      <td>0</td>\n",
       "      <td>0</td>\n",
       "      <td>597</td>\n",
       "      <td>0</td>\n",
       "      <td>0</td>\n",
       "      <td>0</td>\n",
       "      <td>0</td>\n",
       "      <td>0</td>\n",
       "      <td>0</td>\n",
       "      <td>0</td>\n",
       "      <td>0</td>\n",
       "      <td>0</td>\n",
       "    </tr>\n",
       "    <tr>\n",
       "      <th>AU</th>\n",
       "      <td>7839</td>\n",
       "      <td>0</td>\n",
       "      <td>0</td>\n",
       "      <td>0</td>\n",
       "      <td>0</td>\n",
       "      <td>0</td>\n",
       "      <td>0</td>\n",
       "      <td>0</td>\n",
       "      <td>0</td>\n",
       "      <td>0</td>\n",
       "      <td>0</td>\n",
       "      <td>0</td>\n",
       "      <td>0</td>\n",
       "      <td>0</td>\n",
       "    </tr>\n",
       "    <tr>\n",
       "      <th>BE</th>\n",
       "      <td>0</td>\n",
       "      <td>0</td>\n",
       "      <td>0</td>\n",
       "      <td>0</td>\n",
       "      <td>617</td>\n",
       "      <td>0</td>\n",
       "      <td>0</td>\n",
       "      <td>0</td>\n",
       "      <td>0</td>\n",
       "      <td>0</td>\n",
       "      <td>0</td>\n",
       "      <td>0</td>\n",
       "      <td>0</td>\n",
       "      <td>0</td>\n",
       "    </tr>\n",
       "    <tr>\n",
       "      <th>CA</th>\n",
       "      <td>0</td>\n",
       "      <td>14756</td>\n",
       "      <td>0</td>\n",
       "      <td>0</td>\n",
       "      <td>0</td>\n",
       "      <td>0</td>\n",
       "      <td>0</td>\n",
       "      <td>0</td>\n",
       "      <td>0</td>\n",
       "      <td>0</td>\n",
       "      <td>0</td>\n",
       "      <td>0</td>\n",
       "      <td>0</td>\n",
       "      <td>0</td>\n",
       "    </tr>\n",
       "    <tr>\n",
       "      <th>CH</th>\n",
       "      <td>0</td>\n",
       "      <td>0</td>\n",
       "      <td>761</td>\n",
       "      <td>0</td>\n",
       "      <td>0</td>\n",
       "      <td>0</td>\n",
       "      <td>0</td>\n",
       "      <td>0</td>\n",
       "      <td>0</td>\n",
       "      <td>0</td>\n",
       "      <td>0</td>\n",
       "      <td>0</td>\n",
       "      <td>0</td>\n",
       "      <td>0</td>\n",
       "    </tr>\n",
       "    <tr>\n",
       "      <th>DE</th>\n",
       "      <td>0</td>\n",
       "      <td>0</td>\n",
       "      <td>0</td>\n",
       "      <td>0</td>\n",
       "      <td>4171</td>\n",
       "      <td>0</td>\n",
       "      <td>0</td>\n",
       "      <td>0</td>\n",
       "      <td>0</td>\n",
       "      <td>0</td>\n",
       "      <td>0</td>\n",
       "      <td>0</td>\n",
       "      <td>0</td>\n",
       "      <td>0</td>\n",
       "    </tr>\n",
       "    <tr>\n",
       "      <th>DK</th>\n",
       "      <td>0</td>\n",
       "      <td>0</td>\n",
       "      <td>0</td>\n",
       "      <td>1113</td>\n",
       "      <td>0</td>\n",
       "      <td>0</td>\n",
       "      <td>0</td>\n",
       "      <td>0</td>\n",
       "      <td>0</td>\n",
       "      <td>0</td>\n",
       "      <td>0</td>\n",
       "      <td>0</td>\n",
       "      <td>0</td>\n",
       "      <td>0</td>\n",
       "    </tr>\n",
       "    <tr>\n",
       "      <th>ES</th>\n",
       "      <td>0</td>\n",
       "      <td>0</td>\n",
       "      <td>0</td>\n",
       "      <td>0</td>\n",
       "      <td>2276</td>\n",
       "      <td>0</td>\n",
       "      <td>0</td>\n",
       "      <td>0</td>\n",
       "      <td>0</td>\n",
       "      <td>0</td>\n",
       "      <td>0</td>\n",
       "      <td>0</td>\n",
       "      <td>0</td>\n",
       "      <td>0</td>\n",
       "    </tr>\n",
       "    <tr>\n",
       "      <th>FR</th>\n",
       "      <td>0</td>\n",
       "      <td>0</td>\n",
       "      <td>0</td>\n",
       "      <td>0</td>\n",
       "      <td>2939</td>\n",
       "      <td>0</td>\n",
       "      <td>0</td>\n",
       "      <td>0</td>\n",
       "      <td>0</td>\n",
       "      <td>0</td>\n",
       "      <td>0</td>\n",
       "      <td>0</td>\n",
       "      <td>0</td>\n",
       "      <td>0</td>\n",
       "    </tr>\n",
       "    <tr>\n",
       "      <th>GB</th>\n",
       "      <td>0</td>\n",
       "      <td>0</td>\n",
       "      <td>0</td>\n",
       "      <td>0</td>\n",
       "      <td>0</td>\n",
       "      <td>33672</td>\n",
       "      <td>0</td>\n",
       "      <td>0</td>\n",
       "      <td>0</td>\n",
       "      <td>0</td>\n",
       "      <td>0</td>\n",
       "      <td>0</td>\n",
       "      <td>0</td>\n",
       "      <td>0</td>\n",
       "    </tr>\n",
       "    <tr>\n",
       "      <th>HK</th>\n",
       "      <td>0</td>\n",
       "      <td>0</td>\n",
       "      <td>0</td>\n",
       "      <td>0</td>\n",
       "      <td>0</td>\n",
       "      <td>0</td>\n",
       "      <td>618</td>\n",
       "      <td>0</td>\n",
       "      <td>0</td>\n",
       "      <td>0</td>\n",
       "      <td>0</td>\n",
       "      <td>0</td>\n",
       "      <td>0</td>\n",
       "      <td>0</td>\n",
       "    </tr>\n",
       "    <tr>\n",
       "      <th>IE</th>\n",
       "      <td>0</td>\n",
       "      <td>0</td>\n",
       "      <td>0</td>\n",
       "      <td>0</td>\n",
       "      <td>811</td>\n",
       "      <td>0</td>\n",
       "      <td>0</td>\n",
       "      <td>0</td>\n",
       "      <td>0</td>\n",
       "      <td>0</td>\n",
       "      <td>0</td>\n",
       "      <td>0</td>\n",
       "      <td>0</td>\n",
       "      <td>0</td>\n",
       "    </tr>\n",
       "    <tr>\n",
       "      <th>IT</th>\n",
       "      <td>0</td>\n",
       "      <td>0</td>\n",
       "      <td>0</td>\n",
       "      <td>0</td>\n",
       "      <td>2878</td>\n",
       "      <td>0</td>\n",
       "      <td>0</td>\n",
       "      <td>0</td>\n",
       "      <td>0</td>\n",
       "      <td>0</td>\n",
       "      <td>0</td>\n",
       "      <td>0</td>\n",
       "      <td>0</td>\n",
       "      <td>0</td>\n",
       "    </tr>\n",
       "    <tr>\n",
       "      <th>JP</th>\n",
       "      <td>0</td>\n",
       "      <td>0</td>\n",
       "      <td>0</td>\n",
       "      <td>0</td>\n",
       "      <td>0</td>\n",
       "      <td>0</td>\n",
       "      <td>0</td>\n",
       "      <td>40</td>\n",
       "      <td>0</td>\n",
       "      <td>0</td>\n",
       "      <td>0</td>\n",
       "      <td>0</td>\n",
       "      <td>0</td>\n",
       "      <td>0</td>\n",
       "    </tr>\n",
       "    <tr>\n",
       "      <th>LU</th>\n",
       "      <td>0</td>\n",
       "      <td>0</td>\n",
       "      <td>0</td>\n",
       "      <td>0</td>\n",
       "      <td>62</td>\n",
       "      <td>0</td>\n",
       "      <td>0</td>\n",
       "      <td>0</td>\n",
       "      <td>0</td>\n",
       "      <td>0</td>\n",
       "      <td>0</td>\n",
       "      <td>0</td>\n",
       "      <td>0</td>\n",
       "      <td>0</td>\n",
       "    </tr>\n",
       "    <tr>\n",
       "      <th>MX</th>\n",
       "      <td>0</td>\n",
       "      <td>0</td>\n",
       "      <td>0</td>\n",
       "      <td>0</td>\n",
       "      <td>0</td>\n",
       "      <td>0</td>\n",
       "      <td>0</td>\n",
       "      <td>0</td>\n",
       "      <td>1752</td>\n",
       "      <td>0</td>\n",
       "      <td>0</td>\n",
       "      <td>0</td>\n",
       "      <td>0</td>\n",
       "      <td>0</td>\n",
       "    </tr>\n",
       "    <tr>\n",
       "      <th>N,0\"</th>\n",
       "      <td>111</td>\n",
       "      <td>206</td>\n",
       "      <td>7</td>\n",
       "      <td>16</td>\n",
       "      <td>186</td>\n",
       "      <td>460</td>\n",
       "      <td>0</td>\n",
       "      <td>0</td>\n",
       "      <td>0</td>\n",
       "      <td>14</td>\n",
       "      <td>28</td>\n",
       "      <td>31</td>\n",
       "      <td>0</td>\n",
       "      <td>2738</td>\n",
       "    </tr>\n",
       "    <tr>\n",
       "      <th>NL</th>\n",
       "      <td>0</td>\n",
       "      <td>0</td>\n",
       "      <td>0</td>\n",
       "      <td>0</td>\n",
       "      <td>2868</td>\n",
       "      <td>0</td>\n",
       "      <td>0</td>\n",
       "      <td>0</td>\n",
       "      <td>0</td>\n",
       "      <td>0</td>\n",
       "      <td>0</td>\n",
       "      <td>0</td>\n",
       "      <td>0</td>\n",
       "      <td>0</td>\n",
       "    </tr>\n",
       "    <tr>\n",
       "      <th>NO</th>\n",
       "      <td>0</td>\n",
       "      <td>0</td>\n",
       "      <td>0</td>\n",
       "      <td>0</td>\n",
       "      <td>0</td>\n",
       "      <td>0</td>\n",
       "      <td>0</td>\n",
       "      <td>0</td>\n",
       "      <td>0</td>\n",
       "      <td>708</td>\n",
       "      <td>0</td>\n",
       "      <td>0</td>\n",
       "      <td>0</td>\n",
       "      <td>0</td>\n",
       "    </tr>\n",
       "    <tr>\n",
       "      <th>NZ</th>\n",
       "      <td>0</td>\n",
       "      <td>0</td>\n",
       "      <td>0</td>\n",
       "      <td>0</td>\n",
       "      <td>0</td>\n",
       "      <td>0</td>\n",
       "      <td>0</td>\n",
       "      <td>0</td>\n",
       "      <td>0</td>\n",
       "      <td>0</td>\n",
       "      <td>1447</td>\n",
       "      <td>0</td>\n",
       "      <td>0</td>\n",
       "      <td>0</td>\n",
       "    </tr>\n",
       "    <tr>\n",
       "      <th>SE</th>\n",
       "      <td>0</td>\n",
       "      <td>0</td>\n",
       "      <td>0</td>\n",
       "      <td>0</td>\n",
       "      <td>0</td>\n",
       "      <td>0</td>\n",
       "      <td>0</td>\n",
       "      <td>0</td>\n",
       "      <td>0</td>\n",
       "      <td>0</td>\n",
       "      <td>0</td>\n",
       "      <td>1757</td>\n",
       "      <td>0</td>\n",
       "      <td>0</td>\n",
       "    </tr>\n",
       "    <tr>\n",
       "      <th>SG</th>\n",
       "      <td>0</td>\n",
       "      <td>0</td>\n",
       "      <td>0</td>\n",
       "      <td>0</td>\n",
       "      <td>0</td>\n",
       "      <td>0</td>\n",
       "      <td>0</td>\n",
       "      <td>0</td>\n",
       "      <td>0</td>\n",
       "      <td>0</td>\n",
       "      <td>0</td>\n",
       "      <td>0</td>\n",
       "      <td>555</td>\n",
       "      <td>0</td>\n",
       "    </tr>\n",
       "    <tr>\n",
       "      <th>US</th>\n",
       "      <td>0</td>\n",
       "      <td>0</td>\n",
       "      <td>0</td>\n",
       "      <td>0</td>\n",
       "      <td>0</td>\n",
       "      <td>0</td>\n",
       "      <td>0</td>\n",
       "      <td>0</td>\n",
       "      <td>0</td>\n",
       "      <td>0</td>\n",
       "      <td>0</td>\n",
       "      <td>0</td>\n",
       "      <td>0</td>\n",
       "      <td>292627</td>\n",
       "    </tr>\n",
       "  </tbody>\n",
       "</table>\n",
       "</div>"
      ],
      "text/plain": [
       "currency   AUD    CAD  CHF   DKK   EUR    GBP  HKD  JPY   MXN  NOK   NZD  \\\n",
       "country                                                                    \n",
       "AT           0      0    0     0   597      0    0    0     0    0     0   \n",
       "AU        7839      0    0     0     0      0    0    0     0    0     0   \n",
       "BE           0      0    0     0   617      0    0    0     0    0     0   \n",
       "CA           0  14756    0     0     0      0    0    0     0    0     0   \n",
       "CH           0      0  761     0     0      0    0    0     0    0     0   \n",
       "DE           0      0    0     0  4171      0    0    0     0    0     0   \n",
       "DK           0      0    0  1113     0      0    0    0     0    0     0   \n",
       "ES           0      0    0     0  2276      0    0    0     0    0     0   \n",
       "FR           0      0    0     0  2939      0    0    0     0    0     0   \n",
       "GB           0      0    0     0     0  33672    0    0     0    0     0   \n",
       "HK           0      0    0     0     0      0  618    0     0    0     0   \n",
       "IE           0      0    0     0   811      0    0    0     0    0     0   \n",
       "IT           0      0    0     0  2878      0    0    0     0    0     0   \n",
       "JP           0      0    0     0     0      0    0   40     0    0     0   \n",
       "LU           0      0    0     0    62      0    0    0     0    0     0   \n",
       "MX           0      0    0     0     0      0    0    0  1752    0     0   \n",
       "N,0\"       111    206    7    16   186    460    0    0     0   14    28   \n",
       "NL           0      0    0     0  2868      0    0    0     0    0     0   \n",
       "NO           0      0    0     0     0      0    0    0     0  708     0   \n",
       "NZ           0      0    0     0     0      0    0    0     0    0  1447   \n",
       "SE           0      0    0     0     0      0    0    0     0    0     0   \n",
       "SG           0      0    0     0     0      0    0    0     0    0     0   \n",
       "US           0      0    0     0     0      0    0    0     0    0     0   \n",
       "\n",
       "currency   SEK  SGD     USD  \n",
       "country                      \n",
       "AT           0    0       0  \n",
       "AU           0    0       0  \n",
       "BE           0    0       0  \n",
       "CA           0    0       0  \n",
       "CH           0    0       0  \n",
       "DE           0    0       0  \n",
       "DK           0    0       0  \n",
       "ES           0    0       0  \n",
       "FR           0    0       0  \n",
       "GB           0    0       0  \n",
       "HK           0    0       0  \n",
       "IE           0    0       0  \n",
       "IT           0    0       0  \n",
       "JP           0    0       0  \n",
       "LU           0    0       0  \n",
       "MX           0    0       0  \n",
       "N,0\"        31    0    2738  \n",
       "NL           0    0       0  \n",
       "NO           0    0       0  \n",
       "NZ           0    0       0  \n",
       "SE        1757    0       0  \n",
       "SG           0  555       0  \n",
       "US           0    0  292627  "
      ]
     },
     "execution_count": 15,
     "metadata": {},
     "output_type": "execute_result"
    }
   ],
   "source": [
    "pd.crosstab(base_data['country'], base_data['currency'])"
   ]
  },
  {
   "cell_type": "code",
   "execution_count": 15,
   "metadata": {},
   "outputs": [
    {
     "data": {
      "text/plain": [
       "<seaborn.axisgrid.PairGrid at 0x104e3eb8>"
      ]
     },
     "execution_count": 15,
     "metadata": {},
     "output_type": "execute_result"
    },
    {
     "data": {
      "image/png": "[encoded data removed]",
      "text/plain": [
       "<Figure size 540x540 with 12 Axes>"
      ]
     },
     "metadata": {},
     "output_type": "display_data"
    }
   ],
   "source": [
    "sns.pairplot(base_data[[\"backers\", \"usd_pledged_real\", \"usd_goal_real\"]])"
   ]
  },
  {
   "cell_type": "code",
   "execution_count": 16,
   "metadata": {},
   "outputs": [
    {
     "data": {
      "text/plain": [
       "<matplotlib.axes._subplots.AxesSubplot at 0x13383240>"
      ]
     },
     "execution_count": 16,
     "metadata": {},
     "output_type": "execute_result"
    },
    {
     "data": {
      "image/png": "[encoded data removed]",
      "text/plain": [
       "<Figure size 432x288 with 2 Axes>"
      ]
     },
     "metadata": {},
     "output_type": "display_data"
    }
   ],
   "source": [
    "sns.heatmap(base_data[[\"backers\", \"usd_pledged_real\", \"usd_goal_real\"]].corr().round(2), annot=True)"
   ]
  },
  {
   "cell_type": "code",
   "execution_count": 17,
   "metadata": {},
   "outputs": [
    {
     "data": {
      "text/plain": [
       "<matplotlib.collections.PathCollection at 0x105dabe0>"
      ]
     },
     "execution_count": 17,
     "metadata": {},
     "output_type": "execute_result"
    },
    {
     "data": {
      "image/png": "[encoded data removed]",
      "text/plain": [
       "<Figure size 432x288 with 1 Axes>"
      ]
     },
     "metadata": {},
     "output_type": "display_data"
    }
   ],
   "source": [
    "plt.scatter(base_data[\"usd_goal_real\"], np.log(base_data[\"usd_goal_real\"])/np.log(1/2))"
   ]
  },
  {
   "cell_type": "code",
   "execution_count": 18,
   "metadata": {},
   "outputs": [
    {
     "data": {
      "text/plain": [
       "'p = figure(plot_width=400, plot_height=400)\\np.circle(x=base_data[\"backers\"], y=base_data[\"usd_pledged_real\"], color=base_data[\"main_category\"])\\n\\noutput_file(\"scatter.html\")\\n\\nshow(p)'"
      ]
     },
     "execution_count": 18,
     "metadata": {},
     "output_type": "execute_result"
    }
   ],
   "source": [
    "\"\"\"p = figure(plot_width=400, plot_height=400)\n",
    "p.circle(x=base_data[\"backers\"], y=base_data[\"usd_pledged_real\"], color=base_data[\"main_category\"])\n",
    "\n",
    "output_file(\"scatter.html\")\n",
    "\n",
    "show(p)\"\"\""
   ]
  },
  {
   "cell_type": "code",
   "execution_count": 16,
   "metadata": {},
   "outputs": [
    {
     "name": "stdout",
     "output_type": "stream",
     "text": [
      "The most successful campaign in dataset: 20338986.27\n"
     ]
    },
    {
     "data": {
      "text/html": [
       "<div>\n",
       "<style scoped>\n",
       "    .dataframe tbody tr th:only-of-type {\n",
       "        vertical-align: middle;\n",
       "    }\n",
       "\n",
       "    .dataframe tbody tr th {\n",
       "        vertical-align: top;\n",
       "    }\n",
       "\n",
       "    .dataframe thead th {\n",
       "        text-align: right;\n",
       "    }\n",
       "</style>\n",
       "<table border=\"1\" class=\"dataframe\">\n",
       "  <thead>\n",
       "    <tr style=\"text-align: right;\">\n",
       "      <th></th>\n",
       "      <th>ID</th>\n",
       "      <th>name</th>\n",
       "      <th>category</th>\n",
       "      <th>main_category</th>\n",
       "      <th>currency</th>\n",
       "      <th>deadline</th>\n",
       "      <th>goal</th>\n",
       "      <th>launched</th>\n",
       "      <th>pledged</th>\n",
       "      <th>state</th>\n",
       "      <th>backers</th>\n",
       "      <th>country</th>\n",
       "      <th>usd pledged</th>\n",
       "      <th>usd_pledged_real</th>\n",
       "      <th>usd_goal_real</th>\n",
       "    </tr>\n",
       "  </thead>\n",
       "  <tbody>\n",
       "    <tr>\n",
       "      <th>157270</th>\n",
       "      <td>1799979574</td>\n",
       "      <td>Pebble Time - Awesome Smartwatch, No Compromises</td>\n",
       "      <td>Product Design</td>\n",
       "      <td>Design</td>\n",
       "      <td>USD</td>\n",
       "      <td>2015-03-28</td>\n",
       "      <td>500000.0</td>\n",
       "      <td>2015-02-24 15:44:42</td>\n",
       "      <td>20338986.27</td>\n",
       "      <td>successful</td>\n",
       "      <td>78471</td>\n",
       "      <td>US</td>\n",
       "      <td>20338986.27</td>\n",
       "      <td>20338986.27</td>\n",
       "      <td>500000.0</td>\n",
       "    </tr>\n",
       "  </tbody>\n",
       "</table>\n",
       "</div>"
      ],
      "text/plain": [
       "                ID                                              name  \\\n",
       "157270  1799979574  Pebble Time - Awesome Smartwatch, No Compromises   \n",
       "\n",
       "              category main_category currency    deadline      goal  \\\n",
       "157270  Product Design        Design      USD  2015-03-28  500000.0   \n",
       "\n",
       "                   launched      pledged       state  backers country  \\\n",
       "157270  2015-02-24 15:44:42  20338986.27  successful    78471      US   \n",
       "\n",
       "        usd pledged  usd_pledged_real  usd_goal_real  \n",
       "157270  20338986.27       20338986.27       500000.0  "
      ]
     },
     "execution_count": 16,
     "metadata": {},
     "output_type": "execute_result"
    }
   ],
   "source": [
    "#summary statistics\n",
    "print(\"The most successful campaign in dataset:\", base_data[\"usd_pledged_real\"].max())\n",
    "base_data[base_data[\"usd_pledged_real\"] == base_data[\"usd_pledged_real\"].max()]"
   ]
  },
  {
   "cell_type": "code",
   "execution_count": 97,
   "metadata": {},
   "outputs": [
    {
     "name": "stdout",
     "output_type": "stream",
     "text": [
      "It exceeded initial goal by 4068.0 % percent\n"
     ]
    }
   ],
   "source": [
    "perc_success = base_data[\"usd_pledged_real\"].max() * \\\n",
    "100 / base_data[base_data[\"usd_pledged_real\"] == base_data[\"usd_pledged_real\"].max()][\"usd_goal_real\"].values[0]\n",
    "print(\"It exceeded initial goal by {} % percent\".format(perc_success.round()))"
   ]
  },
  {
   "cell_type": "code",
   "execution_count": 100,
   "metadata": {},
   "outputs": [],
   "source": [
    "base_data[\"days_to_deadline\"] = (pd.to_datetime(base_data.deadline) - \\\n",
    "                            pd.to_datetime(base_data.launched)).astype(\"timedelta64[D]\").astype(\"int64\")"
   ]
  },
  {
   "cell_type": "code",
   "execution_count": 101,
   "metadata": {},
   "outputs": [
    {
     "name": "stdout",
     "output_type": "stream",
     "text": [
      "Average pledged money in projects: 9058.924074119337\n",
      "Average goal in projects: 45454.40146545336\n",
      "Average backers in projects: 105.61747578969052\n",
      "Average duration of projects: 33.48112163650336\n"
     ]
    }
   ],
   "source": [
    "print(\"Average pledged money in projects:\", base_data[\"usd_pledged_real\"].mean())\n",
    "print(\"Average goal in projects:\", base_data[\"usd_goal_real\"].mean())\n",
    "print(\"Average backers in projects:\", base_data[\"backers\"].mean())\n",
    "print(\"Average duration of projects:\", base_data[\"days_to_deadline\"].mean())"
   ]
  },
  {
   "cell_type": "code",
   "execution_count": 102,
   "metadata": {},
   "outputs": [
    {
     "name": "stdout",
     "output_type": "stream",
     "text": [
      "Percentages of states of campaigns in dataset.\n",
      "failed        52.215306\n",
      "successful    35.376234\n",
      "canceled      10.241086\n",
      "undefined      0.940683\n",
      "live           0.739184\n",
      "suspended      0.487507\n",
      "Name: state, dtype: float64\n"
     ]
    },
    {
     "data": {
      "text/plain": [
       "<matplotlib.axes._subplots.AxesSubplot at 0x29fc676af28>"
      ]
     },
     "execution_count": 102,
     "metadata": {},
     "output_type": "execute_result"
    },
    {
     "data": {
      "image/png": "[encoded data removed]",
      "text/plain": [
       "<Figure size 864x360 with 1 Axes>"
      ]
     },
     "metadata": {},
     "output_type": "display_data"
    }
   ],
   "source": [
    "print(\"Percentages of states of campaigns in dataset.\")\n",
    "print(base_data.state.value_counts()/len(base_data)*100)\n",
    "base_data.state.value_counts().plot(kind=\"barh\",\n",
    "                                    figsize=(12, 5),\n",
    "                                    title=\"Campaign results\")"
   ]
  },
  {
   "cell_type": "markdown",
   "metadata": {},
   "source": [
    "We need only successful and failed states in data to make classification model, so we should drop everything other."
   ]
  },
  {
   "cell_type": "code",
   "execution_count": 103,
   "metadata": {},
   "outputs": [
    {
     "name": "stdout",
     "output_type": "stream",
     "text": [
      "In average backers had pledged 64.58076593075498 dollars\n"
     ]
    }
   ],
   "source": [
    "base_data[\"avg_per_backer\"] = (base_data[\"usd_pledged_real\"]/base_data[\"backers\"]).fillna(0).abs().replace(np.inf, 0)\n",
    "print(\"In average backers had pledged {} dollars\".format(base_data[\"avg_per_backer\"].mean()))"
   ]
  },
  {
   "cell_type": "code",
   "execution_count": 211,
   "metadata": {},
   "outputs": [
    {
     "data": {
      "text/html": [
       "<div>\n",
       "<style scoped>\n",
       "    .dataframe tbody tr th:only-of-type {\n",
       "        vertical-align: middle;\n",
       "    }\n",
       "\n",
       "    .dataframe tbody tr th {\n",
       "        vertical-align: top;\n",
       "    }\n",
       "\n",
       "    .dataframe thead th {\n",
       "        text-align: right;\n",
       "    }\n",
       "</style>\n",
       "<table border=\"1\" class=\"dataframe\">\n",
       "  <thead>\n",
       "    <tr style=\"text-align: right;\">\n",
       "      <th></th>\n",
       "      <th>Technology</th>\n",
       "      <th>Design</th>\n",
       "      <th>Film &amp; Video</th>\n",
       "      <th>Dance</th>\n",
       "      <th>Theater</th>\n",
       "      <th>Fashion</th>\n",
       "      <th>Food</th>\n",
       "      <th>Music</th>\n",
       "      <th>Art</th>\n",
       "      <th>Photography</th>\n",
       "      <th>Games</th>\n",
       "      <th>Publishing</th>\n",
       "      <th>Comics</th>\n",
       "      <th>Journalism</th>\n",
       "      <th>Crafts</th>\n",
       "    </tr>\n",
       "  </thead>\n",
       "  <tbody>\n",
       "    <tr>\n",
       "      <th>avg_per_backer</th>\n",
       "      <td>95.985817</td>\n",
       "      <td>94.35646</td>\n",
       "      <td>76.1804</td>\n",
       "      <td>70.725558</td>\n",
       "      <td>70.447174</td>\n",
       "      <td>63.856153</td>\n",
       "      <td>62.741457</td>\n",
       "      <td>55.035269</td>\n",
       "      <td>54.870922</td>\n",
       "      <td>52.693231</td>\n",
       "      <td>50.415755</td>\n",
       "      <td>47.763362</td>\n",
       "      <td>41.061157</td>\n",
       "      <td>38.083108</td>\n",
       "      <td>38.019355</td>\n",
       "    </tr>\n",
       "  </tbody>\n",
       "</table>\n",
       "</div>"
      ],
      "text/plain": [
       "                Technology    Design  Film & Video      Dance    Theater  \\\n",
       "avg_per_backer   95.985817  94.35646       76.1804  70.725558  70.447174   \n",
       "\n",
       "                  Fashion       Food      Music        Art  Photography  \\\n",
       "avg_per_backer  63.856153  62.741457  55.035269  54.870922    52.693231   \n",
       "\n",
       "                    Games  Publishing     Comics  Journalism     Crafts  \n",
       "avg_per_backer  50.415755   47.763362  41.061157   38.083108  38.019355  "
      ]
     },
     "metadata": {},
     "output_type": "display_data"
    },
    {
     "data": {
      "text/plain": [
       "Text(0,0.5,'Average pledged per backer (USD)')"
      ]
     },
     "execution_count": 211,
     "metadata": {},
     "output_type": "execute_result"
    },
    {
     "data": {
      "image/png": "[encoded data removed]",
      "text/plain": [
       "<Figure size 864x360 with 1 Axes>"
      ]
     },
     "metadata": {},
     "output_type": "display_data"
    }
   ],
   "source": [
    "pledge_mapping = dict()\n",
    "for category in base_data['main_category'].unique():\n",
    "    cat_df = base_data[base_data['main_category'] == category]\n",
    "    pledge_mapping.update({category : cat_df['avg_per_backer'].mean()})\n",
    "pledge_df = pd.DataFrame(pledge_mapping, index=['avg_per_backer'])\n",
    "pledge_df.sort_values('avg_per_backer', axis=1, inplace=True, ascending=False)\n",
    "display(pledge_df.head())\n",
    "_ = pledge_df.plot(kind='bar', \n",
    "                    title='Average pledged per backer by category', \n",
    "                    rot=0, figsize=(12,5))\n",
    "plt.xlabel('Categories')\n",
    "plt.ylabel('Average pledged per backer (USD)')"
   ]
  },
  {
   "cell_type": "markdown",
   "metadata": {},
   "source": [
    "From bar graph we can see that in average backers mostly pledged in tech (96 USD) and design (94 USD) projects."
   ]
  },
  {
   "cell_type": "code",
   "execution_count": 106,
   "metadata": {},
   "outputs": [
    {
     "data": {
      "text/html": [
       "<div>\n",
       "<style scoped>\n",
       "    .dataframe tbody tr th:only-of-type {\n",
       "        vertical-align: middle;\n",
       "    }\n",
       "\n",
       "    .dataframe tbody tr th {\n",
       "        vertical-align: top;\n",
       "    }\n",
       "\n",
       "    .dataframe thead th {\n",
       "        text-align: right;\n",
       "    }\n",
       "</style>\n",
       "<table border=\"1\" class=\"dataframe\">\n",
       "  <thead>\n",
       "    <tr style=\"text-align: right;\">\n",
       "      <th></th>\n",
       "      <th>category</th>\n",
       "      <th>main_category</th>\n",
       "      <th>currency</th>\n",
       "      <th>deadline</th>\n",
       "      <th>launched</th>\n",
       "      <th>state</th>\n",
       "      <th>backers</th>\n",
       "      <th>country</th>\n",
       "      <th>usd_pledged_real</th>\n",
       "      <th>usd_goal_real</th>\n",
       "      <th>days_to_deadline</th>\n",
       "    </tr>\n",
       "  </thead>\n",
       "  <tbody>\n",
       "    <tr>\n",
       "      <th>0</th>\n",
       "      <td>Poetry</td>\n",
       "      <td>Publishing</td>\n",
       "      <td>GBP</td>\n",
       "      <td>2015-10-09</td>\n",
       "      <td>2015-08-11 12:12:28</td>\n",
       "      <td>failed</td>\n",
       "      <td>0</td>\n",
       "      <td>GB</td>\n",
       "      <td>0.0</td>\n",
       "      <td>1533.95</td>\n",
       "      <td>58</td>\n",
       "    </tr>\n",
       "    <tr>\n",
       "      <th>1</th>\n",
       "      <td>Narrative Film</td>\n",
       "      <td>Film &amp; Video</td>\n",
       "      <td>USD</td>\n",
       "      <td>2017-11-01</td>\n",
       "      <td>2017-09-02 04:43:57</td>\n",
       "      <td>failed</td>\n",
       "      <td>15</td>\n",
       "      <td>US</td>\n",
       "      <td>2421.0</td>\n",
       "      <td>30000.00</td>\n",
       "      <td>59</td>\n",
       "    </tr>\n",
       "    <tr>\n",
       "      <th>2</th>\n",
       "      <td>Narrative Film</td>\n",
       "      <td>Film &amp; Video</td>\n",
       "      <td>USD</td>\n",
       "      <td>2013-02-26</td>\n",
       "      <td>2013-01-12 00:20:50</td>\n",
       "      <td>failed</td>\n",
       "      <td>3</td>\n",
       "      <td>US</td>\n",
       "      <td>220.0</td>\n",
       "      <td>45000.00</td>\n",
       "      <td>44</td>\n",
       "    </tr>\n",
       "    <tr>\n",
       "      <th>3</th>\n",
       "      <td>Music</td>\n",
       "      <td>Music</td>\n",
       "      <td>USD</td>\n",
       "      <td>2012-04-16</td>\n",
       "      <td>2012-03-17 03:24:11</td>\n",
       "      <td>failed</td>\n",
       "      <td>1</td>\n",
       "      <td>US</td>\n",
       "      <td>1.0</td>\n",
       "      <td>5000.00</td>\n",
       "      <td>29</td>\n",
       "    </tr>\n",
       "    <tr>\n",
       "      <th>4</th>\n",
       "      <td>Film &amp; Video</td>\n",
       "      <td>Film &amp; Video</td>\n",
       "      <td>USD</td>\n",
       "      <td>2015-08-29</td>\n",
       "      <td>2015-07-04 08:35:03</td>\n",
       "      <td>canceled</td>\n",
       "      <td>14</td>\n",
       "      <td>US</td>\n",
       "      <td>1283.0</td>\n",
       "      <td>19500.00</td>\n",
       "      <td>55</td>\n",
       "    </tr>\n",
       "  </tbody>\n",
       "</table>\n",
       "</div>"
      ],
      "text/plain": [
       "         category main_category currency    deadline             launched  \\\n",
       "0          Poetry    Publishing      GBP  2015-10-09  2015-08-11 12:12:28   \n",
       "1  Narrative Film  Film & Video      USD  2017-11-01  2017-09-02 04:43:57   \n",
       "2  Narrative Film  Film & Video      USD  2013-02-26  2013-01-12 00:20:50   \n",
       "3           Music         Music      USD  2012-04-16  2012-03-17 03:24:11   \n",
       "4    Film & Video  Film & Video      USD  2015-08-29  2015-07-04 08:35:03   \n",
       "\n",
       "      state  backers country  usd_pledged_real  usd_goal_real  \\\n",
       "0    failed        0      GB               0.0        1533.95   \n",
       "1    failed       15      US            2421.0       30000.00   \n",
       "2    failed        3      US             220.0       45000.00   \n",
       "3    failed        1      US               1.0        5000.00   \n",
       "4  canceled       14      US            1283.0       19500.00   \n",
       "\n",
       "   days_to_deadline  \n",
       "0                58  \n",
       "1                59  \n",
       "2                44  \n",
       "3                29  \n",
       "4                55  "
      ]
     },
     "execution_count": 106,
     "metadata": {},
     "output_type": "execute_result"
    }
   ],
   "source": [
    "data = base_data.drop([\"ID\", \"name\", \"goal\", \"pledged\", \"usd pledged\", \"avg_per_backer\"], axis=1)\n",
    "data.head()"
   ]
  },
  {
   "cell_type": "code",
   "execution_count": 107,
   "metadata": {},
   "outputs": [
    {
     "name": "stdout",
     "output_type": "stream",
     "text": [
      "<class 'pandas.core.frame.DataFrame'>\n",
      "RangeIndex: 378661 entries, 0 to 378660\n",
      "Data columns (total 11 columns):\n",
      "category            378661 non-null object\n",
      "main_category       378661 non-null object\n",
      "currency            378661 non-null object\n",
      "deadline            378661 non-null object\n",
      "launched            378661 non-null object\n",
      "state               378661 non-null object\n",
      "backers             378661 non-null int64\n",
      "country             378661 non-null object\n",
      "usd_pledged_real    378661 non-null float64\n",
      "usd_goal_real       378661 non-null float64\n",
      "days_to_deadline    378661 non-null int64\n",
      "dtypes: float64(2), int64(2), object(7)\n",
      "memory usage: 31.8+ MB\n"
     ]
    }
   ],
   "source": [
    "data.info()"
   ]
  },
  {
   "cell_type": "markdown",
   "metadata": {},
   "source": [
    "To make our date(launched, deadline) columns informative, let's subtract launched from deadline to have days to deadline.<br>\n",
    "After that we can drop datetime columns."
   ]
  },
  {
   "cell_type": "code",
   "execution_count": 108,
   "metadata": {},
   "outputs": [],
   "source": [
    "data.drop([\"deadline\", \"launched\"], axis=1, inplace=True)"
   ]
  },
  {
   "cell_type": "code",
   "execution_count": 112,
   "metadata": {},
   "outputs": [
    {
     "data": {
      "text/plain": [
       "category               159\n",
       "main_category           15\n",
       "currency                14\n",
       "state                    6\n",
       "backers               3963\n",
       "country                 23\n",
       "usd_pledged_real    106065\n",
       "usd_goal_real        50339\n",
       "days_to_deadline        99\n",
       "dtype: int64"
      ]
     },
     "execution_count": 112,
     "metadata": {},
     "output_type": "execute_result"
    }
   ],
   "source": [
    "data.nunique()"
   ]
  },
  {
   "cell_type": "code",
   "execution_count": 113,
   "metadata": {},
   "outputs": [
    {
     "name": "stdout",
     "output_type": "stream",
     "text": [
      "\n",
      " category\n",
      "['Poetry' 'Narrative Film' 'Music' 'Film & Video' 'Restaurants' 'Food'\n",
      " 'Drinks' 'Product Design' 'Documentary' 'Nonfiction' 'Indie Rock'\n",
      " 'Crafts' 'Games' 'Tabletop Games' 'Design' 'Comic Books' 'Art Books'\n",
      " 'Fashion' 'Childrenswear' 'Theater' 'Comics' 'DIY' 'Webseries'\n",
      " 'Animation' 'Food Trucks' 'Public Art' 'Illustration' 'Photography' 'Pop'\n",
      " 'People' 'Art' 'Family' 'Fiction' 'Accessories' 'Rock' 'Hardware'\n",
      " 'Software' 'Weaving' 'Gadgets' 'Web' 'Jazz' 'Ready-to-wear' 'Festivals'\n",
      " 'Video Games' 'Anthologies' 'Publishing' 'Shorts' 'Electronic Music'\n",
      " 'Radio & Podcasts' 'Apps' 'Cookbooks' 'Apparel' 'Metal' 'Comedy'\n",
      " 'Hip-Hop' 'Periodicals' 'Dance' 'Technology' 'Painting' 'World Music'\n",
      " 'Photobooks' 'Drama' 'Architecture' 'Young Adult' 'Latin' 'Mobile Games'\n",
      " 'Flight' 'Fine Art' 'Action' 'Playing Cards' 'Makerspaces' 'Punk'\n",
      " 'Thrillers' \"Children's Books\" 'Audio' 'Performance Art' 'Ceramics'\n",
      " 'Vegan' 'Graphic Novels' 'Fabrication Tools' 'Performances' 'Sculpture'\n",
      " 'Sound' 'Stationery' 'Print' \"Farmer's Markets\" 'Events'\n",
      " 'Classical Music' 'Graphic Design' 'Spaces' 'Country & Folk' 'Wearables'\n",
      " 'Mixed Media' 'Journalism' 'Movie Theaters' 'Animals' 'Digital Art'\n",
      " 'Horror' 'Knitting' 'Small Batch' 'Installations' 'Community Gardens'\n",
      " 'DIY Electronics' 'Embroidery' 'Camera Equipment' 'Jewelry' 'Farms'\n",
      " 'Conceptual Art' 'Fantasy' 'Webcomics' 'Experimental' 'Science Fiction'\n",
      " 'Puzzles' 'R&B' 'Music Videos' 'Calendars' 'Video' 'Plays' 'Blues'\n",
      " 'Bacon' 'Faith' 'Live Games' 'Woodworking' 'Places' 'Footwear'\n",
      " '3D Printing' 'Academic' 'Zines' 'Musical' 'Workshops' 'Photo'\n",
      " 'Immersive' 'Letterpress' 'Gaming Hardware' 'Candles' 'Television'\n",
      " 'Space Exploration' 'Couture' 'Nature' 'Robots' 'Typography' 'Crochet'\n",
      " 'Translations' 'Textiles' 'Pottery' 'Interactive Design' 'Video Art'\n",
      " 'Quilts' 'Glass' 'Pet Fashion' 'Printing' 'Romance' 'Civic Design' 'Kids'\n",
      " 'Literary Journals' 'Taxidermy' 'Literary Spaces' 'Chiptune'\n",
      " 'Residencies']\n",
      "Product Design       22314\n",
      "Documentary          16139\n",
      "Music                15727\n",
      "Tabletop Games       14180\n",
      "Shorts               12357\n",
      "Video Games          11830\n",
      "Food                 11493\n",
      "Film & Video         10108\n",
      "Fiction               9169\n",
      "Fashion               8554\n",
      "Nonfiction            8318\n",
      "Art                   8253\n",
      "Apparel               7166\n",
      "Theater               7057\n",
      "Technology            6930\n",
      "Rock                  6758\n",
      "Children's Books      6756\n",
      "Apps                  6345\n",
      "Publishing            6018\n",
      "Webseries             5762\n",
      "Photography           5752\n",
      "Indie Rock            5657\n",
      "Narrative Film        5188\n",
      "Web                   5153\n",
      "Comics                4996\n",
      "Crafts                4664\n",
      "Country & Folk        4451\n",
      "Design                4199\n",
      "Hip-Hop               3912\n",
      "Hardware              3663\n",
      "                     ...  \n",
      "Couture                275\n",
      "Blues                  268\n",
      "Animals                255\n",
      "Fabrication Tools      250\n",
      "Printing               238\n",
      "Makerspaces            238\n",
      "Movie Theaters         232\n",
      "Puzzles                231\n",
      "Bacon                  221\n",
      "Stationery             219\n",
      "Photo                  196\n",
      "Video Art              194\n",
      "Romance                190\n",
      "Knitting               181\n",
      "Workshops              164\n",
      "Crochet                162\n",
      "Translations           153\n",
      "Pet Fashion            139\n",
      "Glass                  138\n",
      "Latin                  137\n",
      "Embroidery             113\n",
      "Typography             108\n",
      "Pottery                100\n",
      "Weaving                 93\n",
      "Quilts                  81\n",
      "Residencies             69\n",
      "Letterpress             49\n",
      "Chiptune                35\n",
      "Literary Spaces         27\n",
      "Taxidermy               13\n",
      "Name: category, Length: 159, dtype: int64\n",
      "_______________________\n",
      "\n",
      " main_category\n",
      "['Publishing' 'Film & Video' 'Music' 'Food' 'Design' 'Crafts' 'Games'\n",
      " 'Comics' 'Fashion' 'Theater' 'Art' 'Photography' 'Technology' 'Dance'\n",
      " 'Journalism']\n",
      "Film & Video    63585\n",
      "Music           51918\n",
      "Publishing      39874\n",
      "Games           35231\n",
      "Technology      32569\n",
      "Design          30070\n",
      "Art             28153\n",
      "Food            24602\n",
      "Fashion         22816\n",
      "Theater         10913\n",
      "Comics          10819\n",
      "Photography     10779\n",
      "Crafts           8809\n",
      "Journalism       4755\n",
      "Dance            3768\n",
      "Name: main_category, dtype: int64\n",
      "_______________________\n",
      "\n",
      " currency\n",
      "['GBP' 'USD' 'CAD' 'AUD' 'NOK' 'EUR' 'MXN' 'SEK' 'NZD' 'CHF' 'DKK' 'HKD'\n",
      " 'SGD' 'JPY']\n",
      "USD    295365\n",
      "GBP     34132\n",
      "EUR     17405\n",
      "CAD     14962\n",
      "AUD      7950\n",
      "SEK      1788\n",
      "MXN      1752\n",
      "NZD      1475\n",
      "DKK      1129\n",
      "CHF       768\n",
      "NOK       722\n",
      "HKD       618\n",
      "SGD       555\n",
      "JPY        40\n",
      "Name: currency, dtype: int64\n",
      "_______________________\n",
      "\n",
      " state\n",
      "['failed' 'canceled' 'successful' 'live' 'undefined' 'suspended']\n",
      "failed        197719\n",
      "successful    133956\n",
      "canceled       38779\n",
      "undefined       3562\n",
      "live            2799\n",
      "suspended       1846\n",
      "Name: state, dtype: int64\n",
      "_______________________\n",
      "\n",
      " country\n",
      "['GB' 'US' 'CA' 'AU' 'NO' 'IT' 'DE' 'IE' 'MX' 'ES' 'N,0\"' 'SE' 'FR' 'NL'\n",
      " 'NZ' 'CH' 'AT' 'DK' 'BE' 'HK' 'LU' 'SG' 'JP']\n",
      "US      292627\n",
      "GB       33672\n",
      "CA       14756\n",
      "AU        7839\n",
      "DE        4171\n",
      "N,0\"      3797\n",
      "FR        2939\n",
      "IT        2878\n",
      "NL        2868\n",
      "ES        2276\n",
      "SE        1757\n",
      "MX        1752\n",
      "NZ        1447\n",
      "DK        1113\n",
      "IE         811\n",
      "CH         761\n",
      "NO         708\n",
      "HK         618\n",
      "BE         617\n",
      "AT         597\n",
      "SG         555\n",
      "LU          62\n",
      "JP          40\n",
      "Name: country, dtype: int64\n",
      "_______________________\n"
     ]
    }
   ],
   "source": [
    "for col in data.select_dtypes(include=\"object\"):\n",
    "    print(\"\\n\", col)\n",
    "    print(data[col].unique())\n",
    "    print(data[col].value_counts())\n",
    "    print(\"_______________________\")"
   ]
  },
  {
   "cell_type": "markdown",
   "metadata": {},
   "source": [
    "Let's drop category column, because:\n",
    "- It has 159 unique values(OneHot Encoding will make min. 158 columns)\n",
    "- to make our models faster\n",
    "- not to have much noise in data\n",
    "- more general info is contained in main_category"
   ]
  },
  {
   "cell_type": "code",
   "execution_count": 114,
   "metadata": {},
   "outputs": [],
   "source": [
    "data.drop(\"category\", axis=1, inplace=True)"
   ]
  },
  {
   "cell_type": "code",
   "execution_count": 115,
   "metadata": {},
   "outputs": [
    {
     "data": {
      "text/plain": [
       "backers             False\n",
       "usd_pledged_real    False\n",
       "usd_goal_real       False\n",
       "days_to_deadline    False\n",
       "dtype: bool"
      ]
     },
     "execution_count": 115,
     "metadata": {},
     "output_type": "execute_result"
    }
   ],
   "source": [
    "data.var() == 0"
   ]
  },
  {
   "cell_type": "code",
   "execution_count": 116,
   "metadata": {},
   "outputs": [
    {
     "data": {
      "text/plain": [
       "backers             8.229847e+05\n",
       "usd_pledged_real    8.276149e+09\n",
       "usd_goal_real       1.329294e+12\n",
       "days_to_deadline    4.344019e+03\n",
       "dtype: float64"
      ]
     },
     "execution_count": 116,
     "metadata": {},
     "output_type": "execute_result"
    }
   ],
   "source": [
    "data.var()"
   ]
  },
  {
   "cell_type": "code",
   "execution_count": 117,
   "metadata": {},
   "outputs": [
    {
     "data": {
      "text/plain": [
       "(331675, 8)"
      ]
     },
     "execution_count": 117,
     "metadata": {},
     "output_type": "execute_result"
    }
   ],
   "source": [
    "data = data[(data[\"state\"] == \"successful\") | (data[\"state\"] == \"failed\")]\n",
    "data.state = np.where(data[\"state\"] == \"successful\", 1, 0)\n",
    "data.shape"
   ]
  },
  {
   "cell_type": "code",
   "execution_count": 118,
   "metadata": {},
   "outputs": [
    {
     "name": "stdout",
     "output_type": "stream",
     "text": [
      "Mean days for success: 31.156469288423065\n",
      "Mean days for failure: 34.17335208047785\n"
     ]
    },
    {
     "name": "stderr",
     "output_type": "stream",
     "text": [
      "C:\\Users\\8460p\\Anaconda3\\lib\\site-packages\\matplotlib\\axes\\_axes.py:6462: UserWarning: The 'normed' kwarg is deprecated, and has been replaced by the 'density' kwarg.\n",
      "  warnings.warn(\"The 'normed' kwarg is deprecated, and has been \"\n",
      "C:\\Users\\8460p\\Anaconda3\\lib\\site-packages\\matplotlib\\axes\\_axes.py:6462: UserWarning: The 'normed' kwarg is deprecated, and has been replaced by the 'density' kwarg.\n",
      "  warnings.warn(\"The 'normed' kwarg is deprecated, and has been \"\n"
     ]
    },
    {
     "data": {
      "text/plain": [
       "<matplotlib.legend.Legend at 0x29fd56dfe80>"
      ]
     },
     "execution_count": 118,
     "metadata": {},
     "output_type": "execute_result"
    },
    {
     "data": {
      "image/png": "[encoded data removed]",
      "text/plain": [
       "<Figure size 864x432 with 1 Axes>"
      ]
     },
     "metadata": {},
     "output_type": "display_data"
    }
   ],
   "source": [
    "success_avg_dur = data[(data[\"state\"] == 1)][\"days_to_deadline\"].mean()\n",
    "failure_avg_dur = data[data[\"state\"] == 0][\"days_to_deadline\"].mean()\n",
    "print(\"Mean days for success: {}\".format(success_avg_dur))\n",
    "print(\"Mean days for failure: {}\".format(failure_avg_dur))\n",
    "plt.figure(figsize=(12, 6))\n",
    "plt.title(\"Campaigns' duration distribution.\")\n",
    "sns.distplot(data[(data[\"state\"] == 1)][\"days_to_deadline\"], color=\"green\", hist=True, label=\"Success\")\n",
    "sns.distplot(data[(data[\"state\"] == 0)][\"days_to_deadline\"], color=\"red\", hist=True, label=\"Failed\")\n",
    "plt.legend()"
   ]
  },
  {
   "cell_type": "code",
   "execution_count": 119,
   "metadata": {},
   "outputs": [
    {
     "data": {
      "text/plain": [
       "(331675, 54)"
      ]
     },
     "execution_count": 119,
     "metadata": {},
     "output_type": "execute_result"
    }
   ],
   "source": [
    "data = pd.get_dummies(data, drop_first=True)\n",
    "data.shape"
   ]
  },
  {
   "cell_type": "code",
   "execution_count": 120,
   "metadata": {},
   "outputs": [],
   "source": [
    "data.columns = [i.replace(\",\", \"\").replace('\"', \"\").replace(\" & \", \"_\") for i in data.columns]"
   ]
  },
  {
   "cell_type": "code",
   "execution_count": 121,
   "metadata": {},
   "outputs": [
    {
     "data": {
      "text/plain": [
       "Index(['state', 'backers', 'usd_pledged_real', 'usd_goal_real',\n",
       "       'days_to_deadline', 'main_category_Comics', 'main_category_Crafts',\n",
       "       'main_category_Dance', 'main_category_Design', 'main_category_Fashion',\n",
       "       'main_category_Film_Video', 'main_category_Food', 'main_category_Games',\n",
       "       'main_category_Journalism', 'main_category_Music',\n",
       "       'main_category_Photography', 'main_category_Publishing',\n",
       "       'main_category_Technology', 'main_category_Theater', 'currency_CAD',\n",
       "       'currency_CHF', 'currency_DKK', 'currency_EUR', 'currency_GBP',\n",
       "       'currency_HKD', 'currency_JPY', 'currency_MXN', 'currency_NOK',\n",
       "       'currency_NZD', 'currency_SEK', 'currency_SGD', 'currency_USD',\n",
       "       'country_AU', 'country_BE', 'country_CA', 'country_CH', 'country_DE',\n",
       "       'country_DK', 'country_ES', 'country_FR', 'country_GB', 'country_HK',\n",
       "       'country_IE', 'country_IT', 'country_JP', 'country_LU', 'country_MX',\n",
       "       'country_N0', 'country_NL', 'country_NO', 'country_NZ', 'country_SE',\n",
       "       'country_SG', 'country_US'],\n",
       "      dtype='object')"
      ]
     },
     "execution_count": 121,
     "metadata": {},
     "output_type": "execute_result"
    }
   ],
   "source": [
    "data.columns"
   ]
  },
  {
   "cell_type": "code",
   "execution_count": 122,
   "metadata": {},
   "outputs": [
    {
     "name": "stdout",
     "output_type": "stream",
     "text": [
      "0    59.612271\n",
      "1    40.387729\n",
      "Name: state, dtype: float64\n"
     ]
    },
    {
     "data": {
      "image/png": "[encoded data removed]",
      "text/plain": [
       "<Figure size 432x288 with 1 Axes>"
      ]
     },
     "metadata": {},
     "output_type": "display_data"
    }
   ],
   "source": [
    "benchmark = data.state.value_counts() / len(data) * 100\n",
    "print(benchmark)\n",
    "_ = benchmark.plot(kind=\"bar\", title=\"Target values distribution in data\")\n",
    "plt.show()"
   ]
  },
  {
   "cell_type": "code",
   "execution_count": 78,
   "metadata": {},
   "outputs": [
    {
     "data": {
      "text/plain": [
       "<matplotlib.axes._subplots.AxesSubplot at 0x29fc41b6da0>"
      ]
     },
     "execution_count": 78,
     "metadata": {},
     "output_type": "execute_result"
    },
    {
     "data": {
      "image/png": "[encoded data removed]",
      "text/plain": [
       "<Figure size 1080x720 with 2 Axes>"
      ]
     },
     "metadata": {},
     "output_type": "display_data"
    }
   ],
   "source": [
    "plt.figure(figsize=(15,10))\n",
    "sns.heatmap((data.corr()>=0.75).abs().round(2), annot=True)"
   ]
  },
  {
   "cell_type": "markdown",
   "metadata": {},
   "source": [
    "There is correlation between currencies and countries, this was also assumed from barplots above."
   ]
  },
  {
   "cell_type": "code",
   "execution_count": 123,
   "metadata": {},
   "outputs": [],
   "source": [
    "currencies = [i for i in data.columns if \"currency\" in i] \n",
    "data.drop(currencies, axis=1, inplace=True)"
   ]
  },
  {
   "cell_type": "code",
   "execution_count": 138,
   "metadata": {
    "scrolled": true
   },
   "outputs": [
    {
     "name": "stdout",
     "output_type": "stream",
     "text": [
      "Sample data\n",
      "0    0.59633\n",
      "1    0.40367\n",
      "Name: state, dtype: float64\n",
      "Final test data\n",
      "0    0.594159\n",
      "1    0.405841\n",
      "Name: state, dtype: float64\n"
     ]
    },
    {
     "data": {
      "text/html": [
       "<div>\n",
       "<style scoped>\n",
       "    .dataframe tbody tr th:only-of-type {\n",
       "        vertical-align: middle;\n",
       "    }\n",
       "\n",
       "    .dataframe tbody tr th {\n",
       "        vertical-align: top;\n",
       "    }\n",
       "\n",
       "    .dataframe thead th {\n",
       "        text-align: right;\n",
       "    }\n",
       "</style>\n",
       "<table border=\"1\" class=\"dataframe\">\n",
       "  <thead>\n",
       "    <tr style=\"text-align: right;\">\n",
       "      <th></th>\n",
       "      <th>state</th>\n",
       "      <th>backers</th>\n",
       "      <th>usd_pledged_real</th>\n",
       "      <th>usd_goal_real</th>\n",
       "      <th>days_to_deadline</th>\n",
       "      <th>main_category_Comics</th>\n",
       "      <th>main_category_Crafts</th>\n",
       "      <th>main_category_Dance</th>\n",
       "      <th>main_category_Design</th>\n",
       "      <th>main_category_Fashion</th>\n",
       "      <th>...</th>\n",
       "      <th>country_JP</th>\n",
       "      <th>country_LU</th>\n",
       "      <th>country_MX</th>\n",
       "      <th>country_N0</th>\n",
       "      <th>country_NL</th>\n",
       "      <th>country_NO</th>\n",
       "      <th>country_NZ</th>\n",
       "      <th>country_SE</th>\n",
       "      <th>country_SG</th>\n",
       "      <th>country_US</th>\n",
       "    </tr>\n",
       "  </thead>\n",
       "  <tbody>\n",
       "    <tr>\n",
       "      <th>271115</th>\n",
       "      <td>0</td>\n",
       "      <td>21</td>\n",
       "      <td>1007.5</td>\n",
       "      <td>25000.0</td>\n",
       "      <td>29</td>\n",
       "      <td>0</td>\n",
       "      <td>0</td>\n",
       "      <td>0</td>\n",
       "      <td>0</td>\n",
       "      <td>0</td>\n",
       "      <td>...</td>\n",
       "      <td>0</td>\n",
       "      <td>0</td>\n",
       "      <td>0</td>\n",
       "      <td>0</td>\n",
       "      <td>0</td>\n",
       "      <td>0</td>\n",
       "      <td>0</td>\n",
       "      <td>0</td>\n",
       "      <td>0</td>\n",
       "      <td>1</td>\n",
       "    </tr>\n",
       "    <tr>\n",
       "      <th>204452</th>\n",
       "      <td>0</td>\n",
       "      <td>1</td>\n",
       "      <td>25.0</td>\n",
       "      <td>10000.0</td>\n",
       "      <td>29</td>\n",
       "      <td>0</td>\n",
       "      <td>0</td>\n",
       "      <td>0</td>\n",
       "      <td>0</td>\n",
       "      <td>0</td>\n",
       "      <td>...</td>\n",
       "      <td>0</td>\n",
       "      <td>0</td>\n",
       "      <td>0</td>\n",
       "      <td>0</td>\n",
       "      <td>0</td>\n",
       "      <td>0</td>\n",
       "      <td>0</td>\n",
       "      <td>0</td>\n",
       "      <td>0</td>\n",
       "      <td>1</td>\n",
       "    </tr>\n",
       "    <tr>\n",
       "      <th>120052</th>\n",
       "      <td>1</td>\n",
       "      <td>50</td>\n",
       "      <td>6701.0</td>\n",
       "      <td>5000.0</td>\n",
       "      <td>20</td>\n",
       "      <td>0</td>\n",
       "      <td>0</td>\n",
       "      <td>0</td>\n",
       "      <td>0</td>\n",
       "      <td>0</td>\n",
       "      <td>...</td>\n",
       "      <td>0</td>\n",
       "      <td>0</td>\n",
       "      <td>0</td>\n",
       "      <td>0</td>\n",
       "      <td>0</td>\n",
       "      <td>0</td>\n",
       "      <td>0</td>\n",
       "      <td>0</td>\n",
       "      <td>0</td>\n",
       "      <td>1</td>\n",
       "    </tr>\n",
       "    <tr>\n",
       "      <th>247629</th>\n",
       "      <td>0</td>\n",
       "      <td>5</td>\n",
       "      <td>155.0</td>\n",
       "      <td>500.0</td>\n",
       "      <td>58</td>\n",
       "      <td>0</td>\n",
       "      <td>0</td>\n",
       "      <td>1</td>\n",
       "      <td>0</td>\n",
       "      <td>0</td>\n",
       "      <td>...</td>\n",
       "      <td>0</td>\n",
       "      <td>0</td>\n",
       "      <td>0</td>\n",
       "      <td>0</td>\n",
       "      <td>0</td>\n",
       "      <td>0</td>\n",
       "      <td>0</td>\n",
       "      <td>0</td>\n",
       "      <td>0</td>\n",
       "      <td>1</td>\n",
       "    </tr>\n",
       "    <tr>\n",
       "      <th>332022</th>\n",
       "      <td>0</td>\n",
       "      <td>8</td>\n",
       "      <td>406.0</td>\n",
       "      <td>3000.0</td>\n",
       "      <td>34</td>\n",
       "      <td>0</td>\n",
       "      <td>0</td>\n",
       "      <td>0</td>\n",
       "      <td>0</td>\n",
       "      <td>0</td>\n",
       "      <td>...</td>\n",
       "      <td>0</td>\n",
       "      <td>0</td>\n",
       "      <td>0</td>\n",
       "      <td>0</td>\n",
       "      <td>0</td>\n",
       "      <td>0</td>\n",
       "      <td>0</td>\n",
       "      <td>0</td>\n",
       "      <td>0</td>\n",
       "      <td>1</td>\n",
       "    </tr>\n",
       "  </tbody>\n",
       "</table>\n",
       "<p>5 rows × 41 columns</p>\n",
       "</div>"
      ],
      "text/plain": [
       "        state  backers  usd_pledged_real  usd_goal_real  days_to_deadline  \\\n",
       "271115      0       21            1007.5        25000.0                29   \n",
       "204452      0        1              25.0        10000.0                29   \n",
       "120052      1       50            6701.0         5000.0                20   \n",
       "247629      0        5             155.0          500.0                58   \n",
       "332022      0        8             406.0         3000.0                34   \n",
       "\n",
       "        main_category_Comics  main_category_Crafts  main_category_Dance  \\\n",
       "271115                     0                     0                    0   \n",
       "204452                     0                     0                    0   \n",
       "120052                     0                     0                    0   \n",
       "247629                     0                     0                    1   \n",
       "332022                     0                     0                    0   \n",
       "\n",
       "        main_category_Design  main_category_Fashion     ...      country_JP  \\\n",
       "271115                     0                      0     ...               0   \n",
       "204452                     0                      0     ...               0   \n",
       "120052                     0                      0     ...               0   \n",
       "247629                     0                      0     ...               0   \n",
       "332022                     0                      0     ...               0   \n",
       "\n",
       "        country_LU  country_MX  country_N0  country_NL  country_NO  \\\n",
       "271115           0           0           0           0           0   \n",
       "204452           0           0           0           0           0   \n",
       "120052           0           0           0           0           0   \n",
       "247629           0           0           0           0           0   \n",
       "332022           0           0           0           0           0   \n",
       "\n",
       "        country_NZ  country_SE  country_SG  country_US  \n",
       "271115           0           0           0           1  \n",
       "204452           0           0           0           1  \n",
       "120052           0           0           0           1  \n",
       "247629           0           0           0           1  \n",
       "332022           0           0           0           1  \n",
       "\n",
       "[5 rows x 41 columns]"
      ]
     },
     "execution_count": 138,
     "metadata": {},
     "output_type": "execute_result"
    }
   ],
   "source": [
    "sample_data = data.sample(n=10**5*3, random_state=42)\n",
    "final_test_data = data.drop(sample_data.index, axis=0)\n",
    "print(\"Sample data\")\n",
    "print(sample_data.state.value_counts()/len(sample_data))\n",
    "print(\"Final test data\")\n",
    "print(final_test_data.state.value_counts()/len(final_test_data))\n",
    "sample_data.head()"
   ]
  },
  {
   "cell_type": "code",
   "execution_count": 139,
   "metadata": {
    "scrolled": true
   },
   "outputs": [
    {
     "data": {
      "text/plain": [
       "state                            2\n",
       "backers                       3760\n",
       "usd_pledged_real             91157\n",
       "usd_goal_real                41789\n",
       "days_to_deadline                92\n",
       "main_category_Comics             2\n",
       "main_category_Crafts             2\n",
       "main_category_Dance              2\n",
       "main_category_Design             2\n",
       "main_category_Fashion            2\n",
       "main_category_Film_Video         2\n",
       "main_category_Food               2\n",
       "main_category_Games              2\n",
       "main_category_Journalism         2\n",
       "main_category_Music              2\n",
       "main_category_Photography        2\n",
       "main_category_Publishing         2\n",
       "main_category_Technology         2\n",
       "main_category_Theater            2\n",
       "country_AU                       2\n",
       "country_BE                       2\n",
       "country_CA                       2\n",
       "country_CH                       2\n",
       "country_DE                       2\n",
       "country_DK                       2\n",
       "country_ES                       2\n",
       "country_FR                       2\n",
       "country_GB                       2\n",
       "country_HK                       2\n",
       "country_IE                       2\n",
       "country_IT                       2\n",
       "country_JP                       2\n",
       "country_LU                       2\n",
       "country_MX                       2\n",
       "country_N0                       2\n",
       "country_NL                       2\n",
       "country_NO                       2\n",
       "country_NZ                       2\n",
       "country_SE                       2\n",
       "country_SG                       2\n",
       "country_US                       2\n",
       "dtype: int64"
      ]
     },
     "execution_count": 139,
     "metadata": {},
     "output_type": "execute_result"
    }
   ],
   "source": [
    "sample_data.nunique()"
   ]
  },
  {
   "cell_type": "code",
   "execution_count": 140,
   "metadata": {
    "scrolled": true
   },
   "outputs": [
    {
     "data": {
      "text/plain": [
       "state                            2\n",
       "backers                       1342\n",
       "usd_pledged_real             15044\n",
       "usd_goal_real                 7385\n",
       "days_to_deadline                92\n",
       "main_category_Comics             2\n",
       "main_category_Crafts             2\n",
       "main_category_Dance              2\n",
       "main_category_Design             2\n",
       "main_category_Fashion            2\n",
       "main_category_Film_Video         2\n",
       "main_category_Food               2\n",
       "main_category_Games              2\n",
       "main_category_Journalism         2\n",
       "main_category_Music              2\n",
       "main_category_Photography        2\n",
       "main_category_Publishing         2\n",
       "main_category_Technology         2\n",
       "main_category_Theater            2\n",
       "country_AU                       2\n",
       "country_BE                       2\n",
       "country_CA                       2\n",
       "country_CH                       2\n",
       "country_DE                       2\n",
       "country_DK                       2\n",
       "country_ES                       2\n",
       "country_FR                       2\n",
       "country_GB                       2\n",
       "country_HK                       2\n",
       "country_IE                       2\n",
       "country_IT                       2\n",
       "country_JP                       2\n",
       "country_LU                       2\n",
       "country_MX                       2\n",
       "country_N0                       2\n",
       "country_NL                       2\n",
       "country_NO                       2\n",
       "country_NZ                       2\n",
       "country_SE                       2\n",
       "country_SG                       2\n",
       "country_US                       2\n",
       "dtype: int64"
      ]
     },
     "execution_count": 140,
     "metadata": {},
     "output_type": "execute_result"
    }
   ],
   "source": [
    "final_test_data.nunique()"
   ]
  },
  {
   "cell_type": "code",
   "execution_count": 239,
   "metadata": {},
   "outputs": [],
   "source": [
    "X = sample_data.drop([\"state\", \"usd_pledged_real\"], axis=1)\n",
    "\n",
    "Y_classification = sample_data.state\n",
    "\n",
    "#regression\n",
    "Y_regression = sample_data.usd_pledged_real\n",
    "\n",
    "#classification\n",
    "x_train, x_test, y_train, y_test = train_test_split(X, Y_classification, test_size=0.25, random_state=42)"
   ]
  },
  {
   "cell_type": "markdown",
   "metadata": {},
   "source": [
    "In order to have faster computations we have to try to sample or implement dimension reduction techniques."
   ]
  },
  {
   "cell_type": "markdown",
   "metadata": {},
   "source": [
    "## Classification"
   ]
  },
  {
   "cell_type": "code",
   "execution_count": 240,
   "metadata": {},
   "outputs": [
    {
     "data": {
      "text/plain": [
       "'state~backers+usd_goal_real+days_to_deadline+main_category_Comics+main_category_Crafts+main_category_Dance+main_category_Design+main_category_Fashion+main_category_Film_Video+main_category_Food+main_category_Games+main_category_Journalism+main_category_Music+main_category_Photography+main_category_Publishing+main_category_Technology+main_category_Theater+country_AU+country_BE+country_CA+country_CH+country_DE+country_DK+country_ES+country_FR+country_GB+country_HK+country_IE+country_IT+country_JP+country_LU+country_MX+country_N0+country_NL+country_NO+country_NZ+country_SE+country_SG+country_US'"
      ]
     },
     "execution_count": 240,
     "metadata": {},
     "output_type": "execute_result"
    }
   ],
   "source": [
    "formula = \"state~\" + \"+\".join(X.columns)\n",
    "formula"
   ]
  },
  {
   "cell_type": "code",
   "execution_count": 248,
   "metadata": {
    "scrolled": true
   },
   "outputs": [
    {
     "name": "stdout",
     "output_type": "stream",
     "text": [
      "Optimization terminated successfully.\n",
      "         Current function value: 0.317866\n",
      "         Iterations 13\n"
     ]
    }
   ],
   "source": [
    "#statsmodels logit\n",
    "logit = Logit.from_formula(formula=formula, data=X.join(Y_classification)).fit()"
   ]
  },
  {
   "cell_type": "code",
   "execution_count": 249,
   "metadata": {},
   "outputs": [
    {
     "data": {
      "text/html": [
       "<table class=\"simpletable\">\n",
       "<tr>\n",
       "        <td>Model:</td>              <td>Logit</td>      <td>Pseudo R-squared:</td>    <td>0.529</td>   \n",
       "</tr>\n",
       "<tr>\n",
       "  <td>Dependent Variable:</td>       <td>state</td>            <td>AIC:</td>        <td>190799.5874</td>\n",
       "</tr>\n",
       "<tr>\n",
       "         <td>Date:</td>        <td>2018-12-10 20:49</td>       <td>BIC:</td>        <td>191224.0489</td>\n",
       "</tr>\n",
       "<tr>\n",
       "   <td>No. Observations:</td>       <td>300000</td>       <td>Log-Likelihood:</td>    <td>-95360.</td>  \n",
       "</tr>\n",
       "<tr>\n",
       "       <td>Df Model:</td>             <td>39</td>            <td>LL-Null:</td>      <td>-2.0234e+05</td>\n",
       "</tr>\n",
       "<tr>\n",
       "     <td>Df Residuals:</td>         <td>299960</td>        <td>LLR p-value:</td>      <td>0.0000</td>   \n",
       "</tr>\n",
       "<tr>\n",
       "      <td>Converged:</td>           <td>1.0000</td>           <td>Scale:</td>         <td>1.0000</td>   \n",
       "</tr>\n",
       "<tr>\n",
       "    <td>No. Iterations:</td>        <td>13.0000</td>             <td></td>               <td></td>      \n",
       "</tr>\n",
       "</table>\n",
       "<table class=\"simpletable\">\n",
       "<tr>\n",
       "              <td></td>               <th>Coef.</th>  <th>Std.Err.</th>     <th>z</th>      <th>P>|z|</th> <th>[0.025</th>  <th>0.975]</th> \n",
       "</tr>\n",
       "<tr>\n",
       "  <th>Intercept</th>                 <td>-0.4889</td>  <td>0.1828</td>   <td>-2.6743</td>  <td>0.0075</td> <td>-0.8472</td> <td>-0.1306</td>\n",
       "</tr>\n",
       "<tr>\n",
       "  <th>backers</th>                   <td>0.0549</td>   <td>0.0003</td>  <td>219.5880</td>  <td>0.0000</td> <td>0.0545</td>  <td>0.0554</td> \n",
       "</tr>\n",
       "<tr>\n",
       "  <th>usd_goal_real</th>             <td>-0.0002</td>  <td>0.0000</td>  <td>-171.1031</td> <td>0.0000</td> <td>-0.0002</td> <td>-0.0002</td>\n",
       "</tr>\n",
       "<tr>\n",
       "  <th>days_to_deadline</th>          <td>-0.0126</td>  <td>0.0004</td>  <td>-28.0617</td>  <td>0.0000</td> <td>-0.0135</td> <td>-0.0117</td>\n",
       "</tr>\n",
       "<tr>\n",
       "  <th>main_category_Comics</th>      <td>-0.5086</td>  <td>0.0378</td>  <td>-13.4449</td>  <td>0.0000</td> <td>-0.5828</td> <td>-0.4345</td>\n",
       "</tr>\n",
       "<tr>\n",
       "  <th>main_category_Crafts</th>      <td>-0.6727</td>  <td>0.0382</td>  <td>-17.5904</td>  <td>0.0000</td> <td>-0.7477</td> <td>-0.5978</td>\n",
       "</tr>\n",
       "<tr>\n",
       "  <th>main_category_Dance</th>       <td>0.7156</td>   <td>0.0499</td>   <td>14.3292</td>  <td>0.0000</td> <td>0.6177</td>  <td>0.8134</td> \n",
       "</tr>\n",
       "<tr>\n",
       "  <th>main_category_Design</th>      <td>-0.6549</td>  <td>0.0306</td>  <td>-21.4378</td>  <td>0.0000</td> <td>-0.7148</td> <td>-0.5951</td>\n",
       "</tr>\n",
       "<tr>\n",
       "  <th>main_category_Fashion</th>     <td>-0.5962</td>  <td>0.0296</td>  <td>-20.1636</td>  <td>0.0000</td> <td>-0.6541</td> <td>-0.5382</td>\n",
       "</tr>\n",
       "<tr>\n",
       "  <th>main_category_Film_Video</th>  <td>0.2223</td>   <td>0.0216</td>   <td>10.2956</td>  <td>0.0000</td> <td>0.1799</td>  <td>0.2646</td> \n",
       "</tr>\n",
       "<tr>\n",
       "  <th>main_category_Food</th>        <td>-0.4784</td>  <td>0.0305</td>  <td>-15.6768</td>  <td>0.0000</td> <td>-0.5382</td> <td>-0.4186</td>\n",
       "</tr>\n",
       "<tr>\n",
       "  <th>main_category_Games</th>       <td>-1.5305</td>  <td>0.0325</td>  <td>-47.1414</td>  <td>0.0000</td> <td>-1.5941</td> <td>-1.4668</td>\n",
       "</tr>\n",
       "<tr>\n",
       "  <th>main_category_Journalism</th>  <td>-0.6809</td>  <td>0.0561</td>  <td>-12.1453</td>  <td>0.0000</td> <td>-0.7907</td> <td>-0.5710</td>\n",
       "</tr>\n",
       "<tr>\n",
       "  <th>main_category_Music</th>       <td>0.1410</td>   <td>0.0220</td>   <td>6.4162</td>   <td>0.0000</td> <td>0.0979</td>  <td>0.1841</td> \n",
       "</tr>\n",
       "<tr>\n",
       "  <th>main_category_Photography</th> <td>-0.3852</td>  <td>0.0348</td>  <td>-11.0748</td>  <td>0.0000</td> <td>-0.4534</td> <td>-0.3171</td>\n",
       "</tr>\n",
       "<tr>\n",
       "  <th>main_category_Publishing</th>  <td>-0.5292</td>  <td>0.0243</td>  <td>-21.7971</td>  <td>0.0000</td> <td>-0.5768</td> <td>-0.4817</td>\n",
       "</tr>\n",
       "<tr>\n",
       "  <th>main_category_Technology</th>  <td>-0.6018</td>  <td>0.0335</td>  <td>-17.9455</td>  <td>0.0000</td> <td>-0.6676</td> <td>-0.5361</td>\n",
       "</tr>\n",
       "<tr>\n",
       "  <th>main_category_Theater</th>     <td>0.7152</td>   <td>0.0332</td>   <td>21.5545</td>  <td>0.0000</td> <td>0.6502</td>  <td>0.7802</td> \n",
       "</tr>\n",
       "<tr>\n",
       "  <th>country_AU</th>                <td>-0.0759</td>  <td>0.1867</td>   <td>-0.4064</td>  <td>0.6845</td> <td>-0.4418</td> <td>0.2901</td> \n",
       "</tr>\n",
       "<tr>\n",
       "  <th>country_BE</th>                <td>0.2339</td>   <td>0.2357</td>   <td>0.9921</td>   <td>0.3211</td> <td>-0.2281</td> <td>0.6959</td> \n",
       "</tr>\n",
       "<tr>\n",
       "  <th>country_CA</th>                <td>0.0480</td>   <td>0.1841</td>   <td>0.2609</td>   <td>0.7942</td> <td>-0.3128</td> <td>0.4088</td> \n",
       "</tr>\n",
       "<tr>\n",
       "  <th>country_CH</th>                <td>0.8346</td>   <td>0.2343</td>   <td>3.5614</td>   <td>0.0004</td> <td>0.3753</td>  <td>1.2939</td> \n",
       "</tr>\n",
       "<tr>\n",
       "  <th>country_DE</th>                <td>-0.0272</td>  <td>0.1929</td>   <td>-0.1409</td>  <td>0.8879</td> <td>-0.4052</td> <td>0.3508</td> \n",
       "</tr>\n",
       "<tr>\n",
       "  <th>country_DK</th>                <td>0.3649</td>   <td>0.2086</td>   <td>1.7493</td>   <td>0.0802</td> <td>-0.0439</td> <td>0.7738</td> \n",
       "</tr>\n",
       "<tr>\n",
       "  <th>country_ES</th>                <td>-0.1829</td>  <td>0.2027</td>   <td>-0.9022</td>  <td>0.3669</td> <td>-0.5802</td> <td>0.2144</td> \n",
       "</tr>\n",
       "<tr>\n",
       "  <th>country_FR</th>                <td>0.3513</td>   <td>0.1950</td>   <td>1.8017</td>   <td>0.0716</td> <td>-0.0309</td> <td>0.7335</td> \n",
       "</tr>\n",
       "<tr>\n",
       "  <th>country_GB</th>                <td>0.2491</td>   <td>0.1825</td>   <td>1.3651</td>   <td>0.1722</td> <td>-0.1085</td> <td>0.6067</td> \n",
       "</tr>\n",
       "<tr>\n",
       "  <th>country_HK</th>                <td>1.0007</td>   <td>0.2408</td>   <td>4.1565</td>   <td>0.0000</td> <td>0.5289</td>  <td>1.4726</td> \n",
       "</tr>\n",
       "<tr>\n",
       "  <th>country_IE</th>                <td>-0.2978</td>  <td>0.2319</td>   <td>-1.2838</td>  <td>0.1992</td> <td>-0.7524</td> <td>0.1568</td> \n",
       "</tr>\n",
       "<tr>\n",
       "  <th>country_IT</th>                <td>-0.1421</td>  <td>0.2012</td>   <td>-0.7065</td>  <td>0.4799</td> <td>-0.5364</td> <td>0.2522</td> \n",
       "</tr>\n",
       "<tr>\n",
       "  <th>country_JP</th>                <td>0.1835</td>   <td>0.7134</td>   <td>0.2572</td>   <td>0.7970</td> <td>-1.2147</td> <td>1.5817</td> \n",
       "</tr>\n",
       "<tr>\n",
       "  <th>country_LU</th>                <td>0.4196</td>   <td>0.5126</td>   <td>0.8185</td>   <td>0.4131</td> <td>-0.5851</td> <td>1.4243</td> \n",
       "</tr>\n",
       "<tr>\n",
       "  <th>country_MX</th>                <td>-0.2887</td>  <td>0.1995</td>   <td>-1.4470</td>  <td>0.1479</td> <td>-0.6797</td> <td>0.1023</td> \n",
       "</tr>\n",
       "<tr>\n",
       "  <th>country_N0</th>                <td>1.9304</td>   <td>0.2381</td>   <td>8.1075</td>   <td>0.0000</td> <td>1.4637</td>  <td>2.3971</td> \n",
       "</tr>\n",
       "<tr>\n",
       "  <th>country_NL</th>                <td>0.1016</td>   <td>0.1969</td>   <td>0.5158</td>   <td>0.6060</td> <td>-0.2844</td> <td>0.4875</td> \n",
       "</tr>\n",
       "<tr>\n",
       "  <th>country_NO</th>                <td>0.0020</td>   <td>0.2320</td>   <td>0.0086</td>   <td>0.9931</td> <td>-0.4527</td> <td>0.4567</td> \n",
       "</tr>\n",
       "<tr>\n",
       "  <th>country_NZ</th>                <td>0.0613</td>   <td>0.2039</td>   <td>0.3008</td>   <td>0.7636</td> <td>-0.3383</td> <td>0.4610</td> \n",
       "</tr>\n",
       "<tr>\n",
       "  <th>country_SE</th>                <td>-0.0904</td>  <td>0.2025</td>   <td>-0.4462</td>  <td>0.6555</td> <td>-0.4873</td> <td>0.3066</td> \n",
       "</tr>\n",
       "<tr>\n",
       "  <th>country_SG</th>                <td>-0.0581</td>  <td>0.2437</td>   <td>-0.2385</td>  <td>0.8115</td> <td>-0.5359</td> <td>0.4196</td> \n",
       "</tr>\n",
       "<tr>\n",
       "  <th>country_US</th>                <td>0.2154</td>   <td>0.1816</td>   <td>1.1862</td>   <td>0.2356</td> <td>-0.1405</td> <td>0.5714</td> \n",
       "</tr>\n",
       "</table>"
      ],
      "text/plain": [
       "<class 'statsmodels.iolib.summary2.Summary'>\n",
       "\"\"\"\n",
       "                              Results: Logit\n",
       "===========================================================================\n",
       "Model:                 Logit               Pseudo R-squared:    0.529      \n",
       "Dependent Variable:    state               AIC:                 190799.5874\n",
       "Date:                  2018-12-10 20:49    BIC:                 191224.0489\n",
       "No. Observations:      300000              Log-Likelihood:      -95360.    \n",
       "Df Model:              39                  LL-Null:             -2.0234e+05\n",
       "Df Residuals:          299960              LLR p-value:         0.0000     \n",
       "Converged:             1.0000              Scale:               1.0000     \n",
       "No. Iterations:        13.0000                                             \n",
       "---------------------------------------------------------------------------\n",
       "                           Coef.  Std.Err.     z     P>|z|   [0.025  0.975]\n",
       "---------------------------------------------------------------------------\n",
       "Intercept                 -0.4889   0.1828   -2.6743 0.0075 -0.8472 -0.1306\n",
       "backers                    0.0549   0.0003  219.5880 0.0000  0.0545  0.0554\n",
       "usd_goal_real             -0.0002   0.0000 -171.1031 0.0000 -0.0002 -0.0002\n",
       "days_to_deadline          -0.0126   0.0004  -28.0617 0.0000 -0.0135 -0.0117\n",
       "main_category_Comics      -0.5086   0.0378  -13.4449 0.0000 -0.5828 -0.4345\n",
       "main_category_Crafts      -0.6727   0.0382  -17.5904 0.0000 -0.7477 -0.5978\n",
       "main_category_Dance        0.7156   0.0499   14.3292 0.0000  0.6177  0.8134\n",
       "main_category_Design      -0.6549   0.0306  -21.4378 0.0000 -0.7148 -0.5951\n",
       "main_category_Fashion     -0.5962   0.0296  -20.1636 0.0000 -0.6541 -0.5382\n",
       "main_category_Film_Video   0.2223   0.0216   10.2956 0.0000  0.1799  0.2646\n",
       "main_category_Food        -0.4784   0.0305  -15.6768 0.0000 -0.5382 -0.4186\n",
       "main_category_Games       -1.5305   0.0325  -47.1414 0.0000 -1.5941 -1.4668\n",
       "main_category_Journalism  -0.6809   0.0561  -12.1453 0.0000 -0.7907 -0.5710\n",
       "main_category_Music        0.1410   0.0220    6.4162 0.0000  0.0979  0.1841\n",
       "main_category_Photography -0.3852   0.0348  -11.0748 0.0000 -0.4534 -0.3171\n",
       "main_category_Publishing  -0.5292   0.0243  -21.7971 0.0000 -0.5768 -0.4817\n",
       "main_category_Technology  -0.6018   0.0335  -17.9455 0.0000 -0.6676 -0.5361\n",
       "main_category_Theater      0.7152   0.0332   21.5545 0.0000  0.6502  0.7802\n",
       "country_AU                -0.0759   0.1867   -0.4064 0.6845 -0.4418  0.2901\n",
       "country_BE                 0.2339   0.2357    0.9921 0.3211 -0.2281  0.6959\n",
       "country_CA                 0.0480   0.1841    0.2609 0.7942 -0.3128  0.4088\n",
       "country_CH                 0.8346   0.2343    3.5614 0.0004  0.3753  1.2939\n",
       "country_DE                -0.0272   0.1929   -0.1409 0.8879 -0.4052  0.3508\n",
       "country_DK                 0.3649   0.2086    1.7493 0.0802 -0.0439  0.7738\n",
       "country_ES                -0.1829   0.2027   -0.9022 0.3669 -0.5802  0.2144\n",
       "country_FR                 0.3513   0.1950    1.8017 0.0716 -0.0309  0.7335\n",
       "country_GB                 0.2491   0.1825    1.3651 0.1722 -0.1085  0.6067\n",
       "country_HK                 1.0007   0.2408    4.1565 0.0000  0.5289  1.4726\n",
       "country_IE                -0.2978   0.2319   -1.2838 0.1992 -0.7524  0.1568\n",
       "country_IT                -0.1421   0.2012   -0.7065 0.4799 -0.5364  0.2522\n",
       "country_JP                 0.1835   0.7134    0.2572 0.7970 -1.2147  1.5817\n",
       "country_LU                 0.4196   0.5126    0.8185 0.4131 -0.5851  1.4243\n",
       "country_MX                -0.2887   0.1995   -1.4470 0.1479 -0.6797  0.1023\n",
       "country_N0                 1.9304   0.2381    8.1075 0.0000  1.4637  2.3971\n",
       "country_NL                 0.1016   0.1969    0.5158 0.6060 -0.2844  0.4875\n",
       "country_NO                 0.0020   0.2320    0.0086 0.9931 -0.4527  0.4567\n",
       "country_NZ                 0.0613   0.2039    0.3008 0.7636 -0.3383  0.4610\n",
       "country_SE                -0.0904   0.2025   -0.4462 0.6555 -0.4873  0.3066\n",
       "country_SG                -0.0581   0.2437   -0.2385 0.8115 -0.5359  0.4196\n",
       "country_US                 0.2154   0.1816    1.1862 0.2356 -0.1405  0.5714\n",
       "===========================================================================\n",
       "\n",
       "\"\"\""
      ]
     },
     "execution_count": 249,
     "metadata": {},
     "output_type": "execute_result"
    }
   ],
   "source": [
    "logit.summary2()"
   ]
  },
  {
   "cell_type": "code",
   "execution_count": 228,
   "metadata": {},
   "outputs": [],
   "source": [
    "significants = model_ols.pvalues[model_ols.pvalues < 0.05].index.tolist()"
   ]
  },
  {
   "cell_type": "code",
   "execution_count": 234,
   "metadata": {
    "scrolled": true
   },
   "outputs": [
    {
     "name": "stderr",
     "output_type": "stream",
     "text": [
      "C:\\Users\\8460p\\Anaconda3\\lib\\site-packages\\statsmodels\\discrete\\discrete_model.py:1698: RuntimeWarning: overflow encountered in square\n",
      "  return np.exp(-X)/(1+np.exp(-X))**2\n",
      "C:\\Users\\8460p\\Anaconda3\\lib\\site-packages\\statsmodels\\discrete\\discrete_model.py:1698: RuntimeWarning: invalid value encountered in true_divide\n",
      "  return np.exp(-X)/(1+np.exp(-X))**2\n",
      "C:\\Users\\8460p\\Anaconda3\\lib\\site-packages\\statsmodels\\discrete\\discrete_model.py:1698: RuntimeWarning: overflow encountered in exp\n",
      "  return np.exp(-X)/(1+np.exp(-X))**2\n",
      "C:\\Users\\8460p\\Anaconda3\\lib\\site-packages\\statsmodels\\discrete\\discrete_model.py:1698: RuntimeWarning: invalid value encountered in square\n",
      "  return np.exp(-X)/(1+np.exp(-X))**2\n",
      "C:\\Users\\8460p\\Anaconda3\\lib\\site-packages\\scipy\\stats\\_distn_infrastructure.py:879: RuntimeWarning: invalid value encountered in greater\n",
      "  return (self.a < x) & (x < self.b)\n",
      "C:\\Users\\8460p\\Anaconda3\\lib\\site-packages\\scipy\\stats\\_distn_infrastructure.py:879: RuntimeWarning: invalid value encountered in less\n",
      "  return (self.a < x) & (x < self.b)\n",
      "C:\\Users\\8460p\\Anaconda3\\lib\\site-packages\\scipy\\stats\\_distn_infrastructure.py:1821: RuntimeWarning: invalid value encountered in less_equal\n",
      "  cond2 = cond0 & (x <= self.a)\n"
     ]
    },
    {
     "data": {
      "text/html": [
       "<table class=\"simpletable\">\n",
       "<caption>Logit Marginal Effects</caption>\n",
       "<tr>\n",
       "  <th>Dep. Variable:</th>  <td>state</td> \n",
       "</tr>\n",
       "<tr>\n",
       "  <th>Method:</th>         <td>dydx</td>  \n",
       "</tr>\n",
       "<tr>\n",
       "  <th>At:</th>            <td>overall</td>\n",
       "</tr>\n",
       "</table>\n",
       "<table class=\"simpletable\">\n",
       "<tr>\n",
       "              <th></th>                 <th>dy/dx</th>    <th>std err</th>      <th>z</th>      <th>P>|z|</th>  <th>[0.025</th>    <th>0.975]</th>  \n",
       "</tr>\n",
       "<tr>\n",
       "  <th>backers</th>                   <td>       nan</td> <td>      nan</td> <td>      nan</td> <td>   nan</td> <td>      nan</td> <td>      nan</td>\n",
       "</tr>\n",
       "<tr>\n",
       "  <th>usd_goal_real</th>             <td>       nan</td> <td>      nan</td> <td>      nan</td> <td>   nan</td> <td>      nan</td> <td>      nan</td>\n",
       "</tr>\n",
       "<tr>\n",
       "  <th>days_to_deadline</th>          <td>       nan</td> <td>      nan</td> <td>      nan</td> <td>   nan</td> <td>      nan</td> <td>      nan</td>\n",
       "</tr>\n",
       "<tr>\n",
       "  <th>main_category_Comics</th>      <td>       nan</td> <td>      nan</td> <td>      nan</td> <td>   nan</td> <td>      nan</td> <td>      nan</td>\n",
       "</tr>\n",
       "<tr>\n",
       "  <th>main_category_Crafts</th>      <td>       nan</td> <td>      nan</td> <td>      nan</td> <td>   nan</td> <td>      nan</td> <td>      nan</td>\n",
       "</tr>\n",
       "<tr>\n",
       "  <th>main_category_Dance</th>       <td>       nan</td> <td>      nan</td> <td>      nan</td> <td>   nan</td> <td>      nan</td> <td>      nan</td>\n",
       "</tr>\n",
       "<tr>\n",
       "  <th>main_category_Design</th>      <td>       nan</td> <td>      nan</td> <td>      nan</td> <td>   nan</td> <td>      nan</td> <td>      nan</td>\n",
       "</tr>\n",
       "<tr>\n",
       "  <th>main_category_Fashion</th>     <td>       nan</td> <td>      nan</td> <td>      nan</td> <td>   nan</td> <td>      nan</td> <td>      nan</td>\n",
       "</tr>\n",
       "<tr>\n",
       "  <th>main_category_Film_Video</th>  <td>       nan</td> <td>      nan</td> <td>      nan</td> <td>   nan</td> <td>      nan</td> <td>      nan</td>\n",
       "</tr>\n",
       "<tr>\n",
       "  <th>main_category_Food</th>        <td>       nan</td> <td>      nan</td> <td>      nan</td> <td>   nan</td> <td>      nan</td> <td>      nan</td>\n",
       "</tr>\n",
       "<tr>\n",
       "  <th>main_category_Games</th>       <td>       nan</td> <td>      nan</td> <td>      nan</td> <td>   nan</td> <td>      nan</td> <td>      nan</td>\n",
       "</tr>\n",
       "<tr>\n",
       "  <th>main_category_Journalism</th>  <td>       nan</td> <td>      nan</td> <td>      nan</td> <td>   nan</td> <td>      nan</td> <td>      nan</td>\n",
       "</tr>\n",
       "<tr>\n",
       "  <th>main_category_Music</th>       <td>       nan</td> <td>      nan</td> <td>      nan</td> <td>   nan</td> <td>      nan</td> <td>      nan</td>\n",
       "</tr>\n",
       "<tr>\n",
       "  <th>main_category_Photography</th> <td>       nan</td> <td>      nan</td> <td>      nan</td> <td>   nan</td> <td>      nan</td> <td>      nan</td>\n",
       "</tr>\n",
       "<tr>\n",
       "  <th>main_category_Publishing</th>  <td>       nan</td> <td>      nan</td> <td>      nan</td> <td>   nan</td> <td>      nan</td> <td>      nan</td>\n",
       "</tr>\n",
       "<tr>\n",
       "  <th>main_category_Technology</th>  <td>       nan</td> <td>      nan</td> <td>      nan</td> <td>   nan</td> <td>      nan</td> <td>      nan</td>\n",
       "</tr>\n",
       "<tr>\n",
       "  <th>main_category_Theater</th>     <td>       nan</td> <td>      nan</td> <td>      nan</td> <td>   nan</td> <td>      nan</td> <td>      nan</td>\n",
       "</tr>\n",
       "<tr>\n",
       "  <th>country_AU</th>                <td>       nan</td> <td>      nan</td> <td>      nan</td> <td>   nan</td> <td>      nan</td> <td>      nan</td>\n",
       "</tr>\n",
       "<tr>\n",
       "  <th>country_BE</th>                <td>       nan</td> <td>      nan</td> <td>      nan</td> <td>   nan</td> <td>      nan</td> <td>      nan</td>\n",
       "</tr>\n",
       "<tr>\n",
       "  <th>country_CA</th>                <td>       nan</td> <td>      nan</td> <td>      nan</td> <td>   nan</td> <td>      nan</td> <td>      nan</td>\n",
       "</tr>\n",
       "<tr>\n",
       "  <th>country_CH</th>                <td>       nan</td> <td>      nan</td> <td>      nan</td> <td>   nan</td> <td>      nan</td> <td>      nan</td>\n",
       "</tr>\n",
       "<tr>\n",
       "  <th>country_DE</th>                <td>       nan</td> <td>      nan</td> <td>      nan</td> <td>   nan</td> <td>      nan</td> <td>      nan</td>\n",
       "</tr>\n",
       "<tr>\n",
       "  <th>country_DK</th>                <td>       nan</td> <td>      nan</td> <td>      nan</td> <td>   nan</td> <td>      nan</td> <td>      nan</td>\n",
       "</tr>\n",
       "<tr>\n",
       "  <th>country_ES</th>                <td>       nan</td> <td>      nan</td> <td>      nan</td> <td>   nan</td> <td>      nan</td> <td>      nan</td>\n",
       "</tr>\n",
       "<tr>\n",
       "  <th>country_FR</th>                <td>       nan</td> <td>      nan</td> <td>      nan</td> <td>   nan</td> <td>      nan</td> <td>      nan</td>\n",
       "</tr>\n",
       "<tr>\n",
       "  <th>country_GB</th>                <td>       nan</td> <td>      nan</td> <td>      nan</td> <td>   nan</td> <td>      nan</td> <td>      nan</td>\n",
       "</tr>\n",
       "<tr>\n",
       "  <th>country_HK</th>                <td>       nan</td> <td>      nan</td> <td>      nan</td> <td>   nan</td> <td>      nan</td> <td>      nan</td>\n",
       "</tr>\n",
       "<tr>\n",
       "  <th>country_IE</th>                <td>       nan</td> <td>      nan</td> <td>      nan</td> <td>   nan</td> <td>      nan</td> <td>      nan</td>\n",
       "</tr>\n",
       "<tr>\n",
       "  <th>country_IT</th>                <td>       nan</td> <td>      nan</td> <td>      nan</td> <td>   nan</td> <td>      nan</td> <td>      nan</td>\n",
       "</tr>\n",
       "<tr>\n",
       "  <th>country_JP</th>                <td>       nan</td> <td>      nan</td> <td>      nan</td> <td>   nan</td> <td>      nan</td> <td>      nan</td>\n",
       "</tr>\n",
       "<tr>\n",
       "  <th>country_LU</th>                <td>       nan</td> <td>      nan</td> <td>      nan</td> <td>   nan</td> <td>      nan</td> <td>      nan</td>\n",
       "</tr>\n",
       "<tr>\n",
       "  <th>country_MX</th>                <td>       nan</td> <td>      nan</td> <td>      nan</td> <td>   nan</td> <td>      nan</td> <td>      nan</td>\n",
       "</tr>\n",
       "<tr>\n",
       "  <th>country_N0</th>                <td>       nan</td> <td>      nan</td> <td>      nan</td> <td>   nan</td> <td>      nan</td> <td>      nan</td>\n",
       "</tr>\n",
       "<tr>\n",
       "  <th>country_NL</th>                <td>       nan</td> <td>      nan</td> <td>      nan</td> <td>   nan</td> <td>      nan</td> <td>      nan</td>\n",
       "</tr>\n",
       "<tr>\n",
       "  <th>country_NO</th>                <td>       nan</td> <td>      nan</td> <td>      nan</td> <td>   nan</td> <td>      nan</td> <td>      nan</td>\n",
       "</tr>\n",
       "<tr>\n",
       "  <th>country_NZ</th>                <td>       nan</td> <td>      nan</td> <td>      nan</td> <td>   nan</td> <td>      nan</td> <td>      nan</td>\n",
       "</tr>\n",
       "<tr>\n",
       "  <th>country_SE</th>                <td>       nan</td> <td>      nan</td> <td>      nan</td> <td>   nan</td> <td>      nan</td> <td>      nan</td>\n",
       "</tr>\n",
       "<tr>\n",
       "  <th>country_SG</th>                <td>       nan</td> <td>      nan</td> <td>      nan</td> <td>   nan</td> <td>      nan</td> <td>      nan</td>\n",
       "</tr>\n",
       "<tr>\n",
       "  <th>country_US</th>                <td>       nan</td> <td>      nan</td> <td>      nan</td> <td>   nan</td> <td>      nan</td> <td>      nan</td>\n",
       "</tr>\n",
       "</table>"
      ],
      "text/plain": [
       "<class 'statsmodels.iolib.summary.Summary'>\n",
       "\"\"\"\n",
       "        Logit Marginal Effects       \n",
       "=====================================\n",
       "Dep. Variable:                  state\n",
       "Method:                          dydx\n",
       "At:                           overall\n",
       "=============================================================================================\n",
       "                               dy/dx    std err          z      P>|z|      [0.025      0.975]\n",
       "---------------------------------------------------------------------------------------------\n",
       "backers                          nan        nan        nan        nan         nan         nan\n",
       "usd_goal_real                    nan        nan        nan        nan         nan         nan\n",
       "days_to_deadline                 nan        nan        nan        nan         nan         nan\n",
       "main_category_Comics             nan        nan        nan        nan         nan         nan\n",
       "main_category_Crafts             nan        nan        nan        nan         nan         nan\n",
       "main_category_Dance              nan        nan        nan        nan         nan         nan\n",
       "main_category_Design             nan        nan        nan        nan         nan         nan\n",
       "main_category_Fashion            nan        nan        nan        nan         nan         nan\n",
       "main_category_Film_Video         nan        nan        nan        nan         nan         nan\n",
       "main_category_Food               nan        nan        nan        nan         nan         nan\n",
       "main_category_Games              nan        nan        nan        nan         nan         nan\n",
       "main_category_Journalism         nan        nan        nan        nan         nan         nan\n",
       "main_category_Music              nan        nan        nan        nan         nan         nan\n",
       "main_category_Photography        nan        nan        nan        nan         nan         nan\n",
       "main_category_Publishing         nan        nan        nan        nan         nan         nan\n",
       "main_category_Technology         nan        nan        nan        nan         nan         nan\n",
       "main_category_Theater            nan        nan        nan        nan         nan         nan\n",
       "country_AU                       nan        nan        nan        nan         nan         nan\n",
       "country_BE                       nan        nan        nan        nan         nan         nan\n",
       "country_CA                       nan        nan        nan        nan         nan         nan\n",
       "country_CH                       nan        nan        nan        nan         nan         nan\n",
       "country_DE                       nan        nan        nan        nan         nan         nan\n",
       "country_DK                       nan        nan        nan        nan         nan         nan\n",
       "country_ES                       nan        nan        nan        nan         nan         nan\n",
       "country_FR                       nan        nan        nan        nan         nan         nan\n",
       "country_GB                       nan        nan        nan        nan         nan         nan\n",
       "country_HK                       nan        nan        nan        nan         nan         nan\n",
       "country_IE                       nan        nan        nan        nan         nan         nan\n",
       "country_IT                       nan        nan        nan        nan         nan         nan\n",
       "country_JP                       nan        nan        nan        nan         nan         nan\n",
       "country_LU                       nan        nan        nan        nan         nan         nan\n",
       "country_MX                       nan        nan        nan        nan         nan         nan\n",
       "country_N0                       nan        nan        nan        nan         nan         nan\n",
       "country_NL                       nan        nan        nan        nan         nan         nan\n",
       "country_NO                       nan        nan        nan        nan         nan         nan\n",
       "country_NZ                       nan        nan        nan        nan         nan         nan\n",
       "country_SE                       nan        nan        nan        nan         nan         nan\n",
       "country_SG                       nan        nan        nan        nan         nan         nan\n",
       "country_US                       nan        nan        nan        nan         nan         nan\n",
       "=============================================================================================\n",
       "\"\"\""
      ]
     },
     "execution_count": 234,
     "metadata": {},
     "output_type": "execute_result"
    }
   ],
   "source": [
    "logit.get_margeff().summary()\n",
    "#RuntimeWarning: overflow encountered"
   ]
  },
  {
   "cell_type": "code",
   "execution_count": 130,
   "metadata": {},
   "outputs": [],
   "source": [
    "logreg = LogisticRegression(random_state=42)\n",
    "\n",
    "params_logreg = {\n",
    "    \"C\": np.linspace(0.000001, 1, 50),\n",
    "    \"penalty\": ['l1', 'l2'],\n",
    "    \"class_weight\": ['balanced', None],\n",
    "}\n",
    "\n",
    "gs_logreg = GridSearchCV(logreg, param_grid=params_logreg, scoring=\"roc_auc\", cv=5, n_jobs=-1)\n",
    "\n",
    "tree = DecisionTreeClassifier(random_state=42)\n",
    "\n",
    "params_tree = {\n",
    "    \"max_depth\": range(5,16),\n",
    "    \"min_samples_leaf\": range(150, 251, 10),\n",
    "    \"class_weight\": ['balanced', None],\n",
    "    \"criterion\": ['gini', 'entropy']\n",
    "}\n",
    "\n",
    "gs_tree = GridSearchCV(tree, param_grid=params_tree, scoring=\"roc_auc\", cv=5, n_jobs=-1)"
   ]
  },
  {
   "cell_type": "code",
   "execution_count": 131,
   "metadata": {},
   "outputs": [
    {
     "name": "stdout",
     "output_type": "stream",
     "text": [
      "6.5 s ± 197 ms per loop (mean ± std. dev. of 7 runs, 1 loop each)\n"
     ]
    }
   ],
   "source": [
    "%timeit gs_logreg.fit(X, Y_classification) # sample_size=10**3"
   ]
  },
  {
   "cell_type": "code",
   "execution_count": 132,
   "metadata": {},
   "outputs": [
    {
     "data": {
      "text/plain": [
       "GridSearchCV(cv=5, error_score='raise',\n",
       "       estimator=LogisticRegression(C=1.0, class_weight=None, dual=False, fit_intercept=True,\n",
       "          intercept_scaling=1, max_iter=100, multi_class='ovr', n_jobs=1,\n",
       "          penalty='l2', random_state=42, solver='liblinear', tol=0.0001,\n",
       "          verbose=0, warm_start=False),\n",
       "       fit_params=None, iid=True, n_jobs=-1,\n",
       "       param_grid={'C': array([1.00000e-06, 2.04091e-02, 4.08173e-02, 6.12254e-02, 8.16336e-02,\n",
       "       1.02042e-01, 1.22450e-01, 1.42858e-01, 1.63266e-01, 1.83674e-01,\n",
       "       2.04082e-01, 2.24491e-01, 2.44899e-01, 2.65307e-01, 2.85715e-01,\n",
       "       3.06123e-01, 3.26531e-01, 3.46939e-01, 3.67348e-01, 3.87756e....59184e-01, 9.79592e-01, 1.00000e+00]), 'penalty': ['l1', 'l2'], 'class_weight': ['balanced', None]},\n",
       "       pre_dispatch='2*n_jobs', refit=True, return_train_score='warn',\n",
       "       scoring='roc_auc', verbose=0)"
      ]
     },
     "execution_count": 132,
     "metadata": {},
     "output_type": "execute_result"
    }
   ],
   "source": [
    "gs_logreg.fit(X, Y_classification)"
   ]
  },
  {
   "cell_type": "code",
   "execution_count": 133,
   "metadata": {},
   "outputs": [
    {
     "data": {
      "text/plain": [
       "{'C': 0.4489801428571428, 'class_weight': 'balanced', 'penalty': 'l1'}"
      ]
     },
     "execution_count": 133,
     "metadata": {},
     "output_type": "execute_result"
    }
   ],
   "source": [
    "gs_logreg.best_params_"
   ]
  },
  {
   "cell_type": "code",
   "execution_count": 134,
   "metadata": {},
   "outputs": [
    {
     "data": {
      "text/plain": [
       "95.9587759219867"
      ]
     },
     "execution_count": 134,
     "metadata": {},
     "output_type": "execute_result"
    }
   ],
   "source": [
    "gs_logreg.best_score_ * 100"
   ]
  },
  {
   "cell_type": "code",
   "execution_count": 135,
   "metadata": {},
   "outputs": [
    {
     "data": {
      "text/plain": [
       "GridSearchCV(cv=5, error_score='raise',\n",
       "       estimator=DecisionTreeClassifier(class_weight=None, criterion='gini', max_depth=None,\n",
       "            max_features=None, max_leaf_nodes=None,\n",
       "            min_impurity_decrease=0.0, min_impurity_split=None,\n",
       "            min_samples_leaf=1, min_samples_split=2,\n",
       "            min_weight_fraction_leaf=0.0, presort=False, random_state=42,\n",
       "            splitter='best'),\n",
       "       fit_params=None, iid=True, n_jobs=-1,\n",
       "       param_grid={'max_depth': range(5, 16), 'min_samples_leaf': range(150, 251, 10), 'class_weight': ['balanced', None], 'criterion': ['gini', 'entropy']},\n",
       "       pre_dispatch='2*n_jobs', refit=True, return_train_score='warn',\n",
       "       scoring='roc_auc', verbose=0)"
      ]
     },
     "execution_count": 135,
     "metadata": {},
     "output_type": "execute_result"
    }
   ],
   "source": [
    "gs_tree.fit(X, Y_classification)"
   ]
  },
  {
   "cell_type": "code",
   "execution_count": 136,
   "metadata": {},
   "outputs": [
    {
     "data": {
      "text/plain": [
       "{'class_weight': None,\n",
       " 'criterion': 'gini',\n",
       " 'max_depth': 5,\n",
       " 'min_samples_leaf': 170}"
      ]
     },
     "execution_count": 136,
     "metadata": {},
     "output_type": "execute_result"
    }
   ],
   "source": [
    "gs_tree.best_params_"
   ]
  },
  {
   "cell_type": "code",
   "execution_count": 137,
   "metadata": {},
   "outputs": [
    {
     "data": {
      "text/plain": [
       "0.9091606074257977"
      ]
     },
     "execution_count": 137,
     "metadata": {},
     "output_type": "execute_result"
    }
   ],
   "source": [
    "gs_tree.best_score_"
   ]
  },
  {
   "cell_type": "markdown",
   "metadata": {},
   "source": [
    "### Logistic Regression"
   ]
  },
  {
   "cell_type": "code",
   "execution_count": 250,
   "metadata": {},
   "outputs": [],
   "source": [
    "logreg = LogisticRegression(random_state=42, C=0.4489801428571428, class_weight=\"balanced\", penalty=\"l1\")\n",
    "logreg.fit(x_train, y_train)\n",
    "y_pred_logreg = logreg.predict(x_test)"
   ]
  },
  {
   "cell_type": "markdown",
   "metadata": {},
   "source": [
    "### Decision Tree"
   ]
  },
  {
   "cell_type": "code",
   "execution_count": 146,
   "metadata": {},
   "outputs": [],
   "source": [
    "tree = DecisionTreeClassifier(random_state=42, class_weight=None, criterion=\"gini\", max_depth=5, min_samples_leaf=170)\n",
    "tree.fit(x_train, y_train)\n",
    "y_pred_tree = tree.predict(x_test)"
   ]
  },
  {
   "cell_type": "code",
   "execution_count": 147,
   "metadata": {},
   "outputs": [],
   "source": [
    "rand_forest = RandomForestClassifier(random_state=42, max_depth=5, min_samples_leaf=170, n_estimators=300)\n",
    "\n",
    "grad_boost = GradientBoostingClassifier(random_state=42, max_depth=5, min_samples_leaf=170, n_estimators=300)"
   ]
  },
  {
   "cell_type": "code",
   "execution_count": 148,
   "metadata": {},
   "outputs": [],
   "source": [
    "rand_forest.fit(x_train, y_train)\n",
    "y_pred_forest = rand_forest.predict(x_test)\n",
    "\n",
    "grad_boost.fit(x_train, y_train)\n",
    "y_pred_grad = grad_boost.predict(x_test)"
   ]
  },
  {
   "cell_type": "code",
   "execution_count": 149,
   "metadata": {},
   "outputs": [
    {
     "data": {
      "text/plain": [
       "'grid = {\\n    \\'C\\': [1e-7, 1e-6, 1e-5, 1e-4, 1e-3, 1e-2, 1e-1, 1e0],\\n    \\'penalty\\': [\\'l2\\'],\\n    \\'n_jobs\\': [-1]\\n}\\nparamGrid = ParameterGrid(grid)\\nbestModel, bestScore, allModels, allScores = \\npf.bestFit(LogisticRegression, paramGrid,\\n           X_train, y_train, X_val, y_val, \\n           metric = roc_auc_score, bestScore=\\'max\\',\\n           scoreLabel = \"AUC\")\\nprint(bestModel, bestScore)'"
      ]
     },
     "execution_count": 149,
     "metadata": {},
     "output_type": "execute_result"
    }
   ],
   "source": [
    "\"\"\"grid = {\n",
    "    'C': [1e-7, 1e-6, 1e-5, 1e-4, 1e-3, 1e-2, 1e-1, 1e0],\n",
    "    'penalty': ['l2'],\n",
    "    'n_jobs': [-1]\n",
    "}\n",
    "paramGrid = ParameterGrid(grid)\n",
    "bestModel, bestScore, allModels, allScores = \n",
    "pf.bestFit(LogisticRegression, paramGrid,\n",
    "           X_train, y_train, X_val, y_val, \n",
    "           metric = roc_auc_score, bestScore='max',\n",
    "           scoreLabel = \"AUC\")\n",
    "print(bestModel, bestScore)\"\"\""
   ]
  },
  {
   "cell_type": "code",
   "execution_count": 150,
   "metadata": {},
   "outputs": [
    {
     "data": {
      "text/html": [
       "<div>\n",
       "<style scoped>\n",
       "    .dataframe tbody tr th:only-of-type {\n",
       "        vertical-align: middle;\n",
       "    }\n",
       "\n",
       "    .dataframe tbody tr th {\n",
       "        vertical-align: top;\n",
       "    }\n",
       "\n",
       "    .dataframe thead th {\n",
       "        text-align: right;\n",
       "    }\n",
       "</style>\n",
       "<table border=\"1\" class=\"dataframe\">\n",
       "  <thead>\n",
       "    <tr style=\"text-align: right;\">\n",
       "      <th></th>\n",
       "      <th>importances</th>\n",
       "    </tr>\n",
       "  </thead>\n",
       "  <tbody>\n",
       "    <tr>\n",
       "      <th>backers</th>\n",
       "      <td>0.829313</td>\n",
       "    </tr>\n",
       "    <tr>\n",
       "      <th>usd_goal_real</th>\n",
       "      <td>0.170687</td>\n",
       "    </tr>\n",
       "    <tr>\n",
       "      <th>country_SG</th>\n",
       "      <td>0.000000</td>\n",
       "    </tr>\n",
       "    <tr>\n",
       "      <th>country_SE</th>\n",
       "      <td>0.000000</td>\n",
       "    </tr>\n",
       "    <tr>\n",
       "      <th>country_DE</th>\n",
       "      <td>0.000000</td>\n",
       "    </tr>\n",
       "  </tbody>\n",
       "</table>\n",
       "</div>"
      ],
      "text/plain": [
       "               importances\n",
       "backers           0.829313\n",
       "usd_goal_real     0.170687\n",
       "country_SG        0.000000\n",
       "country_SE        0.000000\n",
       "country_DE        0.000000"
      ]
     },
     "execution_count": 150,
     "metadata": {},
     "output_type": "execute_result"
    }
   ],
   "source": [
    "#decision tree feature importances\n",
    "pd.DataFrame(data=tree.feature_importances_, \n",
    "             index=X.columns, \n",
    "             columns=['importances']).sort_values(by=\"importances\", ascending=False).head()"
   ]
  },
  {
   "cell_type": "code",
   "execution_count": 254,
   "metadata": {},
   "outputs": [
    {
     "data": {
      "text/html": [
       "<div>\n",
       "<style scoped>\n",
       "    .dataframe tbody tr th:only-of-type {\n",
       "        vertical-align: middle;\n",
       "    }\n",
       "\n",
       "    .dataframe tbody tr th {\n",
       "        vertical-align: top;\n",
       "    }\n",
       "\n",
       "    .dataframe thead th {\n",
       "        text-align: right;\n",
       "    }\n",
       "</style>\n",
       "<table border=\"1\" class=\"dataframe\">\n",
       "  <thead>\n",
       "    <tr style=\"text-align: right;\">\n",
       "      <th></th>\n",
       "      <th>importances</th>\n",
       "    </tr>\n",
       "  </thead>\n",
       "  <tbody>\n",
       "    <tr>\n",
       "      <th>backers</th>\n",
       "      <td>0.674560</td>\n",
       "    </tr>\n",
       "    <tr>\n",
       "      <th>usd_goal_real</th>\n",
       "      <td>0.141261</td>\n",
       "    </tr>\n",
       "    <tr>\n",
       "      <th>days_to_deadline</th>\n",
       "      <td>0.059858</td>\n",
       "    </tr>\n",
       "    <tr>\n",
       "      <th>main_category_Technology</th>\n",
       "      <td>0.030765</td>\n",
       "    </tr>\n",
       "    <tr>\n",
       "      <th>main_category_Music</th>\n",
       "      <td>0.023176</td>\n",
       "    </tr>\n",
       "    <tr>\n",
       "      <th>main_category_Theater</th>\n",
       "      <td>0.018060</td>\n",
       "    </tr>\n",
       "    <tr>\n",
       "      <th>main_category_Food</th>\n",
       "      <td>0.010340</td>\n",
       "    </tr>\n",
       "    <tr>\n",
       "      <th>main_category_Fashion</th>\n",
       "      <td>0.010002</td>\n",
       "    </tr>\n",
       "    <tr>\n",
       "      <th>main_category_Comics</th>\n",
       "      <td>0.009840</td>\n",
       "    </tr>\n",
       "    <tr>\n",
       "      <th>main_category_Dance</th>\n",
       "      <td>0.005141</td>\n",
       "    </tr>\n",
       "  </tbody>\n",
       "</table>\n",
       "</div>"
      ],
      "text/plain": [
       "                          importances\n",
       "backers                      0.674560\n",
       "usd_goal_real                0.141261\n",
       "days_to_deadline             0.059858\n",
       "main_category_Technology     0.030765\n",
       "main_category_Music          0.023176\n",
       "main_category_Theater        0.018060\n",
       "main_category_Food           0.010340\n",
       "main_category_Fashion        0.010002\n",
       "main_category_Comics         0.009840\n",
       "main_category_Dance          0.005141"
      ]
     },
     "execution_count": 254,
     "metadata": {},
     "output_type": "execute_result"
    }
   ],
   "source": [
    "#random forest feature importances\n",
    "pd.DataFrame(data=rand_forest.feature_importances_, \n",
    "             index=X.columns, \n",
    "             columns=['importances']).sort_values(by=\"importances\", ascending=False).head(10)"
   ]
  },
  {
   "cell_type": "code",
   "execution_count": 256,
   "metadata": {},
   "outputs": [
    {
     "data": {
      "text/html": [
       "<div>\n",
       "<style scoped>\n",
       "    .dataframe tbody tr th:only-of-type {\n",
       "        vertical-align: middle;\n",
       "    }\n",
       "\n",
       "    .dataframe tbody tr th {\n",
       "        vertical-align: top;\n",
       "    }\n",
       "\n",
       "    .dataframe thead th {\n",
       "        text-align: right;\n",
       "    }\n",
       "</style>\n",
       "<table border=\"1\" class=\"dataframe\">\n",
       "  <thead>\n",
       "    <tr style=\"text-align: right;\">\n",
       "      <th></th>\n",
       "      <th>importances</th>\n",
       "    </tr>\n",
       "  </thead>\n",
       "  <tbody>\n",
       "    <tr>\n",
       "      <th>backers</th>\n",
       "      <td>0.423970</td>\n",
       "    </tr>\n",
       "    <tr>\n",
       "      <th>usd_goal_real</th>\n",
       "      <td>0.282511</td>\n",
       "    </tr>\n",
       "    <tr>\n",
       "      <th>days_to_deadline</th>\n",
       "      <td>0.085592</td>\n",
       "    </tr>\n",
       "    <tr>\n",
       "      <th>main_category_Design</th>\n",
       "      <td>0.024221</td>\n",
       "    </tr>\n",
       "    <tr>\n",
       "      <th>country_US</th>\n",
       "      <td>0.021124</td>\n",
       "    </tr>\n",
       "    <tr>\n",
       "      <th>main_category_Games</th>\n",
       "      <td>0.020527</td>\n",
       "    </tr>\n",
       "    <tr>\n",
       "      <th>main_category_Film_Video</th>\n",
       "      <td>0.013941</td>\n",
       "    </tr>\n",
       "    <tr>\n",
       "      <th>main_category_Music</th>\n",
       "      <td>0.012863</td>\n",
       "    </tr>\n",
       "    <tr>\n",
       "      <th>main_category_Comics</th>\n",
       "      <td>0.012448</td>\n",
       "    </tr>\n",
       "    <tr>\n",
       "      <th>main_category_Technology</th>\n",
       "      <td>0.010196</td>\n",
       "    </tr>\n",
       "  </tbody>\n",
       "</table>\n",
       "</div>"
      ],
      "text/plain": [
       "                          importances\n",
       "backers                      0.423970\n",
       "usd_goal_real                0.282511\n",
       "days_to_deadline             0.085592\n",
       "main_category_Design         0.024221\n",
       "country_US                   0.021124\n",
       "main_category_Games          0.020527\n",
       "main_category_Film_Video     0.013941\n",
       "main_category_Music          0.012863\n",
       "main_category_Comics         0.012448\n",
       "main_category_Technology     0.010196"
      ]
     },
     "execution_count": 256,
     "metadata": {},
     "output_type": "execute_result"
    }
   ],
   "source": [
    "#gradient boosting feature importances\n",
    "pd.DataFrame(data=grad_boost.feature_importances_, \n",
    "             index=X.columns, \n",
    "             columns=['importances']).sort_values(by=\"importances\", ascending=False).head(10)"
   ]
  },
  {
   "cell_type": "markdown",
   "metadata": {},
   "source": [
    "## Evaluation"
   ]
  },
  {
   "cell_type": "code",
   "execution_count": 151,
   "metadata": {},
   "outputs": [],
   "source": [
    "models = {\"Logistic Regression\": logreg, \"Decision Tree\": tree, \"Random Forest\": rand_forest, \"Gradient Boosting\": grad_boost}\n",
    "\n",
    "scores = {\"ROC_AUC\": roc_auc_score, \"Accuracy\": accuracy_score, \"Recall\": recall_score}"
   ]
  },
  {
   "cell_type": "code",
   "execution_count": 152,
   "metadata": {
    "scrolled": true
   },
   "outputs": [
    {
     "name": "stdout",
     "output_type": "stream",
     "text": [
      "\n",
      " Logistic Regression \n",
      "\n",
      "Train score: 0.7521244444444445\n",
      "Test score: 0.75292\n"
     ]
    },
    {
     "data": {
      "image/png": "[encoded data removed]",
      "text/plain": [
       "<Figure size 432x288 with 1 Axes>"
      ]
     },
     "metadata": {},
     "output_type": "display_data"
    },
    {
     "data": {
      "image/png": "[encoded data removed]",
      "text/plain": [
       "<Figure size 432x288 with 2 Axes>"
      ]
     },
     "metadata": {},
     "output_type": "display_data"
    },
    {
     "name": "stdout",
     "output_type": "stream",
     "text": [
      "             precision    recall  f1-score   support\n",
      "\n",
      "          0       0.78      0.83      0.80     44880\n",
      "          1       0.71      0.65      0.68     30120\n",
      "\n",
      "avg / total       0.75      0.75      0.75     75000\n",
      "\n",
      "ROC_AUC 0.7352316669152267\n",
      "Accuracy 0.75292\n",
      "Recall 0.6453519256308101\n",
      "\n",
      " Decision Tree \n",
      "\n",
      "Train score: 0.9216355555555555\n",
      "Test score: 0.9200133333333333\n"
     ]
    },
    {
     "data": {
      "image/png": "[encoded data removed]",
      "text/plain": [
       "<Figure size 432x288 with 1 Axes>"
      ]
     },
     "metadata": {},
     "output_type": "display_data"
    },
    {
     "data": {
      "image/png": "[encoded data removed]",
      "text/plain": [
       "<Figure size 432x288 with 2 Axes>"
      ]
     },
     "metadata": {},
     "output_type": "display_data"
    },
    {
     "name": "stdout",
     "output_type": "stream",
     "text": [
      "             precision    recall  f1-score   support\n",
      "\n",
      "          0       0.95      0.91      0.93     44880\n",
      "          1       0.88      0.93      0.90     30120\n",
      "\n",
      "avg / total       0.92      0.92      0.92     75000\n",
      "\n",
      "ROC_AUC 0.9219088441243938\n",
      "Accuracy 0.9200133333333333\n",
      "Recall 0.9315405046480744\n",
      "\n",
      " Random Forest \n",
      "\n",
      "Train score: 0.8948177777777778\n",
      "Test score: 0.8944933333333334\n"
     ]
    },
    {
     "data": {
      "image/png": "[encoded data removed]",
      "text/plain": [
       "<Figure size 432x288 with 1 Axes>"
      ]
     },
     "metadata": {},
     "output_type": "display_data"
    },
    {
     "data": {
      "image/png": "[encoded data removed]",
      "text/plain": [
       "<Figure size 432x288 with 2 Axes>"
      ]
     },
     "metadata": {},
     "output_type": "display_data"
    },
    {
     "name": "stdout",
     "output_type": "stream",
     "text": [
      "             precision    recall  f1-score   support\n",
      "\n",
      "          0       0.92      0.90      0.91     44880\n",
      "          1       0.86      0.88      0.87     30120\n",
      "\n",
      "avg / total       0.89      0.89      0.89     75000\n",
      "\n",
      "ROC_AUC 0.8919593906015866\n",
      "Accuracy 0.8944933333333334\n",
      "Recall 0.8790836653386455\n",
      "\n",
      " Gradient Boosting \n",
      "\n",
      "Train score: 0.9357955555555556\n",
      "Test score: 0.9336533333333333\n"
     ]
    },
    {
     "data": {
      "image/png": "[encoded data removed]",
      "text/plain": [
       "<Figure size 432x288 with 1 Axes>"
      ]
     },
     "metadata": {},
     "output_type": "display_data"
    },
    {
     "data": {
      "image/png": "[encoded data removed]",
      "text/plain": [
       "<Figure size 432x288 with 2 Axes>"
      ]
     },
     "metadata": {},
     "output_type": "display_data"
    },
    {
     "name": "stdout",
     "output_type": "stream",
     "text": [
      "             precision    recall  f1-score   support\n",
      "\n",
      "          0       0.95      0.94      0.94     44880\n",
      "          1       0.91      0.93      0.92     30120\n",
      "\n",
      "avg / total       0.93      0.93      0.93     75000\n",
      "\n",
      "ROC_AUC 0.9324596888737385\n",
      "Accuracy 0.9336533333333333\n",
      "Recall 0.926394422310757\n"
     ]
    }
   ],
   "source": [
    "\n",
    "for model_name, model in models.items():\n",
    "    print(\"\\n\", model_name, \"\\n\")\n",
    "    print(\"Train score:\", model.score(x_train, y_train))\n",
    "    print(\"Test score:\", model.score(x_test, y_test))\n",
    "    pred = model.predict(x_test)\n",
    "    FPR,TPR,tresholds=roc_curve(y_test,model.predict_proba(x_test)[:,1])\n",
    "    #plt.subplot(121)\n",
    "    plt.title(\"ROC_AUC curve\")\n",
    "    plt.plot(FPR,TPR,label=\"ROC AUC=%f\"%roc_auc_score(y_test,pred))\n",
    "    plt.plot([0,1],[0,1])\n",
    "    plt.legend(loc=\"lower right\")\n",
    "    plt.xlabel(\"FPR\")\n",
    "    plt.ylabel(\"TPR\")\n",
    "    plt.show()\n",
    "    #plt.subplot(122)\n",
    "    #plt.figure(figsize=(8, 4))\n",
    "    sns.heatmap(confusion_matrix(y_test, pred).T, annot=True)\n",
    "    plt.xlabel(\"Real\")\n",
    "    plt.ylabel(\"Predicted\")\n",
    "    plt.show()\n",
    "    print(classification_report(y_test, pred))\n",
    "    for score_name, score in scores.items():\n",
    "        print(score_name, score(y_test, pred))"
   ]
  },
  {
   "cell_type": "markdown",
   "metadata": {},
   "source": [
    "Our models predict Failure of campaigns better than their success...\n"
   ]
  },
  {
   "cell_type": "markdown",
   "metadata": {},
   "source": [
    "## Neural Networks"
   ]
  },
  {
   "cell_type": "code",
   "execution_count": 212,
   "metadata": {},
   "outputs": [],
   "source": [
    "n_cols = X.shape[1]\n",
    "target = to_categorical(Y_classification)\n",
    "early_stopping_monitor = EarlyStopping(patience=3)"
   ]
  },
  {
   "cell_type": "markdown",
   "metadata": {},
   "source": [
    "#### Rectified Linear Activation\n",
    "$$\n",
    "RELU(x) = \\begin{cases} 0, & \\mbox{if } x\\mbox{ < 0} \\\\ x, & \\mbox{if } x \\geq 0 \\end{cases}\n",
    "$$"
   ]
  },
  {
   "cell_type": "code",
   "execution_count": 157,
   "metadata": {},
   "outputs": [
    {
     "name": "stdout",
     "output_type": "stream",
     "text": [
      "Train on 225000 samples, validate on 75000 samples\n",
      "Epoch 1/10\n",
      "225000/225000 [==============================] - 12s 52us/step - loss: 8.9345 - acc: 0.4395 - val_loss: 9.5078 - val_acc: 0.4036\n",
      "Epoch 2/10\n",
      "225000/225000 [==============================] - 12s 52us/step - loss: 9.5066 - acc: 0.4037 - val_loss: 9.5077 - val_acc: 0.4036\n",
      "Epoch 3/10\n",
      "225000/225000 [==============================] - 12s 55us/step - loss: 8.5791 - acc: 0.4617 - val_loss: 1.2809 - val_acc: 0.9161\n",
      "Epoch 4/10\n",
      "225000/225000 [==============================] - 13s 57us/step - loss: 1.7716 - acc: 0.8747 - val_loss: 0.2643 - val_acc: 0.9182\n",
      "Epoch 5/10\n",
      "225000/225000 [==============================] - 14s 61us/step - loss: 0.2565 - acc: 0.9147 - val_loss: 0.2110 - val_acc: 0.9219\n",
      "Epoch 6/10\n",
      "225000/225000 [==============================] - 13s 58us/step - loss: 0.2348 - acc: 0.9187 - val_loss: 0.2235 - val_acc: 0.9180\n",
      "Epoch 7/10\n",
      "225000/225000 [==============================] - 14s 61us/step - loss: 0.2077 - acc: 0.9231 - val_loss: 0.2061 - val_acc: 0.9177\n",
      "Epoch 8/10\n",
      "225000/225000 [==============================] - 14s 63us/step - loss: 0.2000 - acc: 0.9243 - val_loss: 0.1899 - val_acc: 0.9209\n",
      "Epoch 9/10\n",
      "225000/225000 [==============================] - 14s 64us/step - loss: 0.1957 - acc: 0.9257 - val_loss: 0.1858 - val_acc: 0.9254\n",
      "Epoch 10/10\n",
      "225000/225000 [==============================] - 15s 65us/step - loss: 0.1909 - acc: 0.9258 - val_loss: 0.2001 - val_acc: 0.9282\n"
     ]
    },
    {
     "data": {
      "text/plain": [
       "<keras.callbacks.History at 0x29fccbec400>"
      ]
     },
     "execution_count": 157,
     "metadata": {},
     "output_type": "execute_result"
    }
   ],
   "source": [
    "net = Sequential()\n",
    "\n",
    "net.add(Dense(100, activation=\"relu\", input_shape=(n_cols,)))\n",
    "net.add(Dense(100, activation=\"relu\", input_shape=(n_cols,)))\n",
    "net.add(Dense(50, activation=\"relu\", input_shape=(n_cols,)))\n",
    "net.add(Dense(1, activation=\"sigmoid\"))\n",
    "\n",
    "net.compile(optimizer=\"adam\", loss=\"binary_crossentropy\", metrics=[\"accuracy\"])\n",
    "\n",
    "net.fit(X, Y_classification, validation_split=0.25, epochs=10, callbacks=[early_stopping_monitor])"
   ]
  },
  {
   "cell_type": "code",
   "execution_count": 236,
   "metadata": {},
   "outputs": [],
   "source": [
    "net.save(\"crowd_neural_net.h5\")"
   ]
  },
  {
   "cell_type": "markdown",
   "metadata": {},
   "source": [
    "## Linear Regression"
   ]
  },
  {
   "cell_type": "code",
   "execution_count": 158,
   "metadata": {},
   "outputs": [
    {
     "data": {
      "text/plain": [
       "(300000, 39)"
      ]
     },
     "execution_count": 158,
     "metadata": {},
     "output_type": "execute_result"
    }
   ],
   "source": [
    "X.shape"
   ]
  },
  {
   "cell_type": "code",
   "execution_count": 163,
   "metadata": {},
   "outputs": [],
   "source": [
    "x_train_reg, x_test_reg, y_train_reg, y_test_reg = train_test_split(X, Y_regression, random_state=42, test_size=0.25)"
   ]
  },
  {
   "cell_type": "code",
   "execution_count": 164,
   "metadata": {},
   "outputs": [
    {
     "data": {
      "text/plain": [
       "0    0.600130\n",
       "1    0.498681\n",
       "2    0.570552\n",
       "3    0.574151\n",
       "4    0.555627\n",
       "Name: LM Scores, dtype: float64"
      ]
     },
     "execution_count": 164,
     "metadata": {},
     "output_type": "execute_result"
    }
   ],
   "source": [
    "lm = LinearRegression()\n",
    "\n",
    "cv_scores = cross_val_score(lm, X, Y_regression, cv=5, n_jobs=-1)\n",
    "\n",
    "pd.Series(cv_scores, name=\"LM Scores\")"
   ]
  },
  {
   "cell_type": "code",
   "execution_count": 165,
   "metadata": {},
   "outputs": [
    {
     "data": {
      "text/plain": [
       "count    5.000000\n",
       "mean     0.559828\n",
       "std      0.037752\n",
       "min      0.498681\n",
       "25%      0.555627\n",
       "50%      0.570552\n",
       "75%      0.574151\n",
       "max      0.600130\n",
       "Name: LM Scores, dtype: float64"
      ]
     },
     "execution_count": 165,
     "metadata": {},
     "output_type": "execute_result"
    }
   ],
   "source": [
    "pd.Series(cv_scores, name=\"LM Scores\").describe()"
   ]
  },
  {
   "cell_type": "code",
   "execution_count": 166,
   "metadata": {},
   "outputs": [],
   "source": [
    "lm.fit(x_train_reg, y_train_reg)\n",
    "y_pred_reg = lm.predict(x_test_reg)"
   ]
  },
  {
   "cell_type": "code",
   "execution_count": 167,
   "metadata": {},
   "outputs": [
    {
     "name": "stdout",
     "output_type": "stream",
     "text": [
      "R2: 0.5630646419739408\n"
     ]
    }
   ],
   "source": [
    "print(\"R2:\", lm.score(x_test_reg, y_test_reg))"
   ]
  },
  {
   "cell_type": "code",
   "execution_count": 169,
   "metadata": {},
   "outputs": [
    {
     "data": {
      "text/html": [
       "<div>\n",
       "<style scoped>\n",
       "    .dataframe tbody tr th:only-of-type {\n",
       "        vertical-align: middle;\n",
       "    }\n",
       "\n",
       "    .dataframe tbody tr th {\n",
       "        vertical-align: top;\n",
       "    }\n",
       "\n",
       "    .dataframe thead th {\n",
       "        text-align: right;\n",
       "    }\n",
       "</style>\n",
       "<table border=\"1\" class=\"dataframe\">\n",
       "  <thead>\n",
       "    <tr style=\"text-align: right;\">\n",
       "      <th></th>\n",
       "      <th>0</th>\n",
       "    </tr>\n",
       "  </thead>\n",
       "  <tbody>\n",
       "    <tr>\n",
       "      <th>backers</th>\n",
       "      <td>75.273159</td>\n",
       "    </tr>\n",
       "    <tr>\n",
       "      <th>usd_goal_real</th>\n",
       "      <td>0.000114</td>\n",
       "    </tr>\n",
       "    <tr>\n",
       "      <th>days_to_deadline</th>\n",
       "      <td>56.200500</td>\n",
       "    </tr>\n",
       "    <tr>\n",
       "      <th>main_category_Comics</th>\n",
       "      <td>-3942.325322</td>\n",
       "    </tr>\n",
       "    <tr>\n",
       "      <th>main_category_Crafts</th>\n",
       "      <td>-517.305974</td>\n",
       "    </tr>\n",
       "    <tr>\n",
       "      <th>main_category_Dance</th>\n",
       "      <td>70.788553</td>\n",
       "    </tr>\n",
       "    <tr>\n",
       "      <th>main_category_Design</th>\n",
       "      <td>6515.621339</td>\n",
       "    </tr>\n",
       "    <tr>\n",
       "      <th>main_category_Fashion</th>\n",
       "      <td>1169.975877</td>\n",
       "    </tr>\n",
       "    <tr>\n",
       "      <th>main_category_Film_Video</th>\n",
       "      <td>1064.833237</td>\n",
       "    </tr>\n",
       "    <tr>\n",
       "      <th>main_category_Food</th>\n",
       "      <td>867.538946</td>\n",
       "    </tr>\n",
       "    <tr>\n",
       "      <th>main_category_Games</th>\n",
       "      <td>-4071.962315</td>\n",
       "    </tr>\n",
       "    <tr>\n",
       "      <th>main_category_Journalism</th>\n",
       "      <td>-419.107109</td>\n",
       "    </tr>\n",
       "    <tr>\n",
       "      <th>main_category_Music</th>\n",
       "      <td>-535.308557</td>\n",
       "    </tr>\n",
       "    <tr>\n",
       "      <th>main_category_Photography</th>\n",
       "      <td>497.789671</td>\n",
       "    </tr>\n",
       "    <tr>\n",
       "      <th>main_category_Publishing</th>\n",
       "      <td>-1116.852903</td>\n",
       "    </tr>\n",
       "    <tr>\n",
       "      <th>main_category_Technology</th>\n",
       "      <td>9956.263512</td>\n",
       "    </tr>\n",
       "    <tr>\n",
       "      <th>main_category_Theater</th>\n",
       "      <td>269.658492</td>\n",
       "    </tr>\n",
       "    <tr>\n",
       "      <th>country_AU</th>\n",
       "      <td>-10092.528006</td>\n",
       "    </tr>\n",
       "    <tr>\n",
       "      <th>country_BE</th>\n",
       "      <td>-4705.199258</td>\n",
       "    </tr>\n",
       "    <tr>\n",
       "      <th>country_CA</th>\n",
       "      <td>-9316.013268</td>\n",
       "    </tr>\n",
       "    <tr>\n",
       "      <th>country_CH</th>\n",
       "      <td>-354.415500</td>\n",
       "    </tr>\n",
       "    <tr>\n",
       "      <th>country_DE</th>\n",
       "      <td>-7360.614550</td>\n",
       "    </tr>\n",
       "    <tr>\n",
       "      <th>country_DK</th>\n",
       "      <td>-8473.714416</td>\n",
       "    </tr>\n",
       "    <tr>\n",
       "      <th>country_ES</th>\n",
       "      <td>-9015.462304</td>\n",
       "    </tr>\n",
       "    <tr>\n",
       "      <th>country_FR</th>\n",
       "      <td>-7131.456141</td>\n",
       "    </tr>\n",
       "    <tr>\n",
       "      <th>country_GB</th>\n",
       "      <td>-7573.527679</td>\n",
       "    </tr>\n",
       "    <tr>\n",
       "      <th>country_HK</th>\n",
       "      <td>-5801.916001</td>\n",
       "    </tr>\n",
       "    <tr>\n",
       "      <th>country_IE</th>\n",
       "      <td>-8206.128384</td>\n",
       "    </tr>\n",
       "    <tr>\n",
       "      <th>country_IT</th>\n",
       "      <td>-8471.170790</td>\n",
       "    </tr>\n",
       "    <tr>\n",
       "      <th>country_JP</th>\n",
       "      <td>-8996.014766</td>\n",
       "    </tr>\n",
       "    <tr>\n",
       "      <th>country_LU</th>\n",
       "      <td>-7346.152542</td>\n",
       "    </tr>\n",
       "    <tr>\n",
       "      <th>country_MX</th>\n",
       "      <td>-9525.809780</td>\n",
       "    </tr>\n",
       "    <tr>\n",
       "      <th>country_N0</th>\n",
       "      <td>-4426.238940</td>\n",
       "    </tr>\n",
       "    <tr>\n",
       "      <th>country_NL</th>\n",
       "      <td>-4057.082315</td>\n",
       "    </tr>\n",
       "    <tr>\n",
       "      <th>country_NO</th>\n",
       "      <td>-8962.204646</td>\n",
       "    </tr>\n",
       "    <tr>\n",
       "      <th>country_NZ</th>\n",
       "      <td>-9144.800308</td>\n",
       "    </tr>\n",
       "    <tr>\n",
       "      <th>country_SE</th>\n",
       "      <td>-8554.265495</td>\n",
       "    </tr>\n",
       "    <tr>\n",
       "      <th>country_SG</th>\n",
       "      <td>-9577.021326</td>\n",
       "    </tr>\n",
       "    <tr>\n",
       "      <th>country_US</th>\n",
       "      <td>-7145.948456</td>\n",
       "    </tr>\n",
       "  </tbody>\n",
       "</table>\n",
       "</div>"
      ],
      "text/plain": [
       "                                      0\n",
       "backers                       75.273159\n",
       "usd_goal_real                  0.000114\n",
       "days_to_deadline              56.200500\n",
       "main_category_Comics       -3942.325322\n",
       "main_category_Crafts        -517.305974\n",
       "main_category_Dance           70.788553\n",
       "main_category_Design        6515.621339\n",
       "main_category_Fashion       1169.975877\n",
       "main_category_Film_Video    1064.833237\n",
       "main_category_Food           867.538946\n",
       "main_category_Games        -4071.962315\n",
       "main_category_Journalism    -419.107109\n",
       "main_category_Music         -535.308557\n",
       "main_category_Photography    497.789671\n",
       "main_category_Publishing   -1116.852903\n",
       "main_category_Technology    9956.263512\n",
       "main_category_Theater        269.658492\n",
       "country_AU                -10092.528006\n",
       "country_BE                 -4705.199258\n",
       "country_CA                 -9316.013268\n",
       "country_CH                  -354.415500\n",
       "country_DE                 -7360.614550\n",
       "country_DK                 -8473.714416\n",
       "country_ES                 -9015.462304\n",
       "country_FR                 -7131.456141\n",
       "country_GB                 -7573.527679\n",
       "country_HK                 -5801.916001\n",
       "country_IE                 -8206.128384\n",
       "country_IT                 -8471.170790\n",
       "country_JP                 -8996.014766\n",
       "country_LU                 -7346.152542\n",
       "country_MX                 -9525.809780\n",
       "country_N0                 -4426.238940\n",
       "country_NL                 -4057.082315\n",
       "country_NO                 -8962.204646\n",
       "country_NZ                 -9144.800308\n",
       "country_SE                 -8554.265495\n",
       "country_SG                 -9577.021326\n",
       "country_US                 -7145.948456"
      ]
     },
     "execution_count": 169,
     "metadata": {},
     "output_type": "execute_result"
    }
   ],
   "source": [
    "pd.DataFrame(data=lm.coef_, index=X.columns)"
   ]
  },
  {
   "cell_type": "code",
   "execution_count": 170,
   "metadata": {},
   "outputs": [
    {
     "data": {
      "text/plain": [
       "'usd_pledged_real~backers+usd_goal_real+days_to_deadline+main_category_Comics+main_category_Crafts+main_category_Dance+main_category_Design+main_category_Fashion+main_category_Film_Video+main_category_Food+main_category_Games+main_category_Journalism+main_category_Music+main_category_Photography+main_category_Publishing+main_category_Technology+main_category_Theater+country_AU+country_BE+country_CA+country_CH+country_DE+country_DK+country_ES+country_FR+country_GB+country_HK+country_IE+country_IT+country_JP+country_LU+country_MX+country_N0+country_NL+country_NO+country_NZ+country_SE+country_SG+country_US'"
      ]
     },
     "execution_count": 170,
     "metadata": {},
     "output_type": "execute_result"
    }
   ],
   "source": [
    "#statsmodels OLS\n",
    "formula = Y_regression.name + \"~\" + \"+\".join(X.columns)\n",
    "formula"
   ]
  },
  {
   "cell_type": "code",
   "execution_count": 171,
   "metadata": {},
   "outputs": [
    {
     "data": {
      "text/html": [
       "<table class=\"simpletable\">\n",
       "<caption>OLS Regression Results</caption>\n",
       "<tr>\n",
       "  <th>Dep. Variable:</th>    <td>usd_pledged_real</td> <th>  R-squared:         </th>  <td>   0.570</td>  \n",
       "</tr>\n",
       "<tr>\n",
       "  <th>Model:</th>                   <td>OLS</td>       <th>  Adj. R-squared:    </th>  <td>   0.570</td>  \n",
       "</tr>\n",
       "<tr>\n",
       "  <th>Method:</th>             <td>Least Squares</td>  <th>  F-statistic:       </th>  <td>1.020e+04</td> \n",
       "</tr>\n",
       "<tr>\n",
       "  <th>Date:</th>             <td>Mon, 10 Dec 2018</td> <th>  Prob (F-statistic):</th>   <td>  0.00</td>   \n",
       "</tr>\n",
       "<tr>\n",
       "  <th>Time:</th>                 <td>16:25:49</td>     <th>  Log-Likelihood:    </th> <td>-3.7443e+06</td>\n",
       "</tr>\n",
       "<tr>\n",
       "  <th>No. Observations:</th>      <td>300000</td>      <th>  AIC:               </th>  <td>7.489e+06</td> \n",
       "</tr>\n",
       "<tr>\n",
       "  <th>Df Residuals:</th>          <td>299960</td>      <th>  BIC:               </th>  <td>7.489e+06</td> \n",
       "</tr>\n",
       "<tr>\n",
       "  <th>Df Model:</th>              <td>    39</td>      <th>                     </th>      <td> </td>     \n",
       "</tr>\n",
       "<tr>\n",
       "  <th>Covariance Type:</th>      <td>nonrobust</td>    <th>                     </th>      <td> </td>     \n",
       "</tr>\n",
       "</table>\n",
       "<table class=\"simpletable\">\n",
       "<tr>\n",
       "              <td></td>                 <th>coef</th>     <th>std err</th>      <th>t</th>      <th>P>|t|</th>  <th>[0.025</th>    <th>0.975]</th>  \n",
       "</tr>\n",
       "<tr>\n",
       "  <th>Intercept</th>                 <td> 3450.7312</td> <td> 3111.451</td> <td>    1.109</td> <td> 0.267</td> <td>-2647.626</td> <td> 9549.088</td>\n",
       "</tr>\n",
       "<tr>\n",
       "  <th>backers</th>                   <td>   81.6410</td> <td>    0.131</td> <td>  625.567</td> <td> 0.000</td> <td>   81.385</td> <td>   81.897</td>\n",
       "</tr>\n",
       "<tr>\n",
       "  <th>usd_goal_real</th>             <td>    0.0001</td> <td>    0.000</td> <td>    1.218</td> <td> 0.223</td> <td> -7.6e-05</td> <td>    0.000</td>\n",
       "</tr>\n",
       "<tr>\n",
       "  <th>days_to_deadline</th>          <td>   55.0240</td> <td>    9.212</td> <td>    5.973</td> <td> 0.000</td> <td>   36.968</td> <td>   73.080</td>\n",
       "</tr>\n",
       "<tr>\n",
       "  <th>main_category_Comics</th>      <td>-4485.7399</td> <td>  794.089</td> <td>   -5.649</td> <td> 0.000</td> <td>-6042.132</td> <td>-2929.348</td>\n",
       "</tr>\n",
       "<tr>\n",
       "  <th>main_category_Crafts</th>      <td> -335.8376</td> <td>  867.037</td> <td>   -0.387</td> <td> 0.699</td> <td>-2035.207</td> <td> 1363.531</td>\n",
       "</tr>\n",
       "<tr>\n",
       "  <th>main_category_Dance</th>       <td>  120.2061</td> <td> 1197.062</td> <td>    0.100</td> <td> 0.920</td> <td>-2226.003</td> <td> 2466.415</td>\n",
       "</tr>\n",
       "<tr>\n",
       "  <th>main_category_Design</th>      <td> 5632.5627</td> <td>  595.369</td> <td>    9.461</td> <td> 0.000</td> <td> 4465.656</td> <td> 6799.470</td>\n",
       "</tr>\n",
       "<tr>\n",
       "  <th>main_category_Fashion</th>     <td>  977.1784</td> <td>  634.282</td> <td>    1.541</td> <td> 0.123</td> <td> -265.996</td> <td> 2220.353</td>\n",
       "</tr>\n",
       "<tr>\n",
       "  <th>main_category_Film_Video</th>  <td>  866.7836</td> <td>  504.864</td> <td>    1.717</td> <td> 0.086</td> <td> -122.735</td> <td> 1856.302</td>\n",
       "</tr>\n",
       "<tr>\n",
       "  <th>main_category_Food</th>        <td>  901.5585</td> <td>  615.431</td> <td>    1.465</td> <td> 0.143</td> <td> -304.668</td> <td> 2107.785</td>\n",
       "</tr>\n",
       "<tr>\n",
       "  <th>main_category_Games</th>       <td>-5728.9686</td> <td>  578.939</td> <td>   -9.896</td> <td> 0.000</td> <td>-6863.672</td> <td>-4594.265</td>\n",
       "</tr>\n",
       "<tr>\n",
       "  <th>main_category_Journalism</th>  <td> -389.2036</td> <td> 1121.498</td> <td>   -0.347</td> <td> 0.729</td> <td>-2587.309</td> <td> 1808.901</td>\n",
       "</tr>\n",
       "<tr>\n",
       "  <th>main_category_Music</th>       <td> -594.3466</td> <td>  523.490</td> <td>   -1.135</td> <td> 0.256</td> <td>-1620.373</td> <td>  431.680</td>\n",
       "</tr>\n",
       "<tr>\n",
       "  <th>main_category_Photography</th> <td>  588.2919</td> <td>  798.961</td> <td>    0.736</td> <td> 0.462</td> <td> -977.650</td> <td> 2154.233</td>\n",
       "</tr>\n",
       "<tr>\n",
       "  <th>main_category_Publishing</th>  <td>-1155.1167</td> <td>  549.173</td> <td>   -2.103</td> <td> 0.035</td> <td>-2231.479</td> <td>  -78.754</td>\n",
       "</tr>\n",
       "<tr>\n",
       "  <th>main_category_Technology</th>  <td> 9089.8603</td> <td>  586.786</td> <td>   15.491</td> <td> 0.000</td> <td> 7939.776</td> <td> 1.02e+04</td>\n",
       "</tr>\n",
       "<tr>\n",
       "  <th>main_category_Theater</th>     <td>  317.5430</td> <td>  783.302</td> <td>    0.405</td> <td> 0.685</td> <td>-1217.706</td> <td> 1852.792</td>\n",
       "</tr>\n",
       "<tr>\n",
       "  <th>country_AU</th>                <td>-7532.4593</td> <td> 3177.949</td> <td>   -2.370</td> <td> 0.018</td> <td>-1.38e+04</td> <td>-1303.769</td>\n",
       "</tr>\n",
       "<tr>\n",
       "  <th>country_BE</th>                <td>-3459.4757</td> <td> 4247.638</td> <td>   -0.814</td> <td> 0.415</td> <td>-1.18e+04</td> <td> 4865.775</td>\n",
       "</tr>\n",
       "<tr>\n",
       "  <th>country_CA</th>                <td>-7326.2943</td> <td> 3128.170</td> <td>   -2.342</td> <td> 0.019</td> <td>-1.35e+04</td> <td>-1195.169</td>\n",
       "</tr>\n",
       "<tr>\n",
       "  <th>country_CH</th>                <td> 2387.4095</td> <td> 4030.693</td> <td>    0.592</td> <td> 0.554</td> <td>-5512.635</td> <td> 1.03e+04</td>\n",
       "</tr>\n",
       "<tr>\n",
       "  <th>country_DE</th>                <td>-5483.4882</td> <td> 3278.479</td> <td>   -1.673</td> <td> 0.094</td> <td>-1.19e+04</td> <td>  942.239</td>\n",
       "</tr>\n",
       "<tr>\n",
       "  <th>country_DK</th>                <td>-6275.1678</td> <td> 3755.686</td> <td>   -1.671</td> <td> 0.095</td> <td>-1.36e+04</td> <td> 1085.871</td>\n",
       "</tr>\n",
       "<tr>\n",
       "  <th>country_ES</th>                <td>-6756.2285</td> <td> 3436.773</td> <td>   -1.966</td> <td> 0.049</td> <td>-1.35e+04</td> <td>  -20.251</td>\n",
       "</tr>\n",
       "<tr>\n",
       "  <th>country_FR</th>                <td>-4658.3805</td> <td> 3347.246</td> <td>   -1.392</td> <td> 0.164</td> <td>-1.12e+04</td> <td> 1902.127</td>\n",
       "</tr>\n",
       "<tr>\n",
       "  <th>country_GB</th>                <td>-5601.2224</td> <td> 3094.839</td> <td>   -1.810</td> <td> 0.070</td> <td>-1.17e+04</td> <td>  464.575</td>\n",
       "</tr>\n",
       "<tr>\n",
       "  <th>country_HK</th>                <td>-2338.1355</td> <td> 4337.373</td> <td>   -0.539</td> <td> 0.590</td> <td>-1.08e+04</td> <td> 6162.993</td>\n",
       "</tr>\n",
       "<tr>\n",
       "  <th>country_IE</th>                <td>-5991.5589</td> <td> 4004.442</td> <td>   -1.496</td> <td> 0.135</td> <td>-1.38e+04</td> <td> 1857.036</td>\n",
       "</tr>\n",
       "<tr>\n",
       "  <th>country_IT</th>                <td>-6177.1897</td> <td> 3366.893</td> <td>   -1.835</td> <td> 0.067</td> <td>-1.28e+04</td> <td>  421.827</td>\n",
       "</tr>\n",
       "<tr>\n",
       "  <th>country_JP</th>                <td>-6706.0129</td> <td> 1.39e+04</td> <td>   -0.481</td> <td> 0.630</td> <td> -3.4e+04</td> <td> 2.06e+04</td>\n",
       "</tr>\n",
       "<tr>\n",
       "  <th>country_LU</th>                <td>-2311.7797</td> <td> 9606.582</td> <td>   -0.241</td> <td> 0.810</td> <td>-2.11e+04</td> <td> 1.65e+04</td>\n",
       "</tr>\n",
       "<tr>\n",
       "  <th>country_MX</th>                <td>-7173.9357</td> <td> 3549.313</td> <td>   -2.021</td> <td> 0.043</td> <td>-1.41e+04</td> <td> -217.382</td>\n",
       "</tr>\n",
       "<tr>\n",
       "  <th>country_N0</th>                <td> 1.206e+04</td> <td> 5543.823</td> <td>    2.175</td> <td> 0.030</td> <td> 1191.813</td> <td> 2.29e+04</td>\n",
       "</tr>\n",
       "<tr>\n",
       "  <th>country_NL</th>                <td>-2715.6830</td> <td> 3360.412</td> <td>   -0.808</td> <td> 0.419</td> <td>-9301.996</td> <td> 3870.630</td>\n",
       "</tr>\n",
       "<tr>\n",
       "  <th>country_NO</th>                <td>-6350.7041</td> <td> 4156.360</td> <td>   -1.528</td> <td> 0.127</td> <td>-1.45e+04</td> <td> 1795.645</td>\n",
       "</tr>\n",
       "<tr>\n",
       "  <th>country_NZ</th>                <td>-6857.3367</td> <td> 3593.629</td> <td>   -1.908</td> <td> 0.056</td> <td>-1.39e+04</td> <td>  186.075</td>\n",
       "</tr>\n",
       "<tr>\n",
       "  <th>country_SE</th>                <td>-6172.3102</td> <td> 3520.527</td> <td>   -1.753</td> <td> 0.080</td> <td>-1.31e+04</td> <td>  727.823</td>\n",
       "</tr>\n",
       "<tr>\n",
       "  <th>country_SG</th>                <td>-7098.5204</td> <td> 4388.924</td> <td>   -1.617</td> <td> 0.106</td> <td>-1.57e+04</td> <td> 1503.647</td>\n",
       "</tr>\n",
       "<tr>\n",
       "  <th>country_US</th>                <td>-5290.5739</td> <td> 3073.053</td> <td>   -1.722</td> <td> 0.085</td> <td>-1.13e+04</td> <td>  732.523</td>\n",
       "</tr>\n",
       "</table>\n",
       "<table class=\"simpletable\">\n",
       "<tr>\n",
       "  <th>Omnibus:</th>       <td>1074743.615</td> <th>  Durbin-Watson:     </th>     <td>   2.000</td>     \n",
       "</tr>\n",
       "<tr>\n",
       "  <th>Prob(Omnibus):</th>   <td> 0.000</td>    <th>  Jarque-Bera (JB):  </th> <td>2178360176773.542</td>\n",
       "</tr>\n",
       "<tr>\n",
       "  <th>Skew:</th>            <td>72.196</td>    <th>  Prob(JB):          </th>     <td>    0.00</td>     \n",
       "</tr>\n",
       "<tr>\n",
       "  <th>Kurtosis:</th>       <td>13203.302</td>  <th>  Cond. No.          </th>     <td>1.55e+08</td>     \n",
       "</tr>\n",
       "</table><br/><br/>Warnings:<br/>[1] Standard Errors assume that the covariance matrix of the errors is correctly specified.<br/>[2] The condition number is large, 1.55e+08. This might indicate that there are<br/>strong multicollinearity or other numerical problems."
      ],
      "text/plain": [
       "<class 'statsmodels.iolib.summary.Summary'>\n",
       "\"\"\"\n",
       "                            OLS Regression Results                            \n",
       "==============================================================================\n",
       "Dep. Variable:       usd_pledged_real   R-squared:                       0.570\n",
       "Model:                            OLS   Adj. R-squared:                  0.570\n",
       "Method:                 Least Squares   F-statistic:                 1.020e+04\n",
       "Date:                Mon, 10 Dec 2018   Prob (F-statistic):               0.00\n",
       "Time:                        16:25:49   Log-Likelihood:            -3.7443e+06\n",
       "No. Observations:              300000   AIC:                         7.489e+06\n",
       "Df Residuals:                  299960   BIC:                         7.489e+06\n",
       "Df Model:                          39                                         \n",
       "Covariance Type:            nonrobust                                         \n",
       "=============================================================================================\n",
       "                                coef    std err          t      P>|t|      [0.025      0.975]\n",
       "---------------------------------------------------------------------------------------------\n",
       "Intercept                  3450.7312   3111.451      1.109      0.267   -2647.626    9549.088\n",
       "backers                      81.6410      0.131    625.567      0.000      81.385      81.897\n",
       "usd_goal_real                 0.0001      0.000      1.218      0.223    -7.6e-05       0.000\n",
       "days_to_deadline             55.0240      9.212      5.973      0.000      36.968      73.080\n",
       "main_category_Comics      -4485.7399    794.089     -5.649      0.000   -6042.132   -2929.348\n",
       "main_category_Crafts       -335.8376    867.037     -0.387      0.699   -2035.207    1363.531\n",
       "main_category_Dance         120.2061   1197.062      0.100      0.920   -2226.003    2466.415\n",
       "main_category_Design       5632.5627    595.369      9.461      0.000    4465.656    6799.470\n",
       "main_category_Fashion       977.1784    634.282      1.541      0.123    -265.996    2220.353\n",
       "main_category_Film_Video    866.7836    504.864      1.717      0.086    -122.735    1856.302\n",
       "main_category_Food          901.5585    615.431      1.465      0.143    -304.668    2107.785\n",
       "main_category_Games       -5728.9686    578.939     -9.896      0.000   -6863.672   -4594.265\n",
       "main_category_Journalism   -389.2036   1121.498     -0.347      0.729   -2587.309    1808.901\n",
       "main_category_Music        -594.3466    523.490     -1.135      0.256   -1620.373     431.680\n",
       "main_category_Photography   588.2919    798.961      0.736      0.462    -977.650    2154.233\n",
       "main_category_Publishing  -1155.1167    549.173     -2.103      0.035   -2231.479     -78.754\n",
       "main_category_Technology   9089.8603    586.786     15.491      0.000    7939.776    1.02e+04\n",
       "main_category_Theater       317.5430    783.302      0.405      0.685   -1217.706    1852.792\n",
       "country_AU                -7532.4593   3177.949     -2.370      0.018   -1.38e+04   -1303.769\n",
       "country_BE                -3459.4757   4247.638     -0.814      0.415   -1.18e+04    4865.775\n",
       "country_CA                -7326.2943   3128.170     -2.342      0.019   -1.35e+04   -1195.169\n",
       "country_CH                 2387.4095   4030.693      0.592      0.554   -5512.635    1.03e+04\n",
       "country_DE                -5483.4882   3278.479     -1.673      0.094   -1.19e+04     942.239\n",
       "country_DK                -6275.1678   3755.686     -1.671      0.095   -1.36e+04    1085.871\n",
       "country_ES                -6756.2285   3436.773     -1.966      0.049   -1.35e+04     -20.251\n",
       "country_FR                -4658.3805   3347.246     -1.392      0.164   -1.12e+04    1902.127\n",
       "country_GB                -5601.2224   3094.839     -1.810      0.070   -1.17e+04     464.575\n",
       "country_HK                -2338.1355   4337.373     -0.539      0.590   -1.08e+04    6162.993\n",
       "country_IE                -5991.5589   4004.442     -1.496      0.135   -1.38e+04    1857.036\n",
       "country_IT                -6177.1897   3366.893     -1.835      0.067   -1.28e+04     421.827\n",
       "country_JP                -6706.0129   1.39e+04     -0.481      0.630    -3.4e+04    2.06e+04\n",
       "country_LU                -2311.7797   9606.582     -0.241      0.810   -2.11e+04    1.65e+04\n",
       "country_MX                -7173.9357   3549.313     -2.021      0.043   -1.41e+04    -217.382\n",
       "country_N0                 1.206e+04   5543.823      2.175      0.030    1191.813    2.29e+04\n",
       "country_NL                -2715.6830   3360.412     -0.808      0.419   -9301.996    3870.630\n",
       "country_NO                -6350.7041   4156.360     -1.528      0.127   -1.45e+04    1795.645\n",
       "country_NZ                -6857.3367   3593.629     -1.908      0.056   -1.39e+04     186.075\n",
       "country_SE                -6172.3102   3520.527     -1.753      0.080   -1.31e+04     727.823\n",
       "country_SG                -7098.5204   4388.924     -1.617      0.106   -1.57e+04    1503.647\n",
       "country_US                -5290.5739   3073.053     -1.722      0.085   -1.13e+04     732.523\n",
       "==============================================================================\n",
       "Omnibus:                  1074743.615   Durbin-Watson:                   2.000\n",
       "Prob(Omnibus):                  0.000   Jarque-Bera (JB):    2178360176773.542\n",
       "Skew:                          72.196   Prob(JB):                         0.00\n",
       "Kurtosis:                   13203.302   Cond. No.                     1.55e+08\n",
       "==============================================================================\n",
       "\n",
       "Warnings:\n",
       "[1] Standard Errors assume that the covariance matrix of the errors is correctly specified.\n",
       "[2] The condition number is large, 1.55e+08. This might indicate that there are\n",
       "strong multicollinearity or other numerical problems.\n",
       "\"\"\""
      ]
     },
     "execution_count": 171,
     "metadata": {},
     "output_type": "execute_result"
    }
   ],
   "source": [
    "model_ols = ols(formula=formula, data=X.join(Y_regression)).fit()\n",
    "model_ols.summary()"
   ]
  },
  {
   "cell_type": "code",
   "execution_count": 190,
   "metadata": {},
   "outputs": [
    {
     "data": {
      "text/plain": [
       "Intercept                    False\n",
       "backers                       True\n",
       "usd_goal_real                False\n",
       "days_to_deadline              True\n",
       "main_category_Comics          True\n",
       "main_category_Crafts         False\n",
       "main_category_Dance          False\n",
       "main_category_Design          True\n",
       "main_category_Fashion        False\n",
       "main_category_Film_Video     False\n",
       "main_category_Food           False\n",
       "main_category_Games           True\n",
       "main_category_Journalism     False\n",
       "main_category_Music          False\n",
       "main_category_Photography    False\n",
       "main_category_Publishing      True\n",
       "main_category_Technology      True\n",
       "main_category_Theater        False\n",
       "country_AU                    True\n",
       "country_BE                   False\n",
       "country_CA                    True\n",
       "country_CH                   False\n",
       "country_DE                   False\n",
       "country_DK                   False\n",
       "country_ES                    True\n",
       "country_FR                   False\n",
       "country_GB                   False\n",
       "country_HK                   False\n",
       "country_IE                   False\n",
       "country_IT                   False\n",
       "country_JP                   False\n",
       "country_LU                   False\n",
       "country_MX                    True\n",
       "country_N0                    True\n",
       "country_NL                   False\n",
       "country_NO                   False\n",
       "country_NZ                   False\n",
       "country_SE                   False\n",
       "country_SG                   False\n",
       "country_US                   False\n",
       "dtype: bool"
      ]
     },
     "execution_count": 190,
     "metadata": {},
     "output_type": "execute_result"
    }
   ],
   "source": [
    "model_ols.pvalues < 0.05"
   ]
  },
  {
   "cell_type": "code",
   "execution_count": 173,
   "metadata": {},
   "outputs": [],
   "source": [
    "residuals = model_ols.resid\n",
    "pred_values = model_ols.predict()\n",
    "true_values = Y_regression\n",
    "actual_resid = true_values - pred_values"
   ]
  },
  {
   "cell_type": "code",
   "execution_count": 174,
   "metadata": {},
   "outputs": [
    {
     "data": {
      "image/png": "[encoded data removed]",
      "text/plain": [
       "<Figure size 864x432 with 1 Axes>"
      ]
     },
     "metadata": {},
     "output_type": "display_data"
    }
   ],
   "source": [
    "plt.figure(figsize=(12, 6))\n",
    "plt.scatter(pred_values, residuals)\n",
    "plt.axhline(y=0, c=\"red\")\n",
    "plt.title(\"Residuals vs Predicted values\")\n",
    "plt.ylabel(\"Residuals\")\n",
    "plt.xlabel(\"Predicted values\")\n",
    "plt.show()"
   ]
  },
  {
   "cell_type": "code",
   "execution_count": 177,
   "metadata": {},
   "outputs": [
    {
     "data": {
      "text/plain": [
       "(array([1.00000e+00, 5.00000e+00, 6.15000e+02, 2.99343e+05, 2.80000e+01,\n",
       "        4.00000e+00, 1.00000e+00, 1.00000e+00, 1.00000e+00, 1.00000e+00]),\n",
       " array([-6189167.51517155, -4177553.23437143, -2165938.95357131,\n",
       "         -154324.67277118,  1857289.60802894,  3868903.88882906,\n",
       "         5880518.16962919,  7892132.45042931,  9903746.73122944,\n",
       "        11915361.01202956, 13926975.29282968]),\n",
       " <a list of 10 Patch objects>)"
      ]
     },
     "execution_count": 177,
     "metadata": {},
     "output_type": "execute_result"
    },
    {
     "data": {
      "image/png": "[encoded data removed]",
      "text/plain": [
       "<Figure size 432x288 with 1 Axes>"
      ]
     },
     "metadata": {},
     "output_type": "display_data"
    }
   ],
   "source": [
    "plt.hist(residuals)"
   ]
  },
  {
   "cell_type": "code",
   "execution_count": 180,
   "metadata": {},
   "outputs": [
    {
     "data": {
      "image/png": "[encoded data removed]",
      "text/plain": [
       "<Figure size 432x288 with 1 Axes>"
      ]
     },
     "metadata": {},
     "output_type": "display_data"
    }
   ],
   "source": [
    "#QQ plot\n",
    "qqplot(residuals,fit=True, line='45')\n",
    "plt.show()"
   ]
  },
  {
   "cell_type": "code",
   "execution_count": 181,
   "metadata": {},
   "outputs": [
    {
     "name": "stdout",
     "output_type": "stream",
     "text": [
      "Stat: 0.06466072797775269 P: 0.0\n"
     ]
    },
    {
     "name": "stderr",
     "output_type": "stream",
     "text": [
      "C:\\Users\\8460p\\Anaconda3\\lib\\site-packages\\scipy\\stats\\morestats.py:1309: UserWarning: p-value may not be accurate for N > 5000.\n",
      "  warnings.warn(\"p-value may not be accurate for N > 5000.\")\n"
     ]
    }
   ],
   "source": [
    "#Shapiro-Wilk normality test. \n",
    "#The null-hypothesis of this test is that the data was drawn from a normal distribution\n",
    "#We reject the Null hypothesis which means that we can state with 95% confidence that our data is not normal\n",
    "stat, p = shapiro(residuals)\n",
    "print(\"Stat:\", stat,\"P:\", p)"
   ]
  },
  {
   "cell_type": "code",
   "execution_count": 237,
   "metadata": {},
   "outputs": [
    {
     "data": {
      "text/plain": [
       "(0.47541392471525484, 0.9999999999999999)"
      ]
     },
     "execution_count": 237,
     "metadata": {},
     "output_type": "execute_result"
    }
   ],
   "source": [
    "#Rainbow test for linearity\n",
    "#The Null hypothesis is that the regression is correctly modelled as linear\n",
    "#p-value is more than 0.05, which means that we fail to reject the null hypothesis\n",
    "linear_rainbow(model_ols)"
   ]
  },
  {
   "cell_type": "markdown",
   "metadata": {},
   "source": [
    "Model is linear"
   ]
  },
  {
   "cell_type": "markdown",
   "metadata": {},
   "source": [
    "# Final testing"
   ]
  },
  {
   "cell_type": "code",
   "execution_count": 186,
   "metadata": {},
   "outputs": [
    {
     "data": {
      "text/html": [
       "<div>\n",
       "<style scoped>\n",
       "    .dataframe tbody tr th:only-of-type {\n",
       "        vertical-align: middle;\n",
       "    }\n",
       "\n",
       "    .dataframe tbody tr th {\n",
       "        vertical-align: top;\n",
       "    }\n",
       "\n",
       "    .dataframe thead th {\n",
       "        text-align: right;\n",
       "    }\n",
       "</style>\n",
       "<table border=\"1\" class=\"dataframe\">\n",
       "  <thead>\n",
       "    <tr style=\"text-align: right;\">\n",
       "      <th></th>\n",
       "      <th>state</th>\n",
       "      <th>backers</th>\n",
       "      <th>usd_pledged_real</th>\n",
       "      <th>usd_goal_real</th>\n",
       "      <th>days_to_deadline</th>\n",
       "      <th>main_category_Comics</th>\n",
       "      <th>main_category_Crafts</th>\n",
       "      <th>main_category_Dance</th>\n",
       "      <th>main_category_Design</th>\n",
       "      <th>main_category_Fashion</th>\n",
       "      <th>...</th>\n",
       "      <th>country_JP</th>\n",
       "      <th>country_LU</th>\n",
       "      <th>country_MX</th>\n",
       "      <th>country_N0</th>\n",
       "      <th>country_NL</th>\n",
       "      <th>country_NO</th>\n",
       "      <th>country_NZ</th>\n",
       "      <th>country_SE</th>\n",
       "      <th>country_SG</th>\n",
       "      <th>country_US</th>\n",
       "    </tr>\n",
       "  </thead>\n",
       "  <tbody>\n",
       "    <tr>\n",
       "      <th>6</th>\n",
       "      <td>1</td>\n",
       "      <td>16</td>\n",
       "      <td>1205.00</td>\n",
       "      <td>1000.0</td>\n",
       "      <td>19</td>\n",
       "      <td>0</td>\n",
       "      <td>0</td>\n",
       "      <td>0</td>\n",
       "      <td>0</td>\n",
       "      <td>0</td>\n",
       "      <td>...</td>\n",
       "      <td>0</td>\n",
       "      <td>0</td>\n",
       "      <td>0</td>\n",
       "      <td>0</td>\n",
       "      <td>0</td>\n",
       "      <td>0</td>\n",
       "      <td>0</td>\n",
       "      <td>0</td>\n",
       "      <td>0</td>\n",
       "      <td>1</td>\n",
       "    </tr>\n",
       "    <tr>\n",
       "      <th>18</th>\n",
       "      <td>1</td>\n",
       "      <td>7</td>\n",
       "      <td>250.00</td>\n",
       "      <td>250.0</td>\n",
       "      <td>14</td>\n",
       "      <td>0</td>\n",
       "      <td>0</td>\n",
       "      <td>0</td>\n",
       "      <td>0</td>\n",
       "      <td>0</td>\n",
       "      <td>...</td>\n",
       "      <td>0</td>\n",
       "      <td>0</td>\n",
       "      <td>0</td>\n",
       "      <td>0</td>\n",
       "      <td>0</td>\n",
       "      <td>0</td>\n",
       "      <td>0</td>\n",
       "      <td>0</td>\n",
       "      <td>0</td>\n",
       "      <td>1</td>\n",
       "    </tr>\n",
       "    <tr>\n",
       "      <th>21</th>\n",
       "      <td>0</td>\n",
       "      <td>1</td>\n",
       "      <td>0.81</td>\n",
       "      <td>2026.1</td>\n",
       "      <td>29</td>\n",
       "      <td>0</td>\n",
       "      <td>0</td>\n",
       "      <td>0</td>\n",
       "      <td>0</td>\n",
       "      <td>1</td>\n",
       "      <td>...</td>\n",
       "      <td>0</td>\n",
       "      <td>0</td>\n",
       "      <td>0</td>\n",
       "      <td>0</td>\n",
       "      <td>0</td>\n",
       "      <td>0</td>\n",
       "      <td>0</td>\n",
       "      <td>0</td>\n",
       "      <td>0</td>\n",
       "      <td>0</td>\n",
       "    </tr>\n",
       "    <tr>\n",
       "      <th>39</th>\n",
       "      <td>1</td>\n",
       "      <td>277</td>\n",
       "      <td>17499.99</td>\n",
       "      <td>15000.0</td>\n",
       "      <td>29</td>\n",
       "      <td>0</td>\n",
       "      <td>0</td>\n",
       "      <td>0</td>\n",
       "      <td>0</td>\n",
       "      <td>0</td>\n",
       "      <td>...</td>\n",
       "      <td>0</td>\n",
       "      <td>0</td>\n",
       "      <td>0</td>\n",
       "      <td>0</td>\n",
       "      <td>0</td>\n",
       "      <td>0</td>\n",
       "      <td>0</td>\n",
       "      <td>0</td>\n",
       "      <td>0</td>\n",
       "      <td>1</td>\n",
       "    </tr>\n",
       "    <tr>\n",
       "      <th>41</th>\n",
       "      <td>1</td>\n",
       "      <td>34</td>\n",
       "      <td>2100.00</td>\n",
       "      <td>2100.0</td>\n",
       "      <td>10</td>\n",
       "      <td>0</td>\n",
       "      <td>0</td>\n",
       "      <td>0</td>\n",
       "      <td>0</td>\n",
       "      <td>0</td>\n",
       "      <td>...</td>\n",
       "      <td>0</td>\n",
       "      <td>0</td>\n",
       "      <td>0</td>\n",
       "      <td>0</td>\n",
       "      <td>0</td>\n",
       "      <td>0</td>\n",
       "      <td>0</td>\n",
       "      <td>0</td>\n",
       "      <td>0</td>\n",
       "      <td>1</td>\n",
       "    </tr>\n",
       "  </tbody>\n",
       "</table>\n",
       "<p>5 rows × 41 columns</p>\n",
       "</div>"
      ],
      "text/plain": [
       "    state  backers  usd_pledged_real  usd_goal_real  days_to_deadline  \\\n",
       "6       1       16           1205.00         1000.0                19   \n",
       "18      1        7            250.00          250.0                14   \n",
       "21      0        1              0.81         2026.1                29   \n",
       "39      1      277          17499.99        15000.0                29   \n",
       "41      1       34           2100.00         2100.0                10   \n",
       "\n",
       "    main_category_Comics  main_category_Crafts  main_category_Dance  \\\n",
       "6                      0                     0                    0   \n",
       "18                     0                     0                    0   \n",
       "21                     0                     0                    0   \n",
       "39                     0                     0                    0   \n",
       "41                     0                     0                    0   \n",
       "\n",
       "    main_category_Design  main_category_Fashion     ...      country_JP  \\\n",
       "6                      0                      0     ...               0   \n",
       "18                     0                      0     ...               0   \n",
       "21                     0                      1     ...               0   \n",
       "39                     0                      0     ...               0   \n",
       "41                     0                      0     ...               0   \n",
       "\n",
       "    country_LU  country_MX  country_N0  country_NL  country_NO  country_NZ  \\\n",
       "6            0           0           0           0           0           0   \n",
       "18           0           0           0           0           0           0   \n",
       "21           0           0           0           0           0           0   \n",
       "39           0           0           0           0           0           0   \n",
       "41           0           0           0           0           0           0   \n",
       "\n",
       "    country_SE  country_SG  country_US  \n",
       "6            0           0           1  \n",
       "18           0           0           1  \n",
       "21           0           0           0  \n",
       "39           0           0           1  \n",
       "41           0           0           1  \n",
       "\n",
       "[5 rows x 41 columns]"
      ]
     },
     "execution_count": 186,
     "metadata": {},
     "output_type": "execute_result"
    }
   ],
   "source": [
    "final_test_data.head()"
   ]
  },
  {
   "cell_type": "code",
   "execution_count": 189,
   "metadata": {},
   "outputs": [],
   "source": [
    "x_final = final_test_data.drop([\"state\", \"usd_pledged_real\"], axis=1)\n",
    "y_final_class = final_test_data.state\n",
    "y_final_regr = final_test_data.usd_pledged_real"
   ]
  },
  {
   "cell_type": "code",
   "execution_count": 193,
   "metadata": {},
   "outputs": [
    {
     "name": "stdout",
     "output_type": "stream",
     "text": [
      "\n",
      " Logistic Regression \n",
      "\n",
      "Final score: 0.754759273875296\n"
     ]
    },
    {
     "data": {
      "image/png": "[encoded data removed]",
      "text/plain": [
       "<Figure size 432x288 with 2 Axes>"
      ]
     },
     "metadata": {},
     "output_type": "display_data"
    },
    {
     "name": "stdout",
     "output_type": "stream",
     "text": [
      "             precision    recall  f1-score   support\n",
      "\n",
      "          0       0.78      0.83      0.80     18820\n",
      "          1       0.72      0.65      0.68     12855\n",
      "\n",
      "avg / total       0.75      0.75      0.75     31675\n",
      "\n",
      "ROC_AUC 0.7383825291580951\n",
      "Accuracy 0.754759273875296\n",
      "Recall 0.6514196810579541\n",
      "\n",
      " Decision Tree \n",
      "\n",
      "Final score: 0.9217995264404104\n"
     ]
    },
    {
     "data": {
      "image/png": "[encoded data removed]",
      "text/plain": [
       "<Figure size 432x288 with 2 Axes>"
      ]
     },
     "metadata": {},
     "output_type": "display_data"
    },
    {
     "name": "stdout",
     "output_type": "stream",
     "text": [
      "             precision    recall  f1-score   support\n",
      "\n",
      "          0       0.95      0.91      0.93     18820\n",
      "          1       0.88      0.94      0.91     12855\n",
      "\n",
      "avg / total       0.92      0.92      0.92     31675\n",
      "\n",
      "ROC_AUC 0.9239108882652953\n",
      "Accuracy 0.9217995264404104\n",
      "Recall 0.93512252042007\n",
      "\n",
      " Random Forest \n",
      "\n",
      "Final score: 0.8959116022099447\n"
     ]
    },
    {
     "data": {
      "image/png": "[encoded data removed]",
      "text/plain": [
       "<Figure size 432x288 with 2 Axes>"
      ]
     },
     "metadata": {},
     "output_type": "display_data"
    },
    {
     "name": "stdout",
     "output_type": "stream",
     "text": [
      "             precision    recall  f1-score   support\n",
      "\n",
      "          0       0.92      0.91      0.91     18820\n",
      "          1       0.87      0.88      0.87     12855\n",
      "\n",
      "avg / total       0.90      0.90      0.90     31675\n",
      "\n",
      "ROC_AUC 0.8932618005704931\n",
      "Accuracy 0.8959116022099447\n",
      "Recall 0.8791909762738234\n",
      "\n",
      " Gradient Boosting \n",
      "\n",
      "Final score: 0.9345224940805051\n"
     ]
    },
    {
     "data": {
      "image/png": "[encoded data removed]",
      "text/plain": [
       "<Figure size 432x288 with 2 Axes>"
      ]
     },
     "metadata": {},
     "output_type": "display_data"
    },
    {
     "name": "stdout",
     "output_type": "stream",
     "text": [
      "             precision    recall  f1-score   support\n",
      "\n",
      "          0       0.95      0.94      0.94     18820\n",
      "          1       0.91      0.93      0.92     12855\n",
      "\n",
      "avg / total       0.93      0.93      0.93     31675\n",
      "\n",
      "ROC_AUC 0.9334341058259975\n",
      "Accuracy 0.9345224940805051\n",
      "Recall 0.9276546091015169\n"
     ]
    }
   ],
   "source": [
    "for model_name, model in models.items():\n",
    "    print(\"\\n\", model_name, \"\\n\")\n",
    "    print(\"Final score:\", model.score(x_final, y_final_class))\n",
    "    pred = model.predict(x_final)\n",
    "    sns.heatmap(confusion_matrix(y_final_class, pred).T, annot=True)\n",
    "    plt.xlabel(\"Real\")\n",
    "    plt.ylabel(\"Predicted\")\n",
    "    plt.show()\n",
    "    print(classification_report(y_final_class, pred))\n",
    "    for score_name, score in scores.items():\n",
    "        print(score_name, score(y_final_class, pred))"
   ]
  },
  {
   "cell_type": "code",
   "execution_count": 204,
   "metadata": {},
   "outputs": [],
   "source": [
    "cf = confusion_matrix(y_final_class, np.where(net.predict_proba(x_final) > 0.5, 1, 0))"
   ]
  },
  {
   "cell_type": "code",
   "execution_count": 205,
   "metadata": {},
   "outputs": [
    {
     "data": {
      "text/plain": [
       "Text(33,0.5,'Predicted')"
      ]
     },
     "execution_count": 205,
     "metadata": {},
     "output_type": "execute_result"
    },
    {
     "data": {
      "image/png": "[encoded data removed]",
      "text/plain": [
       "<Figure size 432x288 with 2 Axes>"
      ]
     },
     "metadata": {},
     "output_type": "display_data"
    }
   ],
   "source": [
    "sns.heatmap(cf.T, annot=True)\n",
    "plt.xlabel(\"Real\")\n",
    "plt.ylabel(\"Predicted\")"
   ]
  },
  {
   "cell_type": "code",
   "execution_count": 208,
   "metadata": {},
   "outputs": [
    {
     "data": {
      "text/plain": [
       "0.4949726850519497"
      ]
     },
     "execution_count": 208,
     "metadata": {},
     "output_type": "execute_result"
    }
   ],
   "source": [
    "r2_score(y_final_regr, model_ols.predict(x_final))"
   ]
  },
  {
   "cell_type": "code",
   "execution_count": 215,
   "metadata": {},
   "outputs": [],
   "source": [
    "models = {\"Logistic Regression\": logreg, \"Decision Tree\": tree, \"Random Forest\": rand_forest, \"Gradient Boosting\": grad_boost}\n",
    "\n",
    "scores = {\"ROC_AUC\": roc_auc_score, \"Accuracy\": accuracy_score, \"Recall\": recall_score}"
   ]
  },
  {
   "cell_type": "code",
   "execution_count": 258,
   "metadata": {},
   "outputs": [
    {
     "data": {
      "text/html": [
       "<div>\n",
       "<style scoped>\n",
       "    .dataframe tbody tr th:only-of-type {\n",
       "        vertical-align: middle;\n",
       "    }\n",
       "\n",
       "    .dataframe tbody tr th {\n",
       "        vertical-align: top;\n",
       "    }\n",
       "\n",
       "    .dataframe thead th {\n",
       "        text-align: right;\n",
       "    }\n",
       "</style>\n",
       "<table border=\"1\" class=\"dataframe\">\n",
       "  <thead>\n",
       "    <tr style=\"text-align: right;\">\n",
       "      <th></th>\n",
       "      <th>Logistic Regression</th>\n",
       "      <th>Decision Tree</th>\n",
       "      <th>Random Forest</th>\n",
       "      <th>Gradient Boosting</th>\n",
       "    </tr>\n",
       "  </thead>\n",
       "  <tbody>\n",
       "    <tr>\n",
       "      <th>ROC_AUC</th>\n",
       "      <td>74.0</td>\n",
       "      <td>92.0</td>\n",
       "      <td>89.0</td>\n",
       "      <td>93.0</td>\n",
       "    </tr>\n",
       "    <tr>\n",
       "      <th>Accuracy</th>\n",
       "      <td>75.0</td>\n",
       "      <td>92.0</td>\n",
       "      <td>89.0</td>\n",
       "      <td>93.0</td>\n",
       "    </tr>\n",
       "    <tr>\n",
       "      <th>Recall</th>\n",
       "      <td>65.0</td>\n",
       "      <td>93.0</td>\n",
       "      <td>88.0</td>\n",
       "      <td>93.0</td>\n",
       "    </tr>\n",
       "    <tr>\n",
       "      <th>Train</th>\n",
       "      <td>75.0</td>\n",
       "      <td>92.0</td>\n",
       "      <td>89.0</td>\n",
       "      <td>94.0</td>\n",
       "    </tr>\n",
       "    <tr>\n",
       "      <th>Test</th>\n",
       "      <td>75.0</td>\n",
       "      <td>92.0</td>\n",
       "      <td>89.0</td>\n",
       "      <td>93.0</td>\n",
       "    </tr>\n",
       "  </tbody>\n",
       "</table>\n",
       "</div>"
      ],
      "text/plain": [
       "          Logistic Regression  Decision Tree  Random Forest  Gradient Boosting\n",
       "ROC_AUC                  74.0           92.0           89.0               93.0\n",
       "Accuracy                 75.0           92.0           89.0               93.0\n",
       "Recall                   65.0           93.0           88.0               93.0\n",
       "Train                    75.0           92.0           89.0               94.0\n",
       "Test                     75.0           92.0           89.0               93.0"
      ]
     },
     "execution_count": 258,
     "metadata": {},
     "output_type": "execute_result"
    }
   ],
   "source": [
    "report = pd.DataFrame()\n",
    "for model_name, model in models.items():\n",
    "    pred = model.predict(x_test)\n",
    "    score_list = [score(y_test, pred) for score in scores.values()]\n",
    "    score_list.append(model.score(x_train, y_train))\n",
    "    score_list.append(model.score(x_test, y_test))\n",
    "    report[model_name] = score_list\n",
    "index = [score_name for score_name in scores.keys()]\n",
    "index.append(\"Train\")\n",
    "index.append(\"Test\")\n",
    "report.index = index\n",
    "report = report.round(2) * 100\n",
    "report"
   ]
  },
  {
   "cell_type": "code",
   "execution_count": 260,
   "metadata": {},
   "outputs": [],
   "source": [
    "report.to_csv(\"report.csv\")"
   ]
  },
  {
   "cell_type": "code",
   "execution_count": null,
   "metadata": {},
   "outputs": [],
   "source": []
  }
 ],
 "metadata": {
  "kernelspec": {
   "display_name": "Python 3",
   "language": "python",
   "name": "python3"
  },
  "language_info": {
   "codemirror_mode": {
    "name": "ipython",
    "version": 3
   },
   "file_extension": ".py",
   "mimetype": "text/x-python",
   "name": "python",
   "nbconvert_exporter": "python",
   "pygments_lexer": "ipython3",
   "version": "3.6.5"
  }
 },
 "nbformat": 4,
 "nbformat_minor": 2
}
